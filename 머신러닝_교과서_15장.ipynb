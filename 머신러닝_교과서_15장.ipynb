{
  "cells": [
    {
      "cell_type": "markdown",
      "metadata": {
        "id": "view-in-github",
        "colab_type": "text"
      },
      "source": [
        "<a href=\"https://colab.research.google.com/github/MinjuKim0217/Python-Machine-Learning-Book/blob/main/%EB%A8%B8%EC%8B%A0%EB%9F%AC%EB%8B%9D_%EA%B5%90%EA%B3%BC%EC%84%9C_15%EC%9E%A5.ipynb\" target=\"_parent\"><img src=\"https://colab.research.google.com/assets/colab-badge.svg\" alt=\"Open In Colab\"/></a>"
      ]
    },
    {
      "cell_type": "markdown",
      "metadata": {
        "id": "bmTf8Nr0ifCU"
      },
      "source": [
        "# 머신 러닝 교과서 3판"
      ]
    },
    {
      "cell_type": "markdown",
      "metadata": {
        "id": "urDF4hh_ifCV"
      },
      "source": [
        "# 15장 - 심층 합성곱 신경망으로 이미지 분류 (1/2)"
      ]
    },
    {
      "cell_type": "markdown",
      "metadata": {
        "id": "R5cTA0rXifCV"
      },
      "source": [
        "**아래 링크를 통해 이 노트북을 주피터 노트북 뷰어(nbviewer.jupyter.org)로 보거나 구글 코랩(colab.research.google.com)에서 실행할 수 있습니다.**\n",
        "\n",
        "<table class=\"tfo-notebook-buttons\" align=\"left\">\n",
        "  <td>\n",
        "    <a target=\"_blank\" href=\"https://nbviewer.org/github/rickiepark/python-machine-learning-book-3rd-edition/blob/master/ch15/ch15_part1.ipynb\"><img src=\"https://jupyter.org/assets/share.png\" width=\"60\" />주피터 노트북 뷰어로 보기</a>\n",
        "  </td>\n",
        "  <td>\n",
        "    <a target=\"_blank\" href=\"https://colab.research.google.com/github/rickiepark/python-machine-learning-book-3rd-edition/blob/master/ch15/ch15_part1.ipynb\"><img src=\"https://www.tensorflow.org/images/colab_logo_32px.png\" />구글 코랩(Colab)에서 실행하기</a>\n",
        "  </td>\n",
        "</table>"
      ]
    },
    {
      "cell_type": "markdown",
      "metadata": {
        "id": "f27nCXbrifCW"
      },
      "source": [
        "### 목차"
      ]
    },
    {
      "cell_type": "markdown",
      "metadata": {
        "id": "2_7fyte5ifCW"
      },
      "source": [
        "- 합성곱 신경망의 구성 요소\n",
        "    - CNN과 특성 계층 학습\n",
        "    - 이산 합성곱 수행\n",
        "        - 1차원 이산 합성곱 수행\n",
        "        - 출력 특성 맵의 크기를 조절하기 위해 입력에 패딩하기\n",
        "        - 합성곱 출력 크기 계산\n",
        "        - 2D 이산 합성곱 수행\n",
        "    - 서브샘플링\n",
        "- 기본 구성 요소를 사용하여 심층 합성곱 신경망 구성\n",
        "    - 여러 개의 입력 또는 컬러 채널 다루기\n",
        "    - 드롭아웃으로 신경망 규제\n",
        "    - 분류를 위한 손실 함수\n",
        "- 텐서플로를 사용하여 심층 합성곱 신경망 구현\n",
        "    - 다층 CNN 구조\n",
        "    - 데이터 적재와 전처리\n",
        "    - 텐서플로 케라스 API를 사용해 CNN 구현하기\n",
        "        - 케라스에서 CNN 층 설정하기\n",
        "        - 케라스로 CNN 구성하기"
      ]
    },
    {
      "cell_type": "code",
      "execution_count": 40,
      "metadata": {
        "id": "177002meifCW"
      },
      "outputs": [],
      "source": [
        "from IPython.display import Image"
      ]
    },
    {
      "cell_type": "markdown",
      "metadata": {
        "id": "QhoWUw-DifCW"
      },
      "source": [
        "## 합성곱 신경망의 구성 요소\n",
        "\n",
        "### CNN과 특성 계층 학습"
      ]
    },
    {
      "cell_type": "markdown",
      "source": [
        "CNN과 같은 종류의 신경망은 원본 데이터에서 작업엥 가장 유용한 특성을 자동으로 학습할 수 있다. 이 때문에 CNN층을 특성 추출기로 생각하기도 함.\n",
        "\n",
        "특정 종류의 다층 신경망과 특히 심층 합성곱 신경망은 각 층별로 저수준 특성을 연결하여 고수준 특성을 만듦으로서 소위 특성 계층을 구성하낟. \n",
        "\n"
      ],
      "metadata": {
        "id": "2F-k1ForJNcs"
      }
    },
    {
      "cell_type": "code",
      "execution_count": 41,
      "metadata": {
        "colab": {
          "base_uri": "https://localhost:8080/",
          "height": 303
        },
        "id": "Z1yJcNPqifCW",
        "outputId": "6019a7df-5da0-42b2-de25-7d77a3b01ae9"
      },
      "outputs": [
        {
          "output_type": "execute_result",
          "data": {
            "text/plain": [
              "<IPython.core.display.Image object>"
            ],
            "text/html": [
              "<img src=\"https://git.io/JL5O3\" width=\"700\"/>"
            ]
          },
          "metadata": {},
          "execution_count": 41
        }
      ],
      "source": [
        "Image(url='https://git.io/JL5O3', width=700)"
      ]
    },
    {
      "cell_type": "markdown",
      "source": [
        "CNN은 입력 이미지에 특성 맵을 만든다. 이 맵의 각 원소는 입력 이미지의 국부적인 픽셀 패치에서 유도된다. \n",
        "\n",
        "이런 국부적인 픽셀 패치를 **국부 수용장**이라고 말한다. CNN은 다음 두가지 이유 덕분에 이미지 관련 작업을 잘 한다. \n",
        "\n",
        "- **희소연결**: 특성 맵에 있는 하나의 원소는 작은 픽셀 패치 하나에만 연결된다. \n",
        "- **파라미터 공유**: 동일한 가중치가 입력 이미지의 모든 패치에 사용된다.\n",
        "\n",
        "\n",
        "\n",
        "이 두 아이디어로 fully-connected MLP을 CNN으로 바꾸면 네트워크 가중치 개수가 극적으로 감소하고 중요 특징을 잡아내는 능력이 향상된다. \n",
        "\n",
        "---\n",
        "\n",
        "CNN은 여러개의 합성곱과 풀일이라고도 하는 서브샘플링 층으로 이루어져 있는데 마지막에는 하나 이상의 완전 연결 층이 따라오게 된다.\n",
        "\n",
        "풀링 층으로 알려진 서브 샘플링 층은 학습되는 파라미터가 없다. 즉, 풀링 층에는 가중치나 절편 유닛이 없다. \n",
        "\n"
      ],
      "metadata": {
        "id": "6a9Iuk3VJnKv"
      }
    },
    {
      "cell_type": "markdown",
      "metadata": {
        "id": "n1CfLNUSifCX"
      },
      "source": [
        "### 이산 합성곱 수행\n",
        "\n",
        "#### 1차원 이산 합성곱 수행\n",
        "\n",
        "합성곱 공식에서의 덧셈을 올바르게 계산하기 위해선 x와 w가 0으로 채워져 있다고 가정해야 한다. \n",
        "\n",
        "또, 출력 벡터 y도 0으로 채워진 무한 크기가 되는데 이는 실제 상황에서는 유용하지 않기 때문에 유한한 개수의 0으로 x가 패딩된다. \n",
        "\n",
        "이 과정을 **제로 패딩** 혹은 **패딩** 이라고 한다. "
      ]
    },
    {
      "cell_type": "code",
      "execution_count": 42,
      "metadata": {
        "colab": {
          "base_uri": "https://localhost:8080/",
          "height": 277
        },
        "id": "GKOpZy2TifCX",
        "outputId": "dfe45598-457c-4a46-d587-55e9d3a90451"
      },
      "outputs": [
        {
          "output_type": "execute_result",
          "data": {
            "text/plain": [
              "<IPython.core.display.Image object>"
            ],
            "text/html": [
              "<img src=\"https://git.io/JL5On\" width=\"700\"/>"
            ]
          },
          "metadata": {},
          "execution_count": 42
        }
      ],
      "source": [
        "Image(url='https://git.io/JL5On', width=700)"
      ]
    },
    {
      "cell_type": "markdown",
      "source": [
        "하나가 반대 방향으로 인덱싱되는 계산은 패딩된 후 x또는 w벡터 중 하나를 뒤집어 계산하는것과 동일하다. \n",
        "\n",
        "패딩의 크기가 0일때 stride가 2일 때 나오는 y의 값은 (7,9, 8)이다. "
      ],
      "metadata": {
        "id": "ZRepxXXuZwdz"
      }
    },
    {
      "cell_type": "code",
      "execution_count": 43,
      "metadata": {
        "colab": {
          "base_uri": "https://localhost:8080/",
          "height": 452
        },
        "id": "E3J3_NTNifCY",
        "outputId": "6029501f-0bb0-4ce6-8284-cf6a829f4ca0"
      },
      "outputs": [
        {
          "output_type": "execute_result",
          "data": {
            "text/plain": [
              "<IPython.core.display.Image object>"
            ],
            "text/html": [
              "<img src=\"https://git.io/JL5O8\" width=\"700\"/>"
            ]
          },
          "metadata": {},
          "execution_count": 43
        }
      ],
      "source": [
        "Image(url='https://git.io/JL5O8', width=700)"
      ]
    },
    {
      "cell_type": "markdown",
      "metadata": {
        "id": "4FylyB5IifCY"
      },
      "source": [
        "#### 출력 특성 맵의 크기를 조절하기 위해 입력에 패딩하기"
      ]
    },
    {
      "cell_type": "markdown",
      "source": [
        "패딩의 크기에 따라 특정 인덱스의 셀이 강조될수도 있다. \n",
        "\n",
        "실전에서 자주 사용하는 세 개의 패딩 방법은 풀 패딩, 세임 패딩, 밸리드 패딩이다. \n",
        "\n",
        "- Full padding: 파라미터 p를 p=m-1로 설정한다. 폴 패딩은 크기를 증가시키기 때문에 합성곱 신경망 구조에서는 거의 사용되지 않음\n",
        "  - 입력보다 출력 크기를 증가시키므로 경계 부분의 영향을 최소화하는 것이 중요한 신호 처리에 보통 많이 사용된다. \n",
        "- Same padding: 출력 크기가 입력 벡터 x와 같아야 할 때 사용한다. 이때 패딩 파라미터 p는 입력과 출력 크기가 동일해야 하기 때문에 필터 크기에 따라 결정된다.\n",
        "  - 합성곱 신경망에서 제일 많이 쓰인다 ; 벡터의 크기를 그대로 유지시키기 때문\n",
        "  - 실전에서는 same padding으로 높이와 너비를 유지시키고 풀링에서 크기를 감소시킨다. \n",
        "- Valid padding: 패딩이 없는것을 말함\n",
        "  - 신경망에 층이 추가될수록 점진적으로 텐서의 크기가 줄어들어 신경망의 성능을 나쁘게 만들수도 있다."
      ],
      "metadata": {
        "id": "_f3A2K2xa3wQ"
      }
    },
    {
      "cell_type": "code",
      "execution_count": 44,
      "metadata": {
        "colab": {
          "base_uri": "https://localhost:8080/",
          "height": 210
        },
        "id": "atIWe4jRifCY",
        "outputId": "e4a6992f-733a-4a0d-f35a-0867c6ceefe7"
      },
      "outputs": [
        {
          "output_type": "execute_result",
          "data": {
            "text/plain": [
              "<IPython.core.display.Image object>"
            ],
            "text/html": [
              "<img src=\"https://git.io/JL5Ow\" width=\"700\"/>"
            ]
          },
          "metadata": {},
          "execution_count": 44
        }
      ],
      "source": [
        "Image(url='https://git.io/JL5Ow', width=700)"
      ]
    },
    {
      "cell_type": "markdown",
      "metadata": {
        "id": "fjCOUYGWifCY"
      },
      "source": [
        "#### 합성곱 출력 크기 계산"
      ]
    },
    {
      "cell_type": "code",
      "execution_count": 45,
      "metadata": {
        "colab": {
          "base_uri": "https://localhost:8080/"
        },
        "id": "kLmHMacdifCY",
        "outputId": "470a97d9-71df-48f0-f7b7-a2bb65066f28"
      },
      "outputs": [
        {
          "output_type": "stream",
          "name": "stdout",
          "text": [
            "텐서플로 버전: 2.8.2\n",
            "넘파이 버전:  1.21.6\n"
          ]
        }
      ],
      "source": [
        "import tensorflow as tf\n",
        "import numpy as np\n",
        "\n",
        "print('텐서플로 버전:', tf.__version__)\n",
        "print('넘파이 버전: ', np.__version__)"
      ]
    },
    {
      "cell_type": "code",
      "execution_count": 46,
      "metadata": {
        "colab": {
          "base_uri": "https://localhost:8080/"
        },
        "id": "15FDd_AMifCZ",
        "outputId": "71f9d5d8-319e-4a86-9810-bad5120f99c5"
      },
      "outputs": [
        {
          "output_type": "stream",
          "name": "stdout",
          "text": [
            "Conv1d 구현: [ 5. 14. 16. 26. 24. 34. 19. 22.]\n",
            "넘파이 결과: [ 5 14 16 26 24 34 19 22]\n"
          ]
        }
      ],
      "source": [
        "def conv1d(x, w, p=0, s=1):\n",
        "    w_rot = np.array(w[::-1])\n",
        "    x_padded = np.array(x)\n",
        "    if p > 0:\n",
        "        zero_pad = np.zeros(shape=p)\n",
        "        x_padded = np.concatenate(\n",
        "            [zero_pad, x_padded, zero_pad])\n",
        "    res = []\n",
        "    for i in range(0, int((len(x_padded) - len(w_rot)) / s) + 1, s):\n",
        "        res.append(np.sum(\n",
        "            x_padded[i:i+w_rot.shape[0]] * w_rot))\n",
        "    return np.array(res)\n",
        "\n",
        "\n",
        "## 테스트:\n",
        "x = [1, 3, 2, 4, 5, 6, 1, 3]\n",
        "w = [1, 0, 3, 1, 2]\n",
        "\n",
        "print('Conv1d 구현:',\n",
        "      conv1d(x, w, p=2, s=1))\n",
        "\n",
        "print('넘파이 결과:',\n",
        "      np.convolve(x, w, mode='same')) "
      ]
    },
    {
      "cell_type": "markdown",
      "metadata": {
        "id": "22WjlUkgifCZ"
      },
      "source": [
        "#### 2D 이산 합성곱 수행"
      ]
    },
    {
      "cell_type": "code",
      "execution_count": 47,
      "metadata": {
        "colab": {
          "base_uri": "https://localhost:8080/",
          "height": 412
        },
        "id": "vOAuCO9kifCZ",
        "outputId": "218b5b7e-d6bd-4287-b971-22652ec106e5"
      },
      "outputs": [
        {
          "output_type": "execute_result",
          "data": {
            "text/plain": [
              "<IPython.core.display.Image object>"
            ],
            "text/html": [
              "<img src=\"https://git.io/JL5OP\" width=\"700\"/>"
            ]
          },
          "metadata": {},
          "execution_count": 47
        }
      ],
      "source": [
        "Image(url='https://git.io/JL5OP', width=700)"
      ]
    },
    {
      "cell_type": "code",
      "execution_count": 48,
      "metadata": {
        "colab": {
          "base_uri": "https://localhost:8080/",
          "height": 350
        },
        "id": "il5jQ-mZifCZ",
        "outputId": "19a522aa-a10b-4068-8db5-3123080f69c2",
        "scrolled": true
      },
      "outputs": [
        {
          "output_type": "execute_result",
          "data": {
            "text/plain": [
              "<IPython.core.display.Image object>"
            ],
            "text/html": [
              "<img src=\"https://git.io/JL5OD\" width=\"600\"/>"
            ]
          },
          "metadata": {},
          "execution_count": 48
        }
      ],
      "source": [
        "Image(url='https://git.io/JL5OD', width=600)"
      ]
    },
    {
      "cell_type": "code",
      "execution_count": 49,
      "metadata": {
        "colab": {
          "base_uri": "https://localhost:8080/",
          "height": 372
        },
        "id": "TVLqLnMXifCa",
        "outputId": "1760687e-5c34-416c-e918-4308733f112a"
      },
      "outputs": [
        {
          "output_type": "execute_result",
          "data": {
            "text/plain": [
              "<IPython.core.display.Image object>"
            ],
            "text/html": [
              "<img src=\"https://git.io/JL5OS\" width=\"800\"/>"
            ]
          },
          "metadata": {},
          "execution_count": 49
        }
      ],
      "source": [
        "Image(url='https://git.io/JL5OS', width=800)"
      ]
    },
    {
      "cell_type": "code",
      "execution_count": 50,
      "metadata": {
        "colab": {
          "base_uri": "https://localhost:8080/"
        },
        "id": "I8VBXnCjifCa",
        "outputId": "4d9424c4-56ff-465a-fd5b-04d9b2ba9380"
      },
      "outputs": [
        {
          "output_type": "stream",
          "name": "stdout",
          "text": [
            "Conv2d 구현:\n",
            " [[11. 25. 32. 13.]\n",
            " [19. 25. 24. 13.]\n",
            " [13. 28. 25. 17.]\n",
            " [11. 17. 14.  9.]]\n",
            "싸이파이 결과:\n",
            " [[11 25 32 13]\n",
            " [19 25 24 13]\n",
            " [13 28 25 17]\n",
            " [11 17 14  9]]\n"
          ]
        }
      ],
      "source": [
        "import scipy.signal\n",
        "\n",
        "\n",
        "def conv2d(X, W, p=(0, 0), s=(1, 1)):\n",
        "    W_rot = np.array(W)[::-1,::-1]\n",
        "    X_orig = np.array(X)\n",
        "    n1 = X_orig.shape[0] + 2*p[0]\n",
        "    n2 = X_orig.shape[1] + 2*p[1]\n",
        "    X_padded = np.zeros(shape=(n1, n2))\n",
        "    X_padded[p[0]:p[0]+X_orig.shape[0],\n",
        "    p[1]:p[1]+X_orig.shape[1]] = X_orig\n",
        "\n",
        "    res = []\n",
        "    for i in range(0, int((X_padded.shape[0] - \n",
        "                           W_rot.shape[0])/s[0])+1, s[0]):\n",
        "        res.append([])\n",
        "        for j in range(0, int((X_padded.shape[1] - \n",
        "                               W_rot.shape[1])/s[1])+1, s[1]):\n",
        "            X_sub = X_padded[i:i+W_rot.shape[0],\n",
        "                             j:j+W_rot.shape[1]]\n",
        "            res[-1].append(np.sum(X_sub * W_rot))\n",
        "    return(np.array(res))\n",
        "\n",
        "X = [[1, 3, 2, 4], [5, 6, 1, 3], [1, 2, 0, 2], [3, 4, 3, 2]]\n",
        "W = [[1, 0, 3], [1, 2, 1], [0, 1, 1]]\n",
        "\n",
        "print('Conv2d 구현:\\n',\n",
        "    conv2d(X, W, p=(1, 1), s=(1, 1)))\n",
        "\n",
        "\n",
        "print('싸이파이 결과:\\n',\n",
        "    scipy.signal.convolve2d(X, W, mode='same'))"
      ]
    },
    {
      "cell_type": "markdown",
      "metadata": {
        "id": "RHePysibifCa"
      },
      "source": [
        "### 서브샘플링\n",
        "\n",
        "풀링의 장점:\n",
        "\n",
        "- 최대 풀링은 지역 불변성을 만든다. 즉, 국부적인 작은 변화가 최대 풀링의 결과를 바꾸지 못한다.  입력 데이터에 있는 잡음에 좀 더 안정적인 특성을 생성한다. \n",
        "- 풀링은 특성 크기를 줄이므로 계산 효율성을 높인다. 또 특성 개수가 줄어들면 과대적합도 감소한다. \n",
        "\n",
        "전통적으로는 풀링은 겹치지 않는다고 가정한다. 풀링이 겹치지 않도록 수행되기 때문에 일반적으로 스트라이드 크기를 풀링 크기와 같게 설정한다. "
      ]
    },
    {
      "cell_type": "code",
      "execution_count": 51,
      "metadata": {
        "colab": {
          "base_uri": "https://localhost:8080/",
          "height": 364
        },
        "id": "kc1ZMqcLifCa",
        "outputId": "26f8c2fd-32ca-47d3-85f3-aae0f9edeb7d"
      },
      "outputs": [
        {
          "output_type": "execute_result",
          "data": {
            "text/plain": [
              "<IPython.core.display.Image object>"
            ],
            "text/html": [
              "<img src=\"https://git.io/JL5OH\" width=\"700\"/>"
            ]
          },
          "metadata": {},
          "execution_count": 51
        }
      ],
      "source": [
        "Image(url='https://git.io/JL5OH', width=700)"
      ]
    },
    {
      "cell_type": "markdown",
      "metadata": {
        "id": "57cBF6lxifCb"
      },
      "source": [
        "## 기본 구성 요소를 사용하여 심층 합성곱 신경망 구성\n",
        "\n",
        "### 여러 개의 입력 또는 컬러 채널 다루기"
      ]
    },
    {
      "cell_type": "code",
      "execution_count": 52,
      "metadata": {
        "colab": {
          "base_uri": "https://localhost:8080/",
          "height": 420
        },
        "id": "VdJuRn5AifCb",
        "outputId": "e04a8e6e-0981-4bcd-f2a8-f2aad98c5a7c"
      },
      "outputs": [
        {
          "output_type": "execute_result",
          "data": {
            "text/plain": [
              "<IPython.core.display.Image object>"
            ],
            "text/html": [
              "<img src=\"https://git.io/JL5O5\" width=\"800\"/>"
            ]
          },
          "metadata": {},
          "execution_count": 52
        }
      ],
      "source": [
        "Image(url='https://git.io/JL5O5', width=800)"
      ]
    },
    {
      "cell_type": "markdown",
      "metadata": {
        "id": "ldWAgzDQifCb"
      },
      "source": [
        "**팁: 이미지 파일 읽기**"
      ]
    },
    {
      "cell_type": "code",
      "execution_count": 53,
      "metadata": {
        "colab": {
          "base_uri": "https://localhost:8080/"
        },
        "id": "U2_UgtcxvuJj",
        "outputId": "ff444a87-2eca-4402-94d0-16b8a159ebe7"
      },
      "outputs": [
        {
          "output_type": "stream",
          "name": "stdout",
          "text": [
            "--2022-07-21 06:22:00--  https://git.io/JL5Ob\n",
            "Resolving git.io (git.io)... 140.82.114.22\n",
            "Connecting to git.io (git.io)|140.82.114.22|:443... connected.\n",
            "HTTP request sent, awaiting response... 302 Found\n",
            "Location: https://github.com/rickiepark/python-machine-learning-book-3rd-edition/raw/master/ch15/example-image.png [following]\n",
            "--2022-07-21 06:22:00--  https://github.com/rickiepark/python-machine-learning-book-3rd-edition/raw/master/ch15/example-image.png\n",
            "Resolving github.com (github.com)... 20.205.243.166\n",
            "Connecting to github.com (github.com)|20.205.243.166|:443... connected.\n",
            "HTTP request sent, awaiting response... 302 Found\n",
            "Location: https://raw.githubusercontent.com/rickiepark/python-machine-learning-book-3rd-edition/master/ch15/example-image.png [following]\n",
            "--2022-07-21 06:22:01--  https://raw.githubusercontent.com/rickiepark/python-machine-learning-book-3rd-edition/master/ch15/example-image.png\n",
            "Resolving raw.githubusercontent.com (raw.githubusercontent.com)... 185.199.111.133, 185.199.109.133, 185.199.110.133, ...\n",
            "Connecting to raw.githubusercontent.com (raw.githubusercontent.com)|185.199.111.133|:443... connected.\n",
            "HTTP request sent, awaiting response... 200 OK\n",
            "Length: 22283 (22K) [image/png]\n",
            "Saving to: ‘example-image.png’\n",
            "\n",
            "example-image.png   100%[===================>]  21.76K  --.-KB/s    in 0s      \n",
            "\n",
            "2022-07-21 06:22:01 (84.8 MB/s) - ‘example-image.png’ saved [22283/22283]\n",
            "\n"
          ]
        }
      ],
      "source": [
        "# 코랩에서 실행할 경우 이미지를 먼저 다운로드합니다\n",
        "!wget https://git.io/JL5Ob -O example-image.png"
      ]
    },
    {
      "cell_type": "code",
      "execution_count": 54,
      "metadata": {
        "colab": {
          "base_uri": "https://localhost:8080/"
        },
        "id": "2lQymxAJifCb",
        "outputId": "d2adacd4-4052-4197-aeb2-0848cb0263e7"
      },
      "outputs": [
        {
          "output_type": "stream",
          "name": "stdout",
          "text": [
            "이미지 크기: (252, 221, 3)\n",
            "채널 개수: 3\n",
            "이미지 데이터 타입: <dtype: 'uint8'>\n",
            "tf.Tensor(\n",
            "[[[179 134 110]\n",
            "  [182 136 112]]\n",
            "\n",
            " [[180 135 111]\n",
            "  [182 137 113]]], shape=(2, 2, 3), dtype=uint8)\n"
          ]
        }
      ],
      "source": [
        "import tensorflow as tf\n",
        "\n",
        "\n",
        "img_raw = tf.io.read_file('example-image.png')\n",
        "img = tf.image.decode_image(img_raw)\n",
        "print('이미지 크기:', img.shape)\n",
        "print('채널 개수:', img.shape[2])\n",
        "print('이미지 데이터 타입:', img.dtype)\n",
        "print(img[100:102, 100:102, :])"
      ]
    },
    {
      "cell_type": "code",
      "execution_count": 55,
      "metadata": {
        "colab": {
          "base_uri": "https://localhost:8080/"
        },
        "id": "qo8Ybg9wifCc",
        "outputId": "94cad8dc-4f10-4fc3-b0eb-520183765a7a"
      },
      "outputs": [
        {
          "output_type": "stream",
          "name": "stdout",
          "text": [
            "이미지 크기: (252, 221, 3)\n",
            "채널 개수: 3\n",
            "이미지 데이터 타입: uint8\n",
            "[[[179 134 110]\n",
            "  [182 136 112]]\n",
            "\n",
            " [[180 135 111]\n",
            "  [182 137 113]]]\n"
          ]
        }
      ],
      "source": [
        "import imageio\n",
        "\n",
        "\n",
        "img = imageio.imread('example-image.png')\n",
        "print('이미지 크기:', img.shape)\n",
        "print('채널 개수:', img.shape[2])\n",
        "print('이미지 데이터 타입:', img.dtype)\n",
        "print(img[100:102, 100:102, :])"
      ]
    },
    {
      "cell_type": "markdown",
      "metadata": {
        "id": "pRudlk4_ifCd"
      },
      "source": [
        "**노트: CNN 입력을 위한 흑백 이미지의 랭크**"
      ]
    },
    {
      "cell_type": "code",
      "execution_count": 56,
      "metadata": {
        "colab": {
          "base_uri": "https://localhost:8080/"
        },
        "id": "LeRSnSZEw45S",
        "outputId": "c53d21d6-d2bc-485f-90be-2e4ae6fb4be1"
      },
      "outputs": [
        {
          "output_type": "stream",
          "name": "stdout",
          "text": [
            "--2022-07-21 06:22:01--  https://git.io/JL5Op\n",
            "Resolving git.io (git.io)... 140.82.114.22\n",
            "Connecting to git.io (git.io)|140.82.114.22|:443... connected.\n",
            "HTTP request sent, awaiting response... 302 Found\n",
            "Location: https://github.com/rickiepark/python-machine-learning-book-3rd-edition/raw/master/ch15/example-image-gray.png [following]\n",
            "--2022-07-21 06:22:02--  https://github.com/rickiepark/python-machine-learning-book-3rd-edition/raw/master/ch15/example-image-gray.png\n",
            "Resolving github.com (github.com)... 20.205.243.166\n",
            "Connecting to github.com (github.com)|20.205.243.166|:443... connected.\n",
            "HTTP request sent, awaiting response... 302 Found\n",
            "Location: https://raw.githubusercontent.com/rickiepark/python-machine-learning-book-3rd-edition/master/ch15/example-image-gray.png [following]\n",
            "--2022-07-21 06:22:02--  https://raw.githubusercontent.com/rickiepark/python-machine-learning-book-3rd-edition/master/ch15/example-image-gray.png\n",
            "Resolving raw.githubusercontent.com (raw.githubusercontent.com)... 185.199.108.133, 185.199.109.133, 185.199.110.133, ...\n",
            "Connecting to raw.githubusercontent.com (raw.githubusercontent.com)|185.199.108.133|:443... connected.\n",
            "HTTP request sent, awaiting response... 200 OK\n",
            "Length: 8501 (8.3K) [image/png]\n",
            "Saving to: ‘example-image-gray.png’\n",
            "\n",
            "example-image-gray. 100%[===================>]   8.30K  --.-KB/s    in 0s      \n",
            "\n",
            "2022-07-21 06:22:03 (83.8 MB/s) - ‘example-image-gray.png’ saved [8501/8501]\n",
            "\n"
          ]
        }
      ],
      "source": [
        "# 코랩에서 실행할 경우 이미지를 먼저 다운로드합니다\n",
        "!wget https://git.io/JL5Op -O example-image-gray.png"
      ]
    },
    {
      "cell_type": "code",
      "execution_count": 57,
      "metadata": {
        "colab": {
          "base_uri": "https://localhost:8080/"
        },
        "id": "ZyCzEMJOifCd",
        "outputId": "59252994-5bc3-4caa-8bf1-dd5ac13ed498"
      },
      "outputs": [
        {
          "output_type": "stream",
          "name": "stdout",
          "text": [
            "랭크: 3\n",
            "크기: TensorShape([252, 221, 1])\n"
          ]
        }
      ],
      "source": [
        "img_raw = tf.io.read_file('example-image-gray.png')\n",
        "img = tf.image.decode_image(img_raw)\n",
        "tf.print('랭크:', tf.rank(img))\n",
        "tf.print('크기:', img.shape)"
      ]
    },
    {
      "cell_type": "code",
      "execution_count": 58,
      "metadata": {
        "colab": {
          "base_uri": "https://localhost:8080/"
        },
        "id": "OwY7M7mxifCd",
        "outputId": "2c388af3-4929-4290-806e-3842efed0f55"
      },
      "outputs": [
        {
          "output_type": "stream",
          "name": "stdout",
          "text": [
            "랭크: 2\n",
            "크기: (252, 221)\n",
            "새로운 크기: TensorShape([252, 221, 1])\n"
          ]
        }
      ],
      "source": [
        "img = imageio.imread('example-image-gray.png')\n",
        "tf.print('랭크:', tf.rank(img))\n",
        "tf.print('크기:', img.shape)\n",
        "\n",
        "img_reshaped = tf.reshape(img, (img.shape[0], img.shape[1], 1))\n",
        "tf.print('새로운 크기:', img_reshaped.shape)"
      ]
    },
    {
      "cell_type": "markdown",
      "metadata": {
        "id": "Zy4sB8jVifCd"
      },
      "source": [
        "### 드롭아웃으로 신경망 규제"
      ]
    },
    {
      "cell_type": "code",
      "execution_count": 59,
      "metadata": {
        "colab": {
          "base_uri": "https://localhost:8080/",
          "height": 378
        },
        "id": "Lrc2CPzwifCe",
        "outputId": "18a5da61-1864-4e18-bd7a-280ae99e8b8b"
      },
      "outputs": [
        {
          "output_type": "execute_result",
          "data": {
            "text/plain": [
              "<IPython.core.display.Image object>"
            ],
            "text/html": [
              "<img src=\"https://git.io/JL5Oh\" width=\"700\"/>"
            ]
          },
          "metadata": {},
          "execution_count": 59
        }
      ],
      "source": [
        "Image(url='https://git.io/JL5Oh', width=700)"
      ]
    },
    {
      "cell_type": "code",
      "execution_count": 60,
      "metadata": {
        "id": "Mp-rHuGVifCe"
      },
      "outputs": [],
      "source": [
        "from tensorflow import keras\n",
        "\n",
        "\n",
        "conv_layer = keras.layers.Conv2D(\n",
        "    filters=16, kernel_size=(3, 3),\n",
        "    kernel_regularizer=keras.regularizers.l2(0.001))\n",
        "\n",
        "fc_layer = keras.layers.Dense(\n",
        "    units=16, kernel_regularizer=keras.regularizers.l2(0.001))"
      ]
    },
    {
      "cell_type": "markdown",
      "metadata": {
        "id": "Kv1zkQutifCe"
      },
      "source": [
        "### 분류를 위한 손실 함수\n",
        "\n",
        " * **`BinaryCrossentropy()`**\n",
        "   * `from_logits=False` \n",
        "   * `from_logits=True`\n",
        "\n",
        " * **`CategoricalCrossentropy()`**\n",
        "   * `from_logits=False`\n",
        "   * `from_logits=True`\n",
        "   \n",
        " * **`SparseCategoricalCrossentropy()`**\n",
        "   * `from_logits=False`\n",
        "   * `from_logits=True`"
      ]
    },
    {
      "cell_type": "code",
      "execution_count": 61,
      "metadata": {
        "colab": {
          "base_uri": "https://localhost:8080/",
          "height": 356
        },
        "id": "iOAinQEQifCe",
        "outputId": "49928776-6b9a-4dd0-8743-aa2242339dd2"
      },
      "outputs": [
        {
          "output_type": "execute_result",
          "data": {
            "text/plain": [
              "<IPython.core.display.Image object>"
            ],
            "text/html": [
              "<img src=\"https://git.io/JL53f\" width=\"800\"/>"
            ]
          },
          "metadata": {},
          "execution_count": 61
        }
      ],
      "source": [
        "Image(url='https://git.io/JL53f', width=800)"
      ]
    },
    {
      "cell_type": "code",
      "execution_count": 62,
      "metadata": {
        "colab": {
          "base_uri": "https://localhost:8080/"
        },
        "id": "B5oj-jDgifCf",
        "outputId": "848c802e-c644-4dd5-b8bc-c4c0813b2642"
      },
      "outputs": [
        {
          "output_type": "stream",
          "name": "stdout",
          "text": [
            "BCE (확률): 0.3711 (로짓): 0.3711\n",
            "CCE (확률): 0.5996 (로짓): 0.5996\n",
            "Sparse CCE (확률): 0.5996 (로짓): 0.5996\n"
          ]
        }
      ],
      "source": [
        "from distutils.version import LooseVersion as Version\n",
        "\n",
        "\n",
        "####### 이진 크로스 엔트로피\n",
        "bce_probas = tf.keras.losses.BinaryCrossentropy(from_logits=False)\n",
        "bce_logits = tf.keras.losses.BinaryCrossentropy(from_logits=True)\n",
        "\n",
        "logits = tf.constant([0.8])\n",
        "probas = tf.keras.activations.sigmoid(logits)\n",
        "\n",
        "tf.print(\n",
        "    'BCE (확률): {:.4f}'.format(\n",
        "    bce_probas(y_true=[1], y_pred=probas)),\n",
        "    '(로짓): {:.4f}'.format(\n",
        "    bce_logits(y_true=[1], y_pred=logits)))\n",
        "\n",
        "\n",
        "####### 범주형 크로스 엔트로피\n",
        "cce_probas = tf.keras.losses.CategoricalCrossentropy(\n",
        "    from_logits=False)\n",
        "cce_logits = tf.keras.losses.CategoricalCrossentropy(\n",
        "    from_logits=True)\n",
        "\n",
        "logits = tf.constant([[1.5, 0.8, 2.1]])\n",
        "probas = tf.keras.activations.softmax(logits)\n",
        "\n",
        "if Version(tf.__version__) >= '2.3.0':\n",
        "    tf.print(\n",
        "        'CCE (확률): {:.4f}'.format(\n",
        "        cce_probas(y_true=[[0, 0, 1]], y_pred=probas)),\n",
        "        '(로짓): {:.4f}'.format(\n",
        "        cce_logits(y_true=[[0, 0, 1]], y_pred=logits)))\n",
        "else:\n",
        "    tf.print(\n",
        "        'CCE (확률): {:.4f}'.format(\n",
        "        cce_probas(y_true=[0, 0, 1], y_pred=probas)),\n",
        "        '(로짓): {:.4f}'.format(\n",
        "        cce_logits(y_true=[0, 0, 1], y_pred=logits)))\n",
        "\n",
        "####### 희소 범주형 크로스 엔트로피\n",
        "sp_cce_probas = tf.keras.losses.SparseCategoricalCrossentropy(\n",
        "    from_logits=False)\n",
        "sp_cce_logits = tf.keras.losses.SparseCategoricalCrossentropy(\n",
        "    from_logits=True)\n",
        "\n",
        "tf.print(\n",
        "    'Sparse CCE (확률): {:.4f}'.format(\n",
        "    sp_cce_probas(y_true=[2], y_pred=probas)),\n",
        "    '(로짓): {:.4f}'.format(\n",
        "    sp_cce_logits(y_true=[2], y_pred=logits)))"
      ]
    },
    {
      "cell_type": "markdown",
      "metadata": {
        "id": "EcQnpguXifCf"
      },
      "source": [
        "## 텐서플로를 사용하여 심층 합성곱 신경망 구현\n",
        "\n",
        "### 다층 CNN 구조"
      ]
    },
    {
      "cell_type": "code",
      "execution_count": 63,
      "metadata": {
        "colab": {
          "base_uri": "https://localhost:8080/",
          "height": 287
        },
        "id": "n893uGaEifCf",
        "outputId": "3595ef12-d329-45a2-fef6-309cd0e265f8"
      },
      "outputs": [
        {
          "output_type": "execute_result",
          "data": {
            "text/plain": [
              "<IPython.core.display.Image object>"
            ],
            "text/html": [
              "<img src=\"https://git.io/JL53U\" width=\"800\"/>"
            ]
          },
          "metadata": {},
          "execution_count": 63
        }
      ],
      "source": [
        "Image(url='https://git.io/JL53U', width=800)"
      ]
    },
    {
      "cell_type": "markdown",
      "metadata": {
        "id": "klgI_t62ifCf"
      },
      "source": [
        "### 데이터 적재와 전처리"
      ]
    },
    {
      "cell_type": "code",
      "execution_count": 64,
      "metadata": {
        "id": "qGT2_kbKifCf"
      },
      "outputs": [],
      "source": [
        "import tensorflow_datasets as tfds\n",
        "import pandas as pd\n",
        "\n",
        "import matplotlib.pyplot as plt"
      ]
    },
    {
      "cell_type": "code",
      "execution_count": 65,
      "metadata": {
        "colab": {
          "base_uri": "https://localhost:8080/"
        },
        "id": "csMbYS6PifCf",
        "outputId": "485133ec-0451-4df9-8bd9-84a7d7d6c53c"
      },
      "outputs": [
        {
          "output_type": "stream",
          "name": "stdout",
          "text": [
            "dict_keys(['test', 'train'])\n"
          ]
        }
      ],
      "source": [
        "## MNIST 데이터셋\n",
        "\n",
        "mnist_bldr = tfds.builder('mnist')\n",
        "mnist_bldr.download_and_prepare()\n",
        "datasets = mnist_bldr.as_dataset(shuffle_files=False)\n",
        "print(datasets.keys())\n",
        "mnist_train_orig, mnist_test_orig = datasets['train'], datasets['test']"
      ]
    },
    {
      "cell_type": "code",
      "execution_count": 66,
      "metadata": {
        "id": "B0b0Q15oifCg"
      },
      "outputs": [],
      "source": [
        "BUFFER_SIZE = 10000\n",
        "BATCH_SIZE = 64\n",
        "NUM_EPOCHS = 20"
      ]
    },
    {
      "cell_type": "code",
      "execution_count": 67,
      "metadata": {
        "id": "PnBbEngHifCg"
      },
      "outputs": [],
      "source": [
        "mnist_train = mnist_train_orig.map(\n",
        "    lambda item: (tf.cast(item['image'], tf.float32)/255.0, \n",
        "                  tf.cast(item['label'], tf.int32)))\n",
        "\n",
        "mnist_test = mnist_test_orig.map(\n",
        "    lambda item: (tf.cast(item['image'], tf.float32)/255.0, \n",
        "                  tf.cast(item['label'], tf.int32)))\n",
        "\n",
        "tf.random.set_seed(1)\n",
        "\n",
        "mnist_train = mnist_train.shuffle(buffer_size=BUFFER_SIZE,\n",
        "                                  reshuffle_each_iteration=False)\n",
        "\n",
        "mnist_valid = mnist_train.take(10000).batch(BATCH_SIZE)\n",
        "mnist_train = mnist_train.skip(10000).batch(BATCH_SIZE)"
      ]
    },
    {
      "cell_type": "markdown",
      "metadata": {
        "id": "HIa1GMPZifCg"
      },
      "source": [
        "### 텐서플로 케라스 API를 사용해 CNN 구현하기\n",
        "\n",
        "#### 케라스에서 CNN 층 설정하기\n",
        "\n",
        " * **Conv2D:** `tf.keras.layers.Conv2D`\n",
        "   * `filters`\n",
        "   * `kernel_size`\n",
        "   * `strides`\n",
        "   * `padding`\n",
        "   \n",
        "   \n",
        " * **MaxPool2D:** `tf.keras.layers.MaxPool2D`\n",
        "   * `pool_size`\n",
        "   * `strides`\n",
        "   * `padding`\n",
        "   \n",
        "   \n",
        " * **Dropout** `tf.keras.layers.Dropout2D`\n",
        "   * `rate`"
      ]
    },
    {
      "cell_type": "markdown",
      "metadata": {
        "id": "Dg1drzu5ifCg"
      },
      "source": [
        "#### 케라스로 CNN 구성하기"
      ]
    },
    {
      "cell_type": "code",
      "execution_count": 68,
      "metadata": {
        "id": "oZnaVWxQifCg"
      },
      "outputs": [],
      "source": [
        "model = tf.keras.Sequential()\n",
        "\n",
        "model.add(tf.keras.layers.Conv2D(\n",
        "    filters=32, kernel_size=(5, 5),\n",
        "    strides=(1, 1), padding='same',\n",
        "    data_format='channels_last',\n",
        "    name='conv_1', activation='relu'))\n",
        "\n",
        "model.add(tf.keras.layers.MaxPool2D(\n",
        "    pool_size=(2, 2), name='pool_1'))\n",
        "    \n",
        "model.add(tf.keras.layers.Conv2D(\n",
        "    filters=64, kernel_size=(5, 5),\n",
        "    strides=(1, 1), padding='same',\n",
        "    name='conv_2', activation='relu'))\n",
        "\n",
        "model.add(tf.keras.layers.MaxPool2D(pool_size=(2, 2), name='pool_2'))"
      ]
    },
    {
      "cell_type": "code",
      "execution_count": 69,
      "metadata": {
        "colab": {
          "base_uri": "https://localhost:8080/"
        },
        "id": "v5b9cESoifCg",
        "outputId": "20bc2674-197c-4e16-a0aa-a462a62f2b5c"
      },
      "outputs": [
        {
          "output_type": "execute_result",
          "data": {
            "text/plain": [
              "TensorShape([16, 7, 7, 64])"
            ]
          },
          "metadata": {},
          "execution_count": 69
        }
      ],
      "source": [
        "model.compute_output_shape(input_shape=(16, 28, 28, 1))"
      ]
    },
    {
      "cell_type": "code",
      "execution_count": 70,
      "metadata": {
        "colab": {
          "base_uri": "https://localhost:8080/"
        },
        "id": "CinCB6uKifCg",
        "outputId": "898dc2e2-840a-40f3-c6ec-bcb994b0407c"
      },
      "outputs": [
        {
          "output_type": "execute_result",
          "data": {
            "text/plain": [
              "TensorShape([16, 3136])"
            ]
          },
          "metadata": {},
          "execution_count": 70
        }
      ],
      "source": [
        "model.add(tf.keras.layers.Flatten())\n",
        "    \n",
        "model.compute_output_shape(input_shape=(16, 28, 28, 1))"
      ]
    },
    {
      "cell_type": "code",
      "execution_count": 71,
      "metadata": {
        "id": "9zQEJSKTifCh"
      },
      "outputs": [],
      "source": [
        "model.add(tf.keras.layers.Dense(\n",
        "    units=1024, name='fc_1', \n",
        "    activation='relu'))\n",
        "\n",
        "model.add(tf.keras.layers.Dropout(\n",
        "    rate=0.5))\n",
        "    \n",
        "model.add(tf.keras.layers.Dense(\n",
        "    units=10, name='fc_2',\n",
        "    activation='softmax'))"
      ]
    },
    {
      "cell_type": "code",
      "execution_count": 72,
      "metadata": {
        "colab": {
          "base_uri": "https://localhost:8080/"
        },
        "id": "xd3wAxU2ifCh",
        "outputId": "73abcb00-b002-4b17-86b5-6487eb12a05e"
      },
      "outputs": [
        {
          "output_type": "execute_result",
          "data": {
            "text/plain": [
              "TensorShape([16, 10])"
            ]
          },
          "metadata": {},
          "execution_count": 72
        }
      ],
      "source": [
        "tf.random.set_seed(1)\n",
        "model.build(input_shape=(None, 28, 28, 1))\n",
        "\n",
        "model.compute_output_shape(input_shape=(16, 28, 28, 1))"
      ]
    },
    {
      "cell_type": "code",
      "execution_count": 73,
      "metadata": {
        "colab": {
          "base_uri": "https://localhost:8080/"
        },
        "id": "sKsAwaKtifCh",
        "outputId": "42ebd239-274f-45c6-e21c-afc380dd4d6f"
      },
      "outputs": [
        {
          "output_type": "stream",
          "name": "stdout",
          "text": [
            "Model: \"sequential_1\"\n",
            "_________________________________________________________________\n",
            " Layer (type)                Output Shape              Param #   \n",
            "=================================================================\n",
            " conv_1 (Conv2D)             (None, 28, 28, 32)        832       \n",
            "                                                                 \n",
            " pool_1 (MaxPooling2D)       (None, 14, 14, 32)        0         \n",
            "                                                                 \n",
            " conv_2 (Conv2D)             (None, 14, 14, 64)        51264     \n",
            "                                                                 \n",
            " pool_2 (MaxPooling2D)       (None, 7, 7, 64)          0         \n",
            "                                                                 \n",
            " flatten_1 (Flatten)         (None, 3136)              0         \n",
            "                                                                 \n",
            " fc_1 (Dense)                (None, 1024)              3212288   \n",
            "                                                                 \n",
            " dropout_1 (Dropout)         (None, 1024)              0         \n",
            "                                                                 \n",
            " fc_2 (Dense)                (None, 10)                10250     \n",
            "                                                                 \n",
            "=================================================================\n",
            "Total params: 3,274,634\n",
            "Trainable params: 3,274,634\n",
            "Non-trainable params: 0\n",
            "_________________________________________________________________\n"
          ]
        }
      ],
      "source": [
        "model.summary()"
      ]
    },
    {
      "cell_type": "code",
      "execution_count": 74,
      "metadata": {
        "colab": {
          "base_uri": "https://localhost:8080/"
        },
        "id": "9-yPq6g9ifCh",
        "outputId": "a0f45e56-a5f9-4775-eee1-b27bbff72149"
      },
      "outputs": [
        {
          "output_type": "stream",
          "name": "stdout",
          "text": [
            "Epoch 1/20\n",
            "782/782 [==============================] - 16s 17ms/step - loss: 0.1374 - accuracy: 0.9571 - val_loss: 0.0480 - val_accuracy: 0.9856\n",
            "Epoch 2/20\n",
            "782/782 [==============================] - 7s 8ms/step - loss: 0.0448 - accuracy: 0.9858 - val_loss: 0.0407 - val_accuracy: 0.9875\n",
            "Epoch 3/20\n",
            "782/782 [==============================] - 7s 8ms/step - loss: 0.0293 - accuracy: 0.9911 - val_loss: 0.0499 - val_accuracy: 0.9865\n",
            "Epoch 4/20\n",
            "782/782 [==============================] - 7s 8ms/step - loss: 0.0221 - accuracy: 0.9930 - val_loss: 0.0456 - val_accuracy: 0.9876\n",
            "Epoch 5/20\n",
            "782/782 [==============================] - 7s 8ms/step - loss: 0.0183 - accuracy: 0.9940 - val_loss: 0.0439 - val_accuracy: 0.9882\n",
            "Epoch 6/20\n",
            "782/782 [==============================] - 7s 8ms/step - loss: 0.0159 - accuracy: 0.9948 - val_loss: 0.0389 - val_accuracy: 0.9905\n",
            "Epoch 7/20\n",
            "782/782 [==============================] - 7s 8ms/step - loss: 0.0119 - accuracy: 0.9964 - val_loss: 0.0532 - val_accuracy: 0.9892\n",
            "Epoch 8/20\n",
            "782/782 [==============================] - 7s 8ms/step - loss: 0.0119 - accuracy: 0.9962 - val_loss: 0.0422 - val_accuracy: 0.9905\n",
            "Epoch 9/20\n",
            "782/782 [==============================] - 6s 7ms/step - loss: 0.0101 - accuracy: 0.9967 - val_loss: 0.0413 - val_accuracy: 0.9901\n",
            "Epoch 10/20\n",
            "782/782 [==============================] - 6s 8ms/step - loss: 0.0092 - accuracy: 0.9972 - val_loss: 0.0426 - val_accuracy: 0.9919\n",
            "Epoch 11/20\n",
            "782/782 [==============================] - 7s 8ms/step - loss: 0.0081 - accuracy: 0.9973 - val_loss: 0.0442 - val_accuracy: 0.9900\n",
            "Epoch 12/20\n",
            "782/782 [==============================] - 7s 8ms/step - loss: 0.0064 - accuracy: 0.9980 - val_loss: 0.0485 - val_accuracy: 0.9900\n",
            "Epoch 13/20\n",
            "782/782 [==============================] - 8s 9ms/step - loss: 0.0085 - accuracy: 0.9974 - val_loss: 0.0557 - val_accuracy: 0.9900\n",
            "Epoch 14/20\n",
            "782/782 [==============================] - 7s 8ms/step - loss: 0.0067 - accuracy: 0.9978 - val_loss: 0.0601 - val_accuracy: 0.9891\n",
            "Epoch 15/20\n",
            "782/782 [==============================] - 6s 8ms/step - loss: 0.0063 - accuracy: 0.9979 - val_loss: 0.0512 - val_accuracy: 0.9911\n",
            "Epoch 16/20\n",
            "782/782 [==============================] - 6s 8ms/step - loss: 0.0070 - accuracy: 0.9979 - val_loss: 0.0543 - val_accuracy: 0.9911\n",
            "Epoch 17/20\n",
            "782/782 [==============================] - 7s 8ms/step - loss: 0.0042 - accuracy: 0.9988 - val_loss: 0.0586 - val_accuracy: 0.9904\n",
            "Epoch 18/20\n",
            "782/782 [==============================] - 6s 8ms/step - loss: 0.0088 - accuracy: 0.9973 - val_loss: 0.0571 - val_accuracy: 0.9914\n",
            "Epoch 19/20\n",
            "782/782 [==============================] - 6s 8ms/step - loss: 0.0055 - accuracy: 0.9984 - val_loss: 0.0611 - val_accuracy: 0.9911\n",
            "Epoch 20/20\n",
            "782/782 [==============================] - 6s 8ms/step - loss: 0.0050 - accuracy: 0.9984 - val_loss: 0.0630 - val_accuracy: 0.9905\n"
          ]
        }
      ],
      "source": [
        "model.compile(optimizer=tf.keras.optimizers.Adam(),\n",
        "              loss=tf.keras.losses.SparseCategoricalCrossentropy(),\n",
        "              metrics=['accuracy']) # same as `tf.keras.metrics.SparseCategoricalAccuracy(name='accuracy')`\n",
        "\n",
        "history = model.fit(mnist_train, epochs=NUM_EPOCHS, \n",
        "                    validation_data=mnist_valid, \n",
        "                    shuffle=True)"
      ]
    },
    {
      "cell_type": "code",
      "execution_count": 75,
      "metadata": {
        "colab": {
          "base_uri": "https://localhost:8080/",
          "height": 0
        },
        "id": "a06czk7ZifCh",
        "outputId": "a35499a4-9790-4664-f041-6dc5e0f232ed"
      },
      "outputs": [
        {
          "output_type": "display_data",
          "data": {
            "text/plain": [
              "<Figure size 864x288 with 2 Axes>"
            ],
            "image/png": "[encoded data removed]"
          },
          "metadata": {
            "needs_background": "light"
          }
        }
      ],
      "source": [
        "hist = history.history\n",
        "x_arr = np.arange(len(hist['loss'])) + 1\n",
        "\n",
        "fig = plt.figure(figsize=(12, 4))\n",
        "ax = fig.add_subplot(1, 2, 1)\n",
        "ax.plot(x_arr, hist['loss'], '-o', label='Train loss')\n",
        "ax.plot(x_arr, hist['val_loss'], '--<', label='Validation loss')\n",
        "ax.set_xlabel('Epoch', size=15)\n",
        "ax.set_ylabel('Loss', size=15)\n",
        "ax.legend(fontsize=15)\n",
        "ax = fig.add_subplot(1, 2, 2)\n",
        "ax.plot(x_arr, hist['accuracy'], '-o', label='Train acc.')\n",
        "ax.plot(x_arr, hist['val_accuracy'], '--<', label='Validation acc.')\n",
        "ax.legend(fontsize=15)\n",
        "ax.set_xlabel('Epoch', size=15)\n",
        "ax.set_ylabel('Accuracy', size=15)\n",
        "\n",
        "#plt.savefig('images/15_12.png', dpi=300)\n",
        "plt.show()"
      ]
    },
    {
      "cell_type": "code",
      "execution_count": 76,
      "metadata": {
        "colab": {
          "base_uri": "https://localhost:8080/"
        },
        "id": "d3dx-LhlifCi",
        "outputId": "8eab6ecc-64ab-4348-a75c-4acac832324b"
      },
      "outputs": [
        {
          "output_type": "stream",
          "name": "stdout",
          "text": [
            "500/500 [==============================] - 2s 4ms/step - loss: 0.0406 - accuracy: 0.9928\n",
            "\n",
            "테스트 정확도 99.28%\n"
          ]
        }
      ],
      "source": [
        "test_results = model.evaluate(mnist_test.batch(20))\n",
        "print('\\n테스트 정확도 {:.2f}%'.format(test_results[1]*100))"
      ]
    },
    {
      "cell_type": "code",
      "execution_count": 77,
      "metadata": {
        "colab": {
          "base_uri": "https://localhost:8080/",
          "height": 0
        },
        "id": "T7kb_hRaifCi",
        "outputId": "8940cf5f-2571-4e4e-fcd5-f5098dfbfcbc",
        "scrolled": true
      },
      "outputs": [
        {
          "output_type": "stream",
          "name": "stdout",
          "text": [
            "TensorShape([12, 10])\n",
            "tf.Tensor([2 0 4 8 7 6 0 6 3 1 8 0], shape=(12,), dtype=int64)\n"
          ]
        },
        {
          "output_type": "display_data",
          "data": {
            "text/plain": [
              "<Figure size 864x288 with 12 Axes>"
            ],
            "image/png": "[encoded data removed]"
          },
          "metadata": {}
        }
      ],
      "source": [
        "batch_test = next(iter(mnist_test.batch(12)))\n",
        "\n",
        "preds = model(batch_test[0])\n",
        "\n",
        "tf.print(preds.shape)\n",
        "preds = tf.argmax(preds, axis=1)\n",
        "print(preds)\n",
        "\n",
        "fig = plt.figure(figsize=(12, 4))\n",
        "for i in range(12):\n",
        "    ax = fig.add_subplot(2, 6, i+1)\n",
        "    ax.set_xticks([]); ax.set_yticks([])\n",
        "    img = batch_test[0][i, :, :, 0]\n",
        "    ax.imshow(img, cmap='gray_r')\n",
        "    ax.text(0.9, 0.1, '{}'.format(preds[i]), \n",
        "            size=15, color='blue',\n",
        "            horizontalalignment='center',\n",
        "            verticalalignment='center', \n",
        "            transform=ax.transAxes)\n",
        "    \n",
        "#plt.savefig('images/15_13.png', dpi=300)\n",
        "plt.show()"
      ]
    },
    {
      "cell_type": "code",
      "execution_count": 78,
      "metadata": {
        "id": "5sLLwpHLifCi"
      },
      "outputs": [],
      "source": [
        "import os\n",
        "\n",
        "if not os.path.exists('models'):\n",
        "    os.mkdir('models')\n",
        "\n",
        "\n",
        "model.save('models/mnist-cnn.h5')"
      ]
    }
  ],
  "metadata": {
    "accelerator": "GPU",
    "colab": {
      "name": "머신러닝_교과서_15장",
      "provenance": [],
      "include_colab_link": true
    },
    "kernelspec": {
      "display_name": "Python 3",
      "language": "python",
      "name": "python3"
    },
    "language_info": {
      "codemirror_mode": {
        "name": "ipython",
        "version": 3
      },
      "file_extension": ".py",
      "mimetype": "text/x-python",
      "name": "python",
      "nbconvert_exporter": "python",
      "pygments_lexer": "ipython3",
      "version": "3.7.3"
    }
  },
  "nbformat": 4,
  "nbformat_minor": 0
}