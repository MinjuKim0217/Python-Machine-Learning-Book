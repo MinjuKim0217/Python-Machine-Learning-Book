{
  "cells": [
    {
      "cell_type": "markdown",
      "metadata": {
        "id": "view-in-github",
        "colab_type": "text"
      },
      "source": [
        "<a href=\"https://colab.research.google.com/github/MinjuKim0217/Python-Machine-Learning-Book/blob/main/%EB%A8%B8%EC%8B%A0%EB%9F%AC%EB%8B%9D_%EA%B5%90%EA%B3%BC%EC%84%9C_14%EC%9E%A5_1.ipynb\" target=\"_parent\"><img src=\"https://colab.research.google.com/assets/colab-badge.svg\" alt=\"Open In Colab\"/></a>"
      ]
    },
    {
      "cell_type": "markdown",
      "metadata": {
        "id": "o1W5ygAfuMCE"
      },
      "source": [
        "# 머신 러닝 교과서 3판"
      ]
    },
    {
      "cell_type": "markdown",
      "metadata": {
        "id": "vTRFtb1_uMCL"
      },
      "source": [
        "# 14장 - 텐서플로의 구조 자세히 알아보기 (1/3)"
      ]
    },
    {
      "cell_type": "markdown",
      "metadata": {
        "id": "BNi5wasxuMCL"
      },
      "source": [
        "**아래 링크를 통해 이 노트북을 주피터 노트북 뷰어(nbviewer.jupyter.org)로 보거나 구글 코랩(colab.research.google.com)에서 실행할 수 있습니다.**\n",
        "\n",
        "<table class=\"tfo-notebook-buttons\" align=\"left\">\n",
        "  <td>\n",
        "    <a target=\"_blank\" href=\"https://nbviewer.org/github/rickiepark/python-machine-learning-book-3rd-edition/blob/master/ch14/ch14_part1.ipynb\"><img src=\"https://jupyter.org/assets/share.png\" width=\"60\" />주피터 노트북 뷰어로 보기</a>\n",
        "  </td>\n",
        "  <td>\n",
        "    <a target=\"_blank\" href=\"https://colab.research.google.com/github/rickiepark/python-machine-learning-book-3rd-edition/blob/master/ch14/ch14_part1.ipynb\"><img src=\"https://www.tensorflow.org/images/colab_logo_32px.png\" />구글 코랩(Colab)에서 실행하기</a>\n",
        "  </td>\n",
        "</table>"
      ]
    },
    {
      "cell_type": "markdown",
      "metadata": {
        "id": "AnsROqoOuMCL"
      },
      "source": [
        "### 목차"
      ]
    },
    {
      "cell_type": "markdown",
      "metadata": {
        "id": "r3fPFO6KuMCM"
      },
      "source": [
        "- 텐서플로의 주요 특징\n",
        "- 텐서플로의 계산 그래프: 텐서플로 v2로 이전하기\n",
        "  - 계산 그래프 이해하기\n",
        "  - 텐서플로 v1.x에서 그래프 만들기\n",
        "  - 텐서플로 v2로 이전하기\n",
        "  - 입력 데이터를 모델에 주입하기: 텐서플로 v1.x 스타일\n",
        "  - 입력 데이터를 모델에 주입하기: 텐서플로 v2 스타일\n",
        "  - 함수 데코레이터로 계산 성능 높이기\n",
        "- 모델 파라미터를 저장하고 업데이트하기 위한 텐서플로 변수 객체\n",
        "- 자동 미분과 GradientTape을 사용해 그레이디언트 계산하기\n",
        "  - 훈련 가능한 변수에 대한 손실의 그레이디언트 계산하기\n",
        "  - 훈련하지 않는 변수에 대한 그레이디언트 계산하기\n",
        "  - 여러 개의 그레이디언트 계산하기\n",
        "- 케라스 API를 사용해 간단하게 일반적인 구조 구현하기\n",
        "  - XOR 분류 문제 풀어보기\n",
        "  - 케라스 함수형 API로 유연성이 높은 모델 만들기\n",
        "  - 케라스의 Model 클래스 기반으로 모델 만들기\n",
        "  - 사용자 정의 케라스 층 만들기"
      ]
    },
    {
      "cell_type": "code",
      "execution_count": null,
      "metadata": {
        "colab": {
          "base_uri": "https://localhost:8080/"
        },
        "id": "hMDCB5rAGPwo",
        "outputId": "3e2efadd-bd57-4a32-ec2c-642127b20f81"
      },
      "outputs": [
        {
          "output_type": "stream",
          "name": "stdout",
          "text": [
            "Looking in indexes: https://pypi.org/simple, https://us-python.pkg.dev/colab-wheels/public/simple/\n",
            "Requirement already satisfied: mlxtend in /usr/local/lib/python3.7/dist-packages (0.14.0)\n",
            "Collecting mlxtend\n",
            "  Downloading mlxtend-0.20.0-py2.py3-none-any.whl (1.3 MB)\n",
            "\u001b[K     |████████████████████████████████| 1.3 MB 8.0 MB/s \n",
            "\u001b[?25hRequirement already satisfied: numpy>=1.16.2 in /usr/local/lib/python3.7/dist-packages (from mlxtend) (1.21.6)\n",
            "Requirement already satisfied: setuptools in /usr/local/lib/python3.7/dist-packages (from mlxtend) (57.4.0)\n",
            "Requirement already satisfied: scikit-learn>=1.0.2 in /usr/local/lib/python3.7/dist-packages (from mlxtend) (1.0.2)\n",
            "Requirement already satisfied: pandas>=0.24.2 in /usr/local/lib/python3.7/dist-packages (from mlxtend) (1.3.5)\n",
            "Requirement already satisfied: matplotlib>=3.0.0 in /usr/local/lib/python3.7/dist-packages (from mlxtend) (3.2.2)\n",
            "Requirement already satisfied: joblib>=0.13.2 in /usr/local/lib/python3.7/dist-packages (from mlxtend) (1.1.0)\n",
            "Requirement already satisfied: scipy>=1.2.1 in /usr/local/lib/python3.7/dist-packages (from mlxtend) (1.4.1)\n",
            "Requirement already satisfied: python-dateutil>=2.1 in /usr/local/lib/python3.7/dist-packages (from matplotlib>=3.0.0->mlxtend) (2.8.2)\n",
            "Requirement already satisfied: pyparsing!=2.0.4,!=2.1.2,!=2.1.6,>=2.0.1 in /usr/local/lib/python3.7/dist-packages (from matplotlib>=3.0.0->mlxtend) (3.0.9)\n",
            "Requirement already satisfied: cycler>=0.10 in /usr/local/lib/python3.7/dist-packages (from matplotlib>=3.0.0->mlxtend) (0.11.0)\n",
            "Requirement already satisfied: kiwisolver>=1.0.1 in /usr/local/lib/python3.7/dist-packages (from matplotlib>=3.0.0->mlxtend) (1.4.3)\n",
            "Requirement already satisfied: typing-extensions in /usr/local/lib/python3.7/dist-packages (from kiwisolver>=1.0.1->matplotlib>=3.0.0->mlxtend) (4.1.1)\n",
            "Requirement already satisfied: pytz>=2017.3 in /usr/local/lib/python3.7/dist-packages (from pandas>=0.24.2->mlxtend) (2022.1)\n",
            "Requirement already satisfied: six>=1.5 in /usr/local/lib/python3.7/dist-packages (from python-dateutil>=2.1->matplotlib>=3.0.0->mlxtend) (1.15.0)\n",
            "Requirement already satisfied: threadpoolctl>=2.0.0 in /usr/local/lib/python3.7/dist-packages (from scikit-learn>=1.0.2->mlxtend) (3.1.0)\n",
            "Installing collected packages: mlxtend\n",
            "  Attempting uninstall: mlxtend\n",
            "    Found existing installation: mlxtend 0.14.0\n",
            "    Uninstalling mlxtend-0.14.0:\n",
            "      Successfully uninstalled mlxtend-0.14.0\n",
            "Successfully installed mlxtend-0.20.0\n"
          ]
        }
      ],
      "source": [
        "# 코랩에서 실행할 경우 최신 mlxtend 라이브러리를 설치합니다.\n",
        "!pip install --upgrade mlxtend"
      ]
    },
    {
      "cell_type": "code",
      "execution_count": null,
      "metadata": {
        "id": "PoZvSxpiuMCM"
      },
      "outputs": [],
      "source": [
        "from IPython.display import Image"
      ]
    },
    {
      "cell_type": "markdown",
      "metadata": {
        "id": "eCV-Fq80uMCM"
      },
      "source": [
        "## 텐서플로의 주요 특징\n",
        "\n",
        "## 텐서플로의 계산 그래프: 텐서플로 v2로 이전하기\n",
        "\n",
        "### 계산 그래프 이해하기"
      ]
    },
    {
      "cell_type": "code",
      "execution_count": null,
      "metadata": {
        "colab": {
          "base_uri": "https://localhost:8080/",
          "height": 421
        },
        "id": "e-lGbx5xuMCN",
        "outputId": "67e283e9-fd6c-4db7-c292-eec1c22b576b",
        "scrolled": true
      },
      "outputs": [
        {
          "output_type": "execute_result",
          "data": {
            "text/plain": [
              "<IPython.core.display.Image object>"
            ],
            "text/html": [
              "<img src=\"https://git.io/JL52v\" width=\"500\"/>"
            ]
          },
          "metadata": {},
          "execution_count": 3
        }
      ],
      "source": [
        "Image(url='https://git.io/JL52v', width=500)"
      ]
    },
    {
      "cell_type": "markdown",
      "metadata": {
        "id": "lcR05RhnuMCO"
      },
      "source": [
        "### 텐서플로 v1.x에서 그래프 만들기"
      ]
    },
    {
      "cell_type": "code",
      "execution_count": null,
      "metadata": {
        "id": "zhIE7wfwuMCO"
      },
      "outputs": [],
      "source": [
        "import tensorflow as tf\n",
        "import numpy as np\n",
        "import pandas as pd\n",
        "import matplotlib.pyplot as plt"
      ]
    },
    {
      "cell_type": "code",
      "execution_count": null,
      "metadata": {
        "colab": {
          "base_uri": "https://localhost:8080/",
          "height": 35
        },
        "id": "-Peo6UCHuOMv",
        "outputId": "dd8e18d8-d7b1-42f3-d0d0-703a982fddd8"
      },
      "outputs": [
        {
          "output_type": "execute_result",
          "data": {
            "text/plain": [
              "'2.8.2'"
            ],
            "application/vnd.google.colaboratory.intrinsic+json": {
              "type": "string"
            }
          },
          "metadata": {},
          "execution_count": 5
        }
      ],
      "source": [
        "tf.__version__"
      ]
    },
    {
      "cell_type": "code",
      "execution_count": null,
      "metadata": {
        "colab": {
          "base_uri": "https://localhost:8080/"
        },
        "id": "66ESkEJJuMCO",
        "outputId": "faef4be1-b48b-4118-a2df-fd67a2489c42"
      },
      "outputs": [
        {
          "output_type": "stream",
          "name": "stdout",
          "text": [
            "결과: z = 1\n",
            "결과: z = 1\n"
          ]
        }
      ],
      "source": [
        "## TF-v1.x 스타일\n",
        "g = tf.Graph()\n",
        "with g.as_default():\n",
        "    a = tf.constant(1, name='a')\n",
        "    b = tf.constant(2, name='b')\n",
        "    c = tf.constant(3, name='c')\n",
        "    z = 2*(a - b) + c\n",
        "    \n",
        "with tf.compat.v1.Session(graph=g) as sess:\n",
        "    print('결과: z =', sess.run(z))\n",
        "    print('결과: z =', z.eval())"
      ]
    },
    {
      "cell_type": "markdown",
      "metadata": {
        "id": "Hig3NY6duMCO"
      },
      "source": [
        "### TensorFlow v2로 이전하기"
      ]
    },
    {
      "cell_type": "code",
      "execution_count": null,
      "metadata": {
        "colab": {
          "base_uri": "https://localhost:8080/"
        },
        "id": "N-IM6ScYuMCP",
        "outputId": "e10828cd-9c1c-4af5-fc9b-c936eadc58a9"
      },
      "outputs": [
        {
          "output_type": "stream",
          "name": "stdout",
          "text": [
            "결과: z = 1\n"
          ]
        }
      ],
      "source": [
        "## TF v2 스타일\n",
        "a = tf.constant(1, name='a')\n",
        "b = tf.constant(2, name='b')\n",
        "c = tf.constant(3, name='c')\n",
        "\n",
        "z = 2*(a - b) + c\n",
        "tf.print('결과: z =', z)"
      ]
    },
    {
      "cell_type": "markdown",
      "metadata": {
        "id": "-ntV4OZUuMCP"
      },
      "source": [
        "### 입력 데이터를 모델에 주입하기: 텐서플로 v1.x 스타일"
      ]
    },
    {
      "cell_type": "markdown",
      "source": [
        "텐서플로 v2에서 파이썬 변수나 넘파이 배열로 데이터를 바로 주입할 수 있다.\n",
        "\n",
        "그러나 텐스플로 v1 저수준 API에서는 입력 데이터를 모데렝 전달하기 위해 플레이스홀더 변수를 만들어야 한다. \n",
        "\n",
        "플레이스홀더를 정의하고 변수에 딕셔너리로 데이터를 주입할 수 있다. "
      ],
      "metadata": {
        "id": "SF87ruVH0eYT"
      }
    },
    {
      "cell_type": "code",
      "execution_count": null,
      "metadata": {
        "colab": {
          "base_uri": "https://localhost:8080/"
        },
        "id": "JxNEr_nEuMCP",
        "outputId": "3f3e8eef-c4bf-4c8d-f578-96763f8db2f2"
      },
      "outputs": [
        {
          "output_type": "stream",
          "name": "stdout",
          "text": [
            "결과: z = 1\n"
          ]
        }
      ],
      "source": [
        "## TF-v1.x 스타일\n",
        "g = tf.Graph()\n",
        "with g.as_default():\n",
        "    a = tf.compat.v1.placeholder(shape=None, dtype=tf.int32, name='tf_a')\n",
        "    b = tf.compat.v1.placeholder(shape=None, dtype=tf.int32, name='tf_b')\n",
        "    c = tf.compat.v1.placeholder(shape=None, dtype=tf.int32, name='tf_c')\n",
        "    z = 2*(a - b) + c\n",
        "    \n",
        "with tf.compat.v1.Session(graph=g) as sess:\n",
        "    feed_dict = {a:1, b:2, c:3}\n",
        "    print('결과: z =', sess.run(z, feed_dict=feed_dict))"
      ]
    },
    {
      "cell_type": "markdown",
      "metadata": {
        "id": "-4U2TFRIuMCP"
      },
      "source": [
        "### 입력 데이터를 모델에 주입하기: 텐서플로 v2 스타일"
      ]
    },
    {
      "cell_type": "markdown",
      "source": [
        "add, subtract, multiply와 같은 텐서플로 함수는 높은 랭크를 가진 입력을 처리할 수 있다. "
      ],
      "metadata": {
        "id": "j1dnekL609Lz"
      }
    },
    {
      "cell_type": "code",
      "execution_count": null,
      "metadata": {
        "colab": {
          "base_uri": "https://localhost:8080/"
        },
        "id": "2e9DxkQuuMCQ",
        "outputId": "17eb3fb9-9e67-47e5-cdf2-095bf27d9f0c"
      },
      "outputs": [
        {
          "output_type": "stream",
          "name": "stdout",
          "text": [
            "스칼라 입력: 1\n",
            "랭크 1 입력: [1]\n",
            "랭크 2 입력: [[1]]\n"
          ]
        }
      ],
      "source": [
        "## TF-v2 스타일\n",
        "def compute_z(a, b, c):\n",
        "    r1 = tf.subtract(a, b)\n",
        "    r2 = tf.multiply(2, r1)\n",
        "    z = tf.add(r2, c)\n",
        "    return z\n",
        "\n",
        "tf.print('스칼라 입력:', compute_z(1, 2, 3))\n",
        "tf.print('랭크 1 입력:', compute_z([1], [2], [3]))\n",
        "tf.print('랭크 2 입력:', compute_z([[1]], [[2]], [[3]]))"
      ]
    },
    {
      "cell_type": "markdown",
      "metadata": {
        "id": "MjPbqg5ruMCQ"
      },
      "source": [
        "### 함수 데코레이터로 계산 성능 높이기"
      ]
    },
    {
      "cell_type": "markdown",
      "source": [
        "텐서플로그 그래프는 정적 타입과 크기가 필요하지만 tf.function은 동적 타이핑을 처리할 수 있다. \n",
        "\n",
        "예를 들어 매개변수로 리스트, 실수, 정수, 등등이 입력되어도 함수를 호출할 수 있다. \n",
        "\n",
        "- 데코레이터가 적용된 함수를 호출하면 텐서플로는 해당 키에 맞는 그래프가 이미 생성되었는지 체크한다. \n",
        "\n",
        "- 그래프가 없다면 텐서플로는 새로운 그래프를 생성하고 해당 키를 저장한다. \n",
        "\n",
        "- 반대로 함수를 호출할 수 있는 경우를 제한하려면 함수를 정의할 때 tf.TensorSpec 객체의 튜플로 입력 시그니처를 지정할 수 있다. \n"
      ],
      "metadata": {
        "id": "IMd-04Ht2lEX"
      }
    },
    {
      "cell_type": "code",
      "execution_count": null,
      "metadata": {
        "colab": {
          "base_uri": "https://localhost:8080/"
        },
        "id": "HKR_Rk_vuMCR",
        "outputId": "f0f0e418-9a2c-48b5-cb8b-6d62e6830325"
      },
      "outputs": [
        {
          "output_type": "stream",
          "name": "stdout",
          "text": [
            "스칼라 입력: 1\n",
            "랭크 1 입력: [1]\n",
            "랭크 2 입력: [[1]]\n"
          ]
        }
      ],
      "source": [
        "@tf.function\n",
        "def compute_z(a, b, c):\n",
        "    r1 = tf.subtract(a, b)\n",
        "    r2 = tf.multiply(2, r1)\n",
        "    z = tf.add(r2, c)\n",
        "    return z\n",
        "\n",
        "tf.print('스칼라 입력:', compute_z(1, 2, 3))\n",
        "tf.print('랭크 1 입력:', compute_z([1], [2], [3]))\n",
        "tf.print('랭크 2 입력:', compute_z([[1]], [[2]], [[3]]))"
      ]
    },
    {
      "cell_type": "code",
      "execution_count": null,
      "metadata": {
        "colab": {
          "base_uri": "https://localhost:8080/"
        },
        "id": "OFY-qx2vuMCR",
        "outputId": "a50dea60-a005-44f6-8615-ecf9b6fba3ad"
      },
      "outputs": [
        {
          "output_type": "stream",
          "name": "stdout",
          "text": [
            "랭크 1 입력: [1]\n",
            "랭크 1 입력: [1 2]\n"
          ]
        }
      ],
      "source": [
        "@tf.function(input_signature=(tf.TensorSpec(shape=[None], dtype=tf.int32),\n",
        "                              tf.TensorSpec(shape=[None], dtype=tf.int32),\n",
        "                              tf.TensorSpec(shape=[None], dtype=tf.int32),))\n",
        "def compute_z(a, b, c):\n",
        "    r1 = tf.subtract(a, b)\n",
        "    r2 = tf.multiply(2, r1)\n",
        "    z = tf.add(r2, c)\n",
        "    return z\n",
        "\n",
        "tf.print('랭크 1 입력:', compute_z([1], [2], [3]))\n",
        "tf.print('랭크 1 입력:', compute_z([1, 2], [2, 4], [3, 6]))"
      ]
    },
    {
      "cell_type": "markdown",
      "metadata": {
        "id": "5xLOE7O0uMCR"
      },
      "source": [
        "```python\n",
        "## 에러가 발생합니다.\n",
        "tf.print('Rank 2 Inputs:', compute_z([[1], [2]], [[2], [4]], [[3], [6]]))\n",
        "\n",
        "\n",
        "## >> 에러:\n",
        "#ValueError: Python inputs incompatible with input_signature: \n",
        "#inputs (([[1], [2]], [[2], [4]], [[3], [6]])), input_signature \n",
        "#((TensorSpec(shape=(None,), dtype=tf.int32, name=None), \n",
        "#  TensorSpec(shape=(None,), dtype=tf.int32, name=None), \n",
        "#  TensorSpec(shape=(None,), dtype=tf.int32, name=None)))\n",
        "```"
      ]
    },
    {
      "cell_type": "code",
      "execution_count": null,
      "metadata": {
        "colab": {
          "base_uri": "https://localhost:8080/"
        },
        "id": "ulMQ6tpEuMCR",
        "outputId": "e8c524c2-c8a2-4150-bedb-e5a696638188"
      },
      "outputs": [
        {
          "output_type": "execute_result",
          "data": {
            "text/plain": [
              "TensorSpec(shape=(None,), dtype=tf.int32, name=None)"
            ]
          },
          "metadata": {},
          "execution_count": 12
        }
      ],
      "source": [
        "tf.TensorSpec(shape=[None], dtype=tf.int32)"
      ]
    },
    {
      "cell_type": "markdown",
      "metadata": {
        "id": "SzjOhKiiuMCS"
      },
      "source": [
        "## 모델 파라미터를 저장하고 업데이트하기 위한 텐서플로 변수 객체"
      ]
    },
    {
      "cell_type": "markdown",
      "source": [
        "Variable은 훈련하는 동안 모델 파라미터를 저장하고 업데이트할 수 있는 특별한 Tensor 객체이다. \n",
        "\n",
        "Variable은 tf.Variable 클래스를 사용자가 지정한 초깃값으로 호출해서 만들 수 있다. \n",
        "\n",
        "Variable을 만들 때는 항상 초깃값을 제공해야 한다.\n",
        "\n",
        "변수는 trainable속성을 가지며 기본값은 True\n"
      ],
      "metadata": {
        "id": "CGflLJUd8TEh"
      }
    },
    {
      "cell_type": "code",
      "execution_count": null,
      "metadata": {
        "colab": {
          "base_uri": "https://localhost:8080/"
        },
        "id": "F7g0mPwLuMCS",
        "outputId": "73d997e8-02a9-4241-e086-3390a48e0956"
      },
      "outputs": [
        {
          "output_type": "stream",
          "name": "stdout",
          "text": [
            "<tf.Variable 'var_a:0' shape=() dtype=float32, numpy=3.14>\n",
            "<tf.Variable 'var_b:0' shape=(3,) dtype=int32, numpy=array([1, 2, 3], dtype=int32)>\n",
            "<tf.Variable 'Variable:0' shape=(2,) dtype=bool, numpy=array([ True, False])>\n",
            "<tf.Variable 'Variable:0' shape=(1,) dtype=string, numpy=array([b'abc'], dtype=object)>\n"
          ]
        }
      ],
      "source": [
        "a = tf.Variable(initial_value=3.14, name='var_a')\n",
        "b = tf.Variable(initial_value=[1, 2, 3], name='var_b')\n",
        "c = tf.Variable(initial_value=[True, False], dtype=tf.bool)\n",
        "d = tf.Variable(initial_value=['abc'], dtype=tf.string)\n",
        "print(a)\n",
        "print(b)\n",
        "print(c)\n",
        "print(d)"
      ]
    },
    {
      "cell_type": "code",
      "execution_count": null,
      "metadata": {
        "colab": {
          "base_uri": "https://localhost:8080/"
        },
        "id": "Wgfpn9ZhuMCS",
        "outputId": "f48b8819-2a34-4a03-f8b8-f723ef97f5f1"
      },
      "outputs": [
        {
          "output_type": "execute_result",
          "data": {
            "text/plain": [
              "True"
            ]
          },
          "metadata": {},
          "execution_count": 14
        }
      ],
      "source": [
        "a.trainable"
      ]
    },
    {
      "cell_type": "code",
      "execution_count": null,
      "metadata": {
        "colab": {
          "base_uri": "https://localhost:8080/"
        },
        "id": "u37Qx69-uMCS",
        "outputId": "f9d18a0a-d569-48b7-d63d-4de3b0720184"
      },
      "outputs": [
        {
          "output_type": "stream",
          "name": "stdout",
          "text": [
            "False\n"
          ]
        }
      ],
      "source": [
        "w = tf.Variable([1, 2, 3], trainable=False) #훈련하지 않는 Variable 생성\n",
        "\n",
        "print(w.trainable)"
      ]
    },
    {
      "cell_type": "code",
      "execution_count": null,
      "metadata": {
        "colab": {
          "base_uri": "https://localhost:8080/"
        },
        "id": "f0wkJpXRuMCT",
        "outputId": "70893351-73f6-489f-c103-ced20464ff53"
      },
      "outputs": [
        {
          "output_type": "stream",
          "name": "stdout",
          "text": [
            "<tf.Variable 'UnreadVariable' shape=(3,) dtype=int32, numpy=array([3, 1, 4], dtype=int32)>\n",
            "tf.Tensor([5 0 6], shape=(3,), dtype=int32)\n"
          ]
        }
      ],
      "source": [
        "print(w.assign([3, 1, 4], read_value=True))\n",
        "w.assign_add([2, -1, 2], read_value=False)\n",
        "\n",
        "print(w.value())"
      ]
    },
    {
      "cell_type": "markdown",
      "source": [
        "신결망모델을 생각해보면 역전파하는 동안 대칭성을 깨뜨리기 위해 모델 파라미터를 랜덤한 가중치로 초기화 해야한다. 그렇지 않으면 다층 신경망이 로지스틱 회귀와 같은 단일층 신경망보다 더 낫지 않다. \n",
        "\n",
        "---\n",
        "\n",
        "세이비어 글로럿과 요슈아 벤지오가 제안한 고전적인 랜덤 초기화 방법인 글로럿 초기화로 Variable을 만들어 보겠다. \n",
        "\n",
        "세이비어 초기화 이면에 있는 아이디어는 여러층을 거치는 그레디언트 분산 사이에서 균형을 맞추는 것이다. 그렇지 않으면 하나의 층이 훈련하는 동안 너무 주목을 받거나 다른 층이 학습에 뒤처질 수 있다 \n",
        "\n",
        "- GlorotNormal 클래스의 객체 init을 만든 뒤 원하는 출력 텐서 크기를 지정하여 이 객체를 호출한다. "
      ],
      "metadata": {
        "id": "bpCDqV6H_Gen"
      }
    },
    {
      "cell_type": "code",
      "execution_count": null,
      "metadata": {
        "colab": {
          "base_uri": "https://localhost:8080/"
        },
        "id": "XF3eRs6PuMCT",
        "outputId": "e92aa10a-6153-4645-9be3-f5c11c500bf8"
      },
      "outputs": [
        {
          "output_type": "stream",
          "name": "stdout",
          "text": [
            "[-0.722795904 1.01456821 0.251808226]\n"
          ]
        }
      ],
      "source": [
        "\n",
        "tf.random.set_seed(1)\n",
        "init = tf.keras.initializers.GlorotNormal()\n",
        "\n",
        "tf.print(init(shape=(3,)))"
      ]
    },
    {
      "cell_type": "code",
      "execution_count": null,
      "metadata": {
        "colab": {
          "base_uri": "https://localhost:8080/"
        },
        "id": "2ilsY1xKuMCT",
        "outputId": "7a5a3934-9016-4f00-9483-2fac3d5a81bc"
      },
      "outputs": [
        {
          "output_type": "stream",
          "name": "stdout",
          "text": [
            "[[0.28982234 -0.782292843 -0.0453658961]\n",
            " [0.960991383 -0.120003454 0.708528221]]\n"
          ]
        }
      ],
      "source": [
        "v = tf.Variable(init(shape=(2, 3)))\n",
        "tf.print(v)"
      ]
    },
    {
      "cell_type": "code",
      "execution_count": null,
      "metadata": {
        "colab": {
          "base_uri": "https://localhost:8080/"
        },
        "id": "YNHCQd7WuMCT",
        "outputId": "8543d311-d6b1-40d3-9bb5-674535d54c9c",
        "scrolled": true
      },
      "outputs": [
        {
          "output_type": "stream",
          "name": "stdout",
          "text": [
            "모든 변수:  [TensorShape([2, 3]), TensorShape([1, 2])]\n",
            "훈련 가능한 변수:    [TensorShape([2, 3])]\n"
          ]
        }
      ],
      "source": [
        "class MyModule(tf.Module):\n",
        "    def __init__(self):\n",
        "        init = tf.keras.initializers.GlorotNormal()\n",
        "        self.w1 = tf.Variable(init(shape=(2, 3)), trainable=True)\n",
        "        self.w2 = tf.Variable(init(shape=(1, 2)), trainable=False)\n",
        "                \n",
        "m = MyModule()\n",
        "print('모든 변수: ', [v.shape for v in m.variables])\n",
        "print('훈련 가능한 변수:   ', [v.shape for v in \n",
        "                        m.trainable_variables])"
      ]
    },
    {
      "cell_type": "markdown",
      "metadata": {
        "id": "GXoNe9XCuMCU"
      },
      "source": [
        "#### `tf.function`과 함께 `Variable` 사용하기"
      ]
    },
    {
      "cell_type": "markdown",
      "source": [
        "보통의 함수에 Variable 객체를 정의하면 함수가 호출될 때마다 새로운 Variable 객체가 생성된다고 생각할 수 있다. \n",
        "\n",
        "그러나 tf.function은 트레이싱과 그래프 생성을 통해 Variable 객체를 재사용한다. 따라서 텐서플로는 데코레이터가 적용된 함수 안에서 Variable 객체를 만들지 못하게 하려고 에러를 발생시킨다. "
      ],
      "metadata": {
        "id": "VPJIqTwHFFMt"
      }
    },
    {
      "cell_type": "markdown",
      "metadata": {
        "id": "SNZD7eDQuMCU"
      },
      "source": [
        "```python\n",
        "\n",
        "## 이렇게 하면 에러가 발생합니다.\n",
        "## ==> tf.function 데코레이트가 적용된 함수 안에서는\n",
        "##     변수를 만들 수 없습니다.\n",
        "\n",
        "@tf.function\n",
        "def f(x):\n",
        "    w = tf.Variable([1, 2, 3])\n",
        "\n",
        "f([1])\n",
        "\n",
        "## ==> 에러\n",
        "## ValueError: tf.function-decorated function tried to create variables on non-first call.\n",
        "\n",
        "```"
      ]
    },
    {
      "cell_type": "markdown",
      "source": [
        "이 문제를 고치기 위해 데코레이터가 적용된 함수 밖에서 Variable 객체를 정의하고 함수에서 이를 사용하자"
      ],
      "metadata": {
        "id": "rbsjx_ZjFeYU"
      }
    },
    {
      "cell_type": "code",
      "execution_count": null,
      "metadata": {
        "colab": {
          "base_uri": "https://localhost:8080/"
        },
        "id": "n1UL0kSMuMCU",
        "outputId": "eca254d6-b851-4de6-c65e-5731897b0ddc"
      },
      "outputs": [
        {
          "output_type": "stream",
          "name": "stdout",
          "text": [
            "[[3.8610158]\n",
            " [2.94593048]\n",
            " [3.82629013]]\n"
          ]
        }
      ],
      "source": [
        "import tensorflow as tf\n",
        "\n",
        "tf.random.set_seed(1)\n",
        "w = tf.Variable(tf.random.uniform((3, 3)))\n",
        "\n",
        "@tf.function\n",
        "def compute_z(x):    \n",
        "    return tf.matmul(w, x)\n",
        "\n",
        "x = tf.constant([[1], [2], [3]], dtype=tf.float32)\n",
        "tf.print(compute_z(x))"
      ]
    },
    {
      "cell_type": "markdown",
      "metadata": {
        "id": "9_1iMzZVuMCU"
      },
      "source": [
        "## 자동 미분과 GradientTape을 사용해 그레이디언트 계산하기"
      ]
    },
    {
      "cell_type": "markdown",
      "metadata": {
        "id": "3B7fvhS5uMCV"
      },
      "source": [
        "### 훈련 가능한 변수에 대한 손실의 그레이디언트 계산하기"
      ]
    },
    {
      "cell_type": "markdown",
      "source": [
        "텐서플로는 자동미분을 지원한다.\n",
        "\n",
        "어떤 출력이나 계산 중간에 텐서를 만드는 일련의 연산을 정의할 때 텐서플로는 계산 그래프 안에서 의존성을 가지는 노드에 대해 이런 텐서의 그레디언트를 계산하는 기능을 제공한다. "
      ],
      "metadata": {
        "id": "IDFe78cUJwE6"
      }
    },
    {
      "cell_type": "code",
      "execution_count": null,
      "metadata": {
        "colab": {
          "base_uri": "https://localhost:8080/"
        },
        "id": "otgkgVFOuMCW",
        "outputId": "420f3d4c-ce47-4834-f830-56b2dffc3af6"
      },
      "outputs": [
        {
          "output_type": "stream",
          "name": "stdout",
          "text": [
            "True True\n",
            "dL/dw :  -0.559999764\n"
          ]
        }
      ],
      "source": [
        "import tensorflow as tf\n",
        "\n",
        "w = tf.Variable(1.0)\n",
        "b = tf.Variable(0.5)\n",
        "print(w.trainable, b.trainable)\n",
        "\n",
        "x = tf.convert_to_tensor([1.4])\n",
        "y = tf.convert_to_tensor([2.1])\n",
        "\n",
        "with tf.GradientTape() as tape:\n",
        "    z = tf.add(tf.multiply(w, x), b)\n",
        "    loss = tf.reduce_sum(tf.square(y - z))\n",
        "\n",
        "dloss_dw = tape.gradient(loss, w)\n",
        "\n",
        "tf.print('dL/dw : ', dloss_dw)"
      ]
    },
    {
      "cell_type": "code",
      "execution_count": null,
      "metadata": {
        "colab": {
          "base_uri": "https://localhost:8080/"
        },
        "id": "XpIX3BunuMCW",
        "outputId": "6d8118bb-713c-4aa3-e0f8-82d0f18e0f3a"
      },
      "outputs": [
        {
          "output_type": "stream",
          "name": "stdout",
          "text": [
            "[-0.559999764]\n"
          ]
        }
      ],
      "source": [
        "# 계산된 그레이디언트 확인\n",
        "#tf.print(-2*x * (-b - w*x + y))\n",
        "\n",
        "tf.print(2*x * ((w*x + b) - y))"
      ]
    },
    {
      "cell_type": "markdown",
      "metadata": {
        "id": "L4Lj0UJ1uMCX"
      },
      "source": [
        "### 훈련하지 않는 변수에 대한 그레이디언트 계산하기\n",
        "\n",
        "`tape.watch()`를 사용해 훈련하지 않는 텐서를 모니터링합니다"
      ]
    },
    {
      "cell_type": "code",
      "execution_count": null,
      "metadata": {
        "colab": {
          "base_uri": "https://localhost:8080/"
        },
        "id": "_HmT93umuMCX",
        "outputId": "a7551cff-b091-4a19-cc82-6d9cffc6d4d2"
      },
      "outputs": [
        {
          "output_type": "stream",
          "name": "stdout",
          "text": [
            "dL/dx: [-0.399999857]\n"
          ]
        }
      ],
      "source": [
        "with tf.GradientTape() as tape:\n",
        "    tape.watch(x)\n",
        "    z = tf.add(tf.multiply(w, x), b)\n",
        "    loss = tf.square(y - z)\n",
        "\n",
        "dloss_dx = tape.gradient(loss, x)\n",
        "\n",
        "tf.print('dL/dx:', dloss_dx)"
      ]
    },
    {
      "cell_type": "code",
      "execution_count": null,
      "metadata": {
        "colab": {
          "base_uri": "https://localhost:8080/"
        },
        "id": "ZgOO24ENuMCX",
        "outputId": "0e9c553a-0df3-4b6b-a6f7-08033504534c"
      },
      "outputs": [
        {
          "output_type": "stream",
          "name": "stdout",
          "text": [
            "[-0.399999857]\n"
          ]
        }
      ],
      "source": [
        "# 계산된 그레이디언트 검증\n",
        "tf.print(2*w * ((w*x + b) - y))"
      ]
    },
    {
      "cell_type": "markdown",
      "metadata": {
        "id": "5hdetaLHuMCX"
      },
      "source": [
        "### 여러 개의 그레이디언트 계산하기\n",
        "\n",
        "tf.GradientTape 컨텍스트에서 계산을 모니터링할 때 기본적으로 이 테이프느 ㄴ하나의 그레이티언트 계산을 위한 자원만 유지한다. tape.gradient()를 한 번 호출하고 나면 이 자원이 반납되고 테이프는 초기화 된다. \n",
        "\n",
        "\n",
        "따라서 하나 이상의 그레이디언트를 계산하고자 할 땐 `persistent=True`를 사용합니다."
      ]
    },
    {
      "cell_type": "code",
      "execution_count": null,
      "metadata": {
        "colab": {
          "base_uri": "https://localhost:8080/"
        },
        "id": "c_IPqjgRuMCX",
        "outputId": "8e9bc13d-0818-4c9d-db73-e52d3c6fa5a4"
      },
      "outputs": [
        {
          "output_type": "stream",
          "name": "stdout",
          "text": [
            "dL/dw: -0.559999764\n",
            "dL/db: -0.399999857\n"
          ]
        }
      ],
      "source": [
        "with tf.GradientTape(persistent=True) as tape:\n",
        "    z = tf.add(tf.multiply(w, x), b)\n",
        "    loss = tf.reduce_sum(tf.square(y - z))\n",
        "\n",
        "dloss_dw = tape.gradient(loss, w)\n",
        "dloss_db = tape.gradient(loss, b)\n",
        "\n",
        "tf.print('dL/dw:', dloss_dw)\n",
        "tf.print('dL/db:', dloss_db)"
      ]
    },
    {
      "cell_type": "markdown",
      "metadata": {
        "id": "rE-prplFuMCY"
      },
      "source": [
        "#### 변수 업데이트: `optimizer.apply_gradients()`"
      ]
    },
    {
      "cell_type": "code",
      "execution_count": null,
      "metadata": {
        "colab": {
          "base_uri": "https://localhost:8080/"
        },
        "id": "clKdTjgouMCY",
        "outputId": "371c3c06-a1d6-4056-cb4b-b3d8062000c6"
      },
      "outputs": [
        {
          "output_type": "stream",
          "name": "stdout",
          "text": [
            "업데이트된 w: 1.0056\n",
            "업데이트된 b: 0.504\n"
          ]
        }
      ],
      "source": [
        "optimizer = tf.keras.optimizers.SGD()\n",
        "\n",
        "optimizer.apply_gradients(zip([dloss_dw, dloss_db], [w, b]))\n",
        "\n",
        "tf.print('업데이트된 w:', w)\n",
        "tf.print('업데이트된 b:', b)"
      ]
    },
    {
      "cell_type": "markdown",
      "metadata": {
        "id": "sJQHF5-fuMCY"
      },
      "source": [
        "## 케라스 API를 사용해 간단하게 일반적인 구조 구현하기"
      ]
    },
    {
      "cell_type": "code",
      "execution_count": null,
      "metadata": {
        "colab": {
          "base_uri": "https://localhost:8080/"
        },
        "id": "qikbGL6FuMCZ",
        "outputId": "d9cba2f8-7d13-4efd-bafe-a700aa33714b"
      },
      "outputs": [
        {
          "output_type": "stream",
          "name": "stdout",
          "text": [
            "Model: \"sequential\"\n",
            "_________________________________________________________________\n",
            " Layer (type)                Output Shape              Param #   \n",
            "=================================================================\n",
            " dense (Dense)               (None, 16)                80        \n",
            "                                                                 \n",
            " dense_1 (Dense)             (None, 32)                544       \n",
            "                                                                 \n",
            "=================================================================\n",
            "Total params: 624\n",
            "Trainable params: 624\n",
            "Non-trainable params: 0\n",
            "_________________________________________________________________\n"
          ]
        }
      ],
      "source": [
        "model = tf.keras.Sequential()\n",
        "model.add(tf.keras.layers.Dense(units=16, activation='relu'))\n",
        "model.add(tf.keras.layers.Dense(units=32, activation='relu'))\n",
        "\n",
        "## 변수 지연 생성\n",
        "model.build(input_shape=(None, 4))\n",
        "model.summary()"
      ]
    },
    {
      "cell_type": "code",
      "execution_count": null,
      "metadata": {
        "colab": {
          "base_uri": "https://localhost:8080/"
        },
        "id": "__q8lNy_uMCZ",
        "outputId": "8ae372c4-5e0c-448f-8371-5adf1960f190"
      },
      "outputs": [
        {
          "output_type": "stream",
          "name": "stdout",
          "text": [
            "dense/kernel:0       True (4, 16)\n",
            "dense/bias:0         True (16,)\n",
            "dense_1/kernel:0     True (16, 32)\n",
            "dense_1/bias:0       True (32,)\n"
          ]
        }
      ],
      "source": [
        "## 모델의 변수 출력하기\n",
        "for v in model.variables:\n",
        "    print('{:20s}'.format(v.name), v.trainable, v.shape)"
      ]
    },
    {
      "cell_type": "markdown",
      "metadata": {
        "id": "ZlTglQtouMCZ"
      },
      "source": [
        "#### 층 설정\n",
        "\n",
        "* `tf.keras.activations`에서 활성화 함수를 선택하기: https://www.tensorflow.org/api_docs/python/tf/keras/activations\n",
        "* `tf.keras.initializers`로 층의 파라미터 초기화하기: https://www.tensorflow.org/api_docs/python/tf/keras/initializers\n",
        "* `tf.keras.regularizers`로 (과대적합을 막기 위해) 층의 파라미터에 규제 적용하기: https://www.tensorflow.org/api_docs/python/tf/keras/regularizers"
      ]
    },
    {
      "cell_type": "code",
      "execution_count": null,
      "metadata": {
        "colab": {
          "base_uri": "https://localhost:8080/"
        },
        "id": "YBDGYfikuMCZ",
        "outputId": "333c58fc-902b-4438-cf0d-abf34c5c35e5"
      },
      "outputs": [
        {
          "output_type": "stream",
          "name": "stdout",
          "text": [
            "Model: \"sequential_1\"\n",
            "_________________________________________________________________\n",
            " Layer (type)                Output Shape              Param #   \n",
            "=================================================================\n",
            " dense_2 (Dense)             (None, 16)                80        \n",
            "                                                                 \n",
            " dense_3 (Dense)             (None, 32)                544       \n",
            "                                                                 \n",
            "=================================================================\n",
            "Total params: 624\n",
            "Trainable params: 624\n",
            "Non-trainable params: 0\n",
            "_________________________________________________________________\n"
          ]
        }
      ],
      "source": [
        "model = tf.keras.Sequential()\n",
        "\n",
        "model.add(\n",
        "    tf.keras.layers.Dense(\n",
        "        units=16, \n",
        "        activation=tf.keras.activations.relu,\n",
        "        kernel_initializer=tf.keras.initializers.GlorotNormal(),\n",
        "        bias_initializer=tf.keras.initializers.Constant(2.0)\n",
        "    ))\n",
        "\n",
        "model.add(\n",
        "    tf.keras.layers.Dense(\n",
        "        units=32, \n",
        "        activation=tf.keras.activations.sigmoid,\n",
        "        kernel_regularizer=tf.keras.regularizers.l1\n",
        "    ))\n",
        "\n",
        "model.build(input_shape=(None, 4))\n",
        "model.summary()"
      ]
    },
    {
      "cell_type": "markdown",
      "metadata": {
        "id": "FHaMQhIZuMCZ"
      },
      "source": [
        "#### 모델 컴파일\n",
        "\n",
        "* `tf.keras.optimizers`에 있는 옵티마이저: https://www.tensorflow.org/api_docs/python/tf/keras/optimizers\n",
        "* `tf.keras.losses`에 있는 손실 함수: https://www.tensorflow.org/api_docs/python/tf/keras/losses\n",
        "* `tf.keras.metrics`에 있는 성능 지표: https://www.tensorflow.org/api_docs/python/tf/keras/metrics"
      ]
    },
    {
      "cell_type": "code",
      "execution_count": null,
      "metadata": {
        "id": "3RBcRZdduMCZ"
      },
      "outputs": [],
      "source": [
        "model.compile(\n",
        "    optimizer=tf.keras.optimizers.SGD(learning_rate=0.001),\n",
        "    loss=tf.keras.losses.BinaryCrossentropy(),\n",
        "    metrics=[tf.keras.metrics.Accuracy(), \n",
        "             tf.keras.metrics.Precision(),\n",
        "             tf.keras.metrics.Recall(),])"
      ]
    },
    {
      "cell_type": "markdown",
      "metadata": {
        "id": "ZLIQM0xYuMCZ"
      },
      "source": [
        "### XOR 분류 문제 풀어보기"
      ]
    },
    {
      "cell_type": "code",
      "execution_count": null,
      "metadata": {
        "colab": {
          "base_uri": "https://localhost:8080/",
          "height": 394
        },
        "id": "vJxkx_TAuMCa",
        "outputId": "31454cae-9ca9-4815-8699-66051c3ae05c",
        "scrolled": true
      },
      "outputs": [
        {
          "output_type": "display_data",
          "data": {
            "text/plain": [
              "<Figure size 432x432 with 1 Axes>"
            ],
            "image/png": "[encoded data removed]"
          },
          "metadata": {
            "needs_background": "light"
          }
        }
      ],
      "source": [
        "tf.random.set_seed(1)\n",
        "np.random.seed(1)\n",
        "\n",
        "x = np.random.uniform(low=-1, high=1, size=(200, 2))\n",
        "y = np.ones(len(x))\n",
        "y[x[:, 0] * x[:, 1]<0] = 0\n",
        "\n",
        "x_train = x[:100, :]\n",
        "y_train = y[:100]\n",
        "x_valid = x[100:, :]\n",
        "y_valid = y[100:]\n",
        "\n",
        "fig = plt.figure(figsize=(6, 6))\n",
        "plt.plot(x[y==0, 0], \n",
        "         x[y==0, 1], 'o', alpha=0.75, markersize=10)\n",
        "plt.plot(x[y==1, 0], \n",
        "         x[y==1, 1], '<', alpha=0.75, markersize=10)\n",
        "plt.xlabel(r'$x_1$', size=15)\n",
        "plt.ylabel(r'$x_2$', size=15)\n",
        "# plt.savefig('images/14_1.png', dpi=300)\n",
        "plt.show()"
      ]
    },
    {
      "cell_type": "markdown",
      "source": [
        "이 문제와 데이터셋에서 어떤 구조르 ㄹ사용할지 결정해야 한다. \n",
        "\n",
        "경험저그올 보면 층이 많을수록 각 층에 뉴런 개수가 많을수록 모델의 수용 능력이 크다.\n",
        "\n",
        "여기서 모델의 수용 능력은 모델이 얼마나 복잡한 함수를 근사할 수 있는지를 측정한 것으로 생각 가능.\n",
        "\n",
        "실제로는 간단한 단일층 신경망처럼 간단한 기본 모델로 시작하는 것이 좋다. "
      ],
      "metadata": {
        "id": "4v99WoK-tG7f"
      }
    },
    {
      "cell_type": "code",
      "execution_count": null,
      "metadata": {
        "colab": {
          "base_uri": "https://localhost:8080/"
        },
        "id": "F8uAWPsguMCa",
        "outputId": "da186985-987f-466d-f9ad-d3ddb94bd021"
      },
      "outputs": [
        {
          "output_type": "stream",
          "name": "stdout",
          "text": [
            "Model: \"sequential_2\"\n",
            "_________________________________________________________________\n",
            " Layer (type)                Output Shape              Param #   \n",
            "=================================================================\n",
            " dense_4 (Dense)             (None, 1)                 3         \n",
            "                                                                 \n",
            "=================================================================\n",
            "Total params: 3\n",
            "Trainable params: 3\n",
            "Non-trainable params: 0\n",
            "_________________________________________________________________\n"
          ]
        }
      ],
      "source": [
        "model = tf.keras.Sequential()\n",
        "model.add(tf.keras.layers.Dense(units=1, \n",
        "                                input_shape=(2,), \n",
        "                                activation='sigmoid'))\n",
        "\n",
        "model.summary()"
      ]
    },
    {
      "cell_type": "markdown",
      "source": [
        "간단한 이 로지스틱 회귀 모델의 전체 파라미터 크기는 3이다. \n",
        "\n",
        "가중치 행렬의 크기가 2x1이고 절편 벡터의 크기는 1이다. \n",
        "\n",
        "모델을 정의한 후 컴파일하고 배치 크기 2로 200 에포크 동안 훈련한다."
      ],
      "metadata": {
        "id": "hHXdMMulttIj"
      }
    },
    {
      "cell_type": "code",
      "execution_count": null,
      "metadata": {
        "id": "uDX1wO92uMCa",
        "scrolled": true
      },
      "outputs": [],
      "source": [
        "model.compile(optimizer=tf.keras.optimizers.SGD(),\n",
        "              loss=tf.keras.losses.BinaryCrossentropy(),\n",
        "              metrics=[tf.keras.metrics.BinaryAccuracy()])"
      ]
    },
    {
      "cell_type": "code",
      "execution_count": null,
      "metadata": {
        "id": "2otPTzMxuMCa"
      },
      "outputs": [],
      "source": [
        "hist = model.fit(x_train, y_train, \n",
        "                 validation_data=(x_valid, y_valid), \n",
        "                 epochs=200, batch_size=2, verbose=0)"
      ]
    },
    {
      "cell_type": "markdown",
      "source": [
        "model.fit 메서드는 훈련 에포크의 기록을 반환한다. -> 훈련한 후 이를 시각화하여 분석하기 좋다. \n",
        "\n"
      ],
      "metadata": {
        "id": "WJd-T35muBGC"
      }
    },
    {
      "cell_type": "code",
      "execution_count": null,
      "metadata": {
        "colab": {
          "base_uri": "https://localhost:8080/",
          "height": 331
        },
        "id": "TdofpXaAuMCa",
        "outputId": "7aa7d7e6-4549-486e-8c4a-7989cda2c0e0"
      },
      "outputs": [
        {
          "output_type": "stream",
          "name": "stderr",
          "text": [
            "/usr/local/lib/python3.7/dist-packages/ipykernel_launcher.py:19: DeprecationWarning: Converting `np.integer` or `np.signedinteger` to a dtype is deprecated. The current result is `np.dtype(np.int_)` which is not strictly correct. Note that the result depends on the system. To ensure stable results use may want to use `np.int64` or `np.int32`.\n"
          ]
        },
        {
          "output_type": "display_data",
          "data": {
            "text/plain": [
              "<Figure size 1152x288 with 3 Axes>"
            ],
            "image/png": "[encoded data removed]"
          },
          "metadata": {
            "needs_background": "light"
          }
        }
      ],
      "source": [
        "from mlxtend.plotting import plot_decision_regions\n",
        "\n",
        "history = hist.history\n",
        "\n",
        "fig = plt.figure(figsize=(16, 4))\n",
        "ax = fig.add_subplot(1, 3, 1)\n",
        "plt.plot(history['loss'], lw=4)\n",
        "plt.plot(history['val_loss'], lw=4)\n",
        "plt.legend(['Train loss', 'Validation loss'], fontsize=15)\n",
        "ax.set_xlabel('Epochs', size=15)\n",
        "\n",
        "ax = fig.add_subplot(1, 3, 2)\n",
        "plt.plot(history['binary_accuracy'], lw=4)\n",
        "plt.plot(history['val_binary_accuracy'], lw=4)\n",
        "plt.legend(['Train Acc.', 'Validation Acc.'], fontsize=15)\n",
        "ax.set_xlabel('Epochs', size=15)\n",
        "\n",
        "ax = fig.add_subplot(1, 3, 3)\n",
        "plot_decision_regions(X=x_valid, y=y_valid.astype(np.integer),\n",
        "                      clf=model)\n",
        "ax.set_xlabel(r'$x_1$', size=15)\n",
        "ax.xaxis.set_label_coords(1, -0.025)\n",
        "ax.set_ylabel(r'$x_2$', size=15)\n",
        "ax.yaxis.set_label_coords(-0.025, 1)\n",
        "# plt.savefig('images/14_2.png', dpi=300)\n",
        "plt.show()"
      ]
    },
    {
      "cell_type": "markdown",
      "source": [
        "**MLxtend 아이브러리를 사용하여 검증 데이터와 결정 경계를 시각화**\n",
        "\n",
        "은닉층이 없는 간단한 모델은 선형 결정 경계만 찾을 수 있다. -> XOR 문제를 풀 수 없다. \n",
        "\n",
        "훈련 데이터셋과 검증 데이터셋의 손실이 매우 높고 분류 정확도는 매우 낮다. \n",
        "\n",
        "---\n",
        "\n",
        "일반 근사 이론에 의하면 하나의 은닉층과 매우 많은 은닉 유닛을 가진 피드포워드 신경망은 임의의 연속 함수를 비교적 잘 근사할 수 있다. \n",
        "\n",
        "- 은닉 유닛을 늘린다는 것은 층의 폭을 넓히는 것과 같다\n",
        "\n",
        "\n",
        "혹은, 더 많은 은닉층을 추가하여 모델의 깊이를 깊게 할 수 있다 .\n",
        "\n",
        "- 네트워크의 폭 대신 깊이를 깊게 하면 비슷한 모델 수용능력을 달성하는 데 필요한 파라미터 개수가 적다는 장점이 있다. \n",
        "\n",
        "- 그러나 깊은 모델은 그레디언트가 폭주하거나 소멸될 수 있어 훈련하기 어렵다는 단점도 존재.\n",
        "\n",
        "\n",
        "\n"
      ],
      "metadata": {
        "id": "lHzsy_bBuIjh"
      }
    },
    {
      "cell_type": "code",
      "execution_count": null,
      "metadata": {
        "colab": {
          "base_uri": "https://localhost:8080/"
        },
        "id": "WINOBAGSuMCa",
        "outputId": "7bcc24a4-25d7-411c-e2cb-f563c4e0c255"
      },
      "outputs": [
        {
          "output_type": "stream",
          "name": "stdout",
          "text": [
            "Model: \"sequential_3\"\n",
            "_________________________________________________________________\n",
            " Layer (type)                Output Shape              Param #   \n",
            "=================================================================\n",
            " dense_5 (Dense)             (None, 4)                 12        \n",
            "                                                                 \n",
            " dense_6 (Dense)             (None, 4)                 20        \n",
            "                                                                 \n",
            " dense_7 (Dense)             (None, 4)                 20        \n",
            "                                                                 \n",
            " dense_8 (Dense)             (None, 1)                 5         \n",
            "                                                                 \n",
            "=================================================================\n",
            "Total params: 57\n",
            "Trainable params: 57\n",
            "Non-trainable params: 0\n",
            "_________________________________________________________________\n"
          ]
        }
      ],
      "source": [
        "tf.random.set_seed(1)\n",
        "\n",
        "model = tf.keras.Sequential()\n",
        "model.add(tf.keras.layers.Dense(units=4, input_shape=(2,), activation='relu'))\n",
        "model.add(tf.keras.layers.Dense(units=4, activation='relu'))\n",
        "model.add(tf.keras.layers.Dense(units=4, activation='relu'))\n",
        "model.add(tf.keras.layers.Dense(units=1, activation='sigmoid'))\n",
        "\n",
        "model.summary()\n",
        "\n",
        "## 컴파일:\n",
        "model.compile(optimizer=tf.keras.optimizers.SGD(),\n",
        "              loss=tf.keras.losses.BinaryCrossentropy(),\n",
        "              metrics=[tf.keras.metrics.BinaryAccuracy()])\n",
        "\n",
        "## 훈련:\n",
        "hist = model.fit(x_train, y_train, \n",
        "                 validation_data=(x_valid, y_valid), \n",
        "                 epochs=200, batch_size=2, verbose=0)\n",
        "\n",
        "history = hist.history"
      ]
    },
    {
      "cell_type": "code",
      "execution_count": null,
      "metadata": {
        "colab": {
          "base_uri": "https://localhost:8080/",
          "height": 350
        },
        "id": "Ukg6EnHsuMCb",
        "outputId": "62c2dfbe-41ae-415d-f4f4-00708eeb2fd0"
      },
      "outputs": [
        {
          "output_type": "stream",
          "name": "stderr",
          "text": [
            "/usr/local/lib/python3.7/dist-packages/ipykernel_launcher.py:15: DeprecationWarning: Converting `np.integer` or `np.signedinteger` to a dtype is deprecated. The current result is `np.dtype(np.int_)` which is not strictly correct. Note that the result depends on the system. To ensure stable results use may want to use `np.int64` or `np.int32`.\n",
            "  from ipykernel import kernelapp as app\n"
          ]
        },
        {
          "output_type": "display_data",
          "data": {
            "text/plain": [
              "<Figure size 1152x288 with 3 Axes>"
            ],
            "image/png": "[encoded data removed]"
          },
          "metadata": {
            "needs_background": "light"
          }
        }
      ],
      "source": [
        "fig = plt.figure(figsize=(16, 4))\n",
        "ax = fig.add_subplot(1, 3, 1)\n",
        "plt.plot(history['loss'], lw=4)\n",
        "plt.plot(history['val_loss'], lw=4)\n",
        "plt.legend(['Train loss', 'Validation loss'], fontsize=15)\n",
        "ax.set_xlabel('Epochs', size=15)\n",
        "\n",
        "ax = fig.add_subplot(1, 3, 2)\n",
        "plt.plot(history['binary_accuracy'], lw=4)\n",
        "plt.plot(history['val_binary_accuracy'], lw=4)\n",
        "plt.legend(['Train Acc.', 'Validation Acc.'], fontsize=15)\n",
        "ax.set_xlabel('Epochs', size=15)\n",
        "\n",
        "ax = fig.add_subplot(1, 3, 3)\n",
        "plot_decision_regions(X=x_valid, y=y_valid.astype(np.integer),\n",
        "                      clf=model)\n",
        "ax.set_xlabel(r'$x_1$', size=15)\n",
        "ax.xaxis.set_label_coords(1, -0.025)\n",
        "ax.set_ylabel(r'$x_2$', size=15)\n",
        "ax.yaxis.set_label_coords(-0.025, 1)\n",
        "# plt.savefig('images/14_3.png', dpi=300)\n",
        "plt.show()"
      ]
    },
    {
      "cell_type": "markdown",
      "metadata": {
        "id": "a80uG6IruMCb"
      },
      "source": [
        "### 케라스 함수형 API로 유연성이 높은 모델 만들기"
      ]
    },
    {
      "cell_type": "code",
      "execution_count": null,
      "metadata": {
        "colab": {
          "base_uri": "https://localhost:8080/"
        },
        "id": "SWsKMeXguMCb",
        "outputId": "0f3be01a-9d47-4f07-bc3e-3ddd0ed6f705"
      },
      "outputs": [
        {
          "output_type": "stream",
          "name": "stdout",
          "text": [
            "Model: \"model\"\n",
            "_________________________________________________________________\n",
            " Layer (type)                Output Shape              Param #   \n",
            "=================================================================\n",
            " input_1 (InputLayer)        [(None, 2)]               0         \n",
            "                                                                 \n",
            " dense_9 (Dense)             (None, 4)                 12        \n",
            "                                                                 \n",
            " dense_10 (Dense)            (None, 4)                 20        \n",
            "                                                                 \n",
            " dense_11 (Dense)            (None, 4)                 20        \n",
            "                                                                 \n",
            " dense_12 (Dense)            (None, 1)                 5         \n",
            "                                                                 \n",
            "=================================================================\n",
            "Total params: 57\n",
            "Trainable params: 57\n",
            "Non-trainable params: 0\n",
            "_________________________________________________________________\n"
          ]
        }
      ],
      "source": [
        "tf.random.set_seed(1)\n",
        "\n",
        "## 입력층\n",
        "inputs = tf.keras.Input(shape=(2,))\n",
        "\n",
        "## 은닉층\n",
        "h1 = tf.keras.layers.Dense(units=4, activation='relu')(inputs)\n",
        "h2 = tf.keras.layers.Dense(units=4, activation='relu')(h1)\n",
        "h3 = tf.keras.layers.Dense(units=4, activation='relu')(h2)\n",
        "\n",
        "## 출력층\n",
        "outputs = tf.keras.layers.Dense(units=1, activation='sigmoid')(h3)\n",
        "\n",
        "## 모델 만들기\n",
        "model = tf.keras.Model(inputs=inputs, outputs=outputs)\n",
        "\n",
        "model.summary()"
      ]
    },
    {
      "cell_type": "code",
      "execution_count": null,
      "metadata": {
        "colab": {
          "base_uri": "https://localhost:8080/"
        },
        "id": "_UJWTq9luMCb",
        "outputId": "946362ea-a479-40f3-a4b3-7bcc934806b0"
      },
      "outputs": [
        {
          "output_type": "stream",
          "name": "stderr",
          "text": [
            "/usr/local/lib/python3.7/dist-packages/ipykernel_launcher.py:28: DeprecationWarning: Converting `np.integer` or `np.signedinteger` to a dtype is deprecated. The current result is `np.dtype(np.int_)` which is not strictly correct. Note that the result depends on the system. To ensure stable results use may want to use `np.int64` or `np.int32`.\n"
          ]
        },
        {
          "output_type": "display_data",
          "data": {
            "text/plain": [
              "<Figure size 1152x288 with 3 Axes>"
            ],
            "image/png": "[encoded data removed]"
          },
          "metadata": {
            "needs_background": "light"
          }
        }
      ],
      "source": [
        "## 컴파일\n",
        "model.compile(optimizer=tf.keras.optimizers.SGD(),\n",
        "              loss=tf.keras.losses.BinaryCrossentropy(),\n",
        "              metrics=[tf.keras.metrics.BinaryAccuracy()])\n",
        "\n",
        "## 훈련\n",
        "hist = model.fit(x_train, y_train, \n",
        "                 validation_data=(x_valid, y_valid), \n",
        "                 epochs=200, batch_size=2, verbose=0)\n",
        "\n",
        "## 그래프 그리기\n",
        "history = hist.history\n",
        "\n",
        "fig = plt.figure(figsize=(16, 4))\n",
        "ax = fig.add_subplot(1, 3, 1)\n",
        "plt.plot(history['loss'], lw=4)\n",
        "plt.plot(history['val_loss'], lw=4)\n",
        "plt.legend(['Train loss', 'Validation loss'], fontsize=15)\n",
        "ax.set_xlabel('Epochs', size=15)\n",
        "\n",
        "ax = fig.add_subplot(1, 3, 2)\n",
        "plt.plot(history['binary_accuracy'], lw=4)\n",
        "plt.plot(history['val_binary_accuracy'], lw=4)\n",
        "plt.legend(['Train Acc.', 'Validation Acc.'], fontsize=15)\n",
        "ax.set_xlabel('Epochs', size=15)\n",
        "\n",
        "ax = fig.add_subplot(1, 3, 3)\n",
        "plot_decision_regions(X=x_valid, y=y_valid.astype(np.integer),\n",
        "                      clf=model)\n",
        "ax.set_xlabel(r'$x_1$', size=15)\n",
        "ax.xaxis.set_label_coords(1, -0.025)\n",
        "ax.set_ylabel(r'$x_2$', size=15)\n",
        "ax.yaxis.set_label_coords(-0.025, 1)\n",
        "plt.show()"
      ]
    },
    {
      "cell_type": "markdown",
      "metadata": {
        "id": "2_Mj06wOuMCb"
      },
      "source": [
        "### 케라스의 Model 클래스 기반으로 모델 만들기\n",
        "\n",
        "#### `tf.keras.Model` 클래스 상속\n",
        "\n",
        " * `__init__()` 구현\n",
        " * `call()` 구현\n",
        "\n",
        " 사용자 정의 레이어를 구현하는 가장 좋은 방법은 tf.keras.Layer 클래스를 상속하고 다음과 같이 구현하는 것입니다.\n",
        "\n",
        "__init__ : 층에 필요한 매개변수를 입력 받습니다.\n",
        "\n",
        "call : 정방향 연산(forward computation)을 진행 할 수 있습니다.\n",
        "변수를 생성하기 위해 build가 호출되길 기다릴 필요는 없으며, 변수를 __init__에 생성할 수도 있습니다. build에 변수를 생성할때의 장점은 레이어가 입력 크기 를 기준으로 변수를 생성할 수 있다는 것입니다. 반면에, __init__에 변수를 생성하는 것은 변수 생성에 필요한 크기가 명시적으로 지정되어야 함을 의미합니다."
      ]
    },
    {
      "cell_type": "code",
      "execution_count": null,
      "metadata": {
        "colab": {
          "base_uri": "https://localhost:8080/",
          "height": 645
        },
        "id": "8rqJ4pisuMCc",
        "outputId": "ee774486-50df-4a4d-d7fe-d1ee24150a5a"
      },
      "outputs": [
        {
          "output_type": "stream",
          "name": "stdout",
          "text": [
            "Model: \"my_model\"\n",
            "_________________________________________________________________\n",
            " Layer (type)                Output Shape              Param #   \n",
            "=================================================================\n",
            " dense_13 (Dense)            multiple                  12        \n",
            "                                                                 \n",
            " dense_14 (Dense)            multiple                  20        \n",
            "                                                                 \n",
            " dense_15 (Dense)            multiple                  20        \n",
            "                                                                 \n",
            " dense_16 (Dense)            multiple                  5         \n",
            "                                                                 \n",
            "=================================================================\n",
            "Total params: 57\n",
            "Trainable params: 57\n",
            "Non-trainable params: 0\n",
            "_________________________________________________________________\n"
          ]
        },
        {
          "output_type": "stream",
          "name": "stderr",
          "text": [
            "/usr/local/lib/python3.7/dist-packages/ipykernel_launcher.py:50: DeprecationWarning: Converting `np.integer` or `np.signedinteger` to a dtype is deprecated. The current result is `np.dtype(np.int_)` which is not strictly correct. Note that the result depends on the system. To ensure stable results use may want to use `np.int64` or `np.int32`.\n"
          ]
        },
        {
          "output_type": "display_data",
          "data": {
            "text/plain": [
              "<Figure size 1152x288 with 3 Axes>"
            ],
            "image/png": "[encoded data removed]"
          },
          "metadata": {
            "needs_background": "light"
          }
        }
      ],
      "source": [
        "class MyModel(tf.keras.Model):\n",
        "    def __init__(self):\n",
        "        super(MyModel, self).__init__()\n",
        "        self.hidden_1 = tf.keras.layers.Dense(units=4, activation='relu')\n",
        "        self.hidden_2 = tf.keras.layers.Dense(units=4, activation='relu')\n",
        "        self.hidden_3 = tf.keras.layers.Dense(units=4, activation='relu')\n",
        "        self.output_layer = tf.keras.layers.Dense(units=1, activation='sigmoid')\n",
        "        \n",
        "    def call(self, inputs):\n",
        "        h = self.hidden_1(inputs)\n",
        "        h = self.hidden_2(h)\n",
        "        h = self.hidden_3(h)\n",
        "        return self.output_layer(h)\n",
        "    \n",
        "tf.random.set_seed(1)\n",
        "\n",
        "## 테스트\n",
        "model = MyModel()\n",
        "model.build(input_shape=(None, 2))\n",
        "\n",
        "model.summary()\n",
        "\n",
        "## 컴파일\n",
        "model.compile(optimizer=tf.keras.optimizers.SGD(),\n",
        "              loss=tf.keras.losses.BinaryCrossentropy(),\n",
        "              metrics=[tf.keras.metrics.BinaryAccuracy()])\n",
        "\n",
        "## 훈련\n",
        "hist = model.fit(x_train, y_train, \n",
        "                 validation_data=(x_valid, y_valid), \n",
        "                 epochs=200, batch_size=2, verbose=0)\n",
        "\n",
        "## 그래프 그리기\n",
        "history = hist.history\n",
        "\n",
        "fig = plt.figure(figsize=(16, 4))\n",
        "ax = fig.add_subplot(1, 3, 1)\n",
        "plt.plot(history['loss'], lw=4)\n",
        "plt.plot(history['val_loss'], lw=4)\n",
        "plt.legend(['Train loss', 'Validation loss'], fontsize=15)\n",
        "ax.set_xlabel('Epochs', size=15)\n",
        "\n",
        "ax = fig.add_subplot(1, 3, 2)\n",
        "plt.plot(history['binary_accuracy'], lw=4)\n",
        "plt.plot(history['val_binary_accuracy'], lw=4)\n",
        "plt.legend(['Train Acc.', 'Validation Acc.'], fontsize=15)\n",
        "ax.set_xlabel('Epochs', size=15)\n",
        "\n",
        "ax = fig.add_subplot(1, 3, 3)\n",
        "plot_decision_regions(X=x_valid, y=y_valid.astype(np.integer),\n",
        "                      clf=model)\n",
        "ax.set_xlabel(r'$x_1$', size=15)\n",
        "ax.xaxis.set_label_coords(1, -0.025)\n",
        "ax.set_ylabel(r'$x_2$', size=15)\n",
        "ax.yaxis.set_label_coords(-0.025, 1)\n",
        "plt.show()"
      ]
    },
    {
      "cell_type": "code",
      "execution_count": null,
      "metadata": {
        "id": "vpsH7aM8uMCc"
      },
      "outputs": [],
      "source": [
        "class MyCustomStepModel(MyModel):\n",
        "    \n",
        "    def train_step(self, data):\n",
        "        # fit()에서 전달된 데이터\n",
        "        x, y = data\n",
        "\n",
        "        # 그레이디언트 기록 시작\n",
        "        with tf.GradientTape() as tape:\n",
        "            # 정방향 계산\n",
        "            y_pred = self(x)\n",
        "            # compile() 메서드에서 지정한 손실 계산\n",
        "            loss = self.compiled_loss(y, y_pred, regularization_losses=self.losses)\n",
        "\n",
        "        # 훈련가능한 파라미터에 대한 그레이디언트 계산\n",
        "        gradients = tape.gradient(loss, self.trainable_variables)\n",
        "        # 파라미터 업데이트\n",
        "        self.optimizer.apply_gradients(zip(gradients, self.trainable_variables))\n",
        "        \n",
        "        # TF 2.4에서는 \n",
        "        # self.optimizer.minimize(loss, self.trainable_variables, tape=tape)\n",
        "        \n",
        "        # compile() 메서드에서 지정한 지표 계산\n",
        "        self.compiled_metrics.update_state(y, y_pred)\n",
        "        \n",
        "        # 현재까지 지표와 결괏값을 딕셔너리로 반환\n",
        "        return {m.name: m.result() for m in self.metrics}"
      ]
    },
    {
      "cell_type": "code",
      "execution_count": null,
      "metadata": {
        "colab": {
          "base_uri": "https://localhost:8080/"
        },
        "id": "IrsJ2EijuMCc",
        "outputId": "44507505-8d8e-4997-c501-6bf2df4fd544"
      },
      "outputs": [
        {
          "output_type": "stream",
          "name": "stdout",
          "text": [
            "Model: \"my_custom_step_model\"\n",
            "_________________________________________________________________\n",
            " Layer (type)                Output Shape              Param #   \n",
            "=================================================================\n",
            " dense_17 (Dense)            multiple                  12        \n",
            "                                                                 \n",
            " dense_18 (Dense)            multiple                  20        \n",
            "                                                                 \n",
            " dense_19 (Dense)            multiple                  20        \n",
            "                                                                 \n",
            " dense_20 (Dense)            multiple                  5         \n",
            "                                                                 \n",
            "=================================================================\n",
            "Total params: 57\n",
            "Trainable params: 57\n",
            "Non-trainable params: 0\n",
            "_________________________________________________________________\n"
          ]
        }
      ],
      "source": [
        "tf.random.set_seed(1)\n",
        "\n",
        "## 테스트\n",
        "model = MyCustomStepModel()\n",
        "model.build(input_shape=(None, 2))\n",
        "\n",
        "model.summary()\n",
        "\n",
        "## 컴파일\n",
        "model.compile(optimizer='sgd',\n",
        "              loss='binary_crossentropy',\n",
        "              metrics=['accuracy'])\n",
        "\n",
        "## 훈련\n",
        "hist = model.fit(x_train, y_train, \n",
        "                 validation_data=(x_valid, y_valid), \n",
        "                 epochs=200, batch_size=2, verbose=0)"
      ]
    },
    {
      "cell_type": "code",
      "execution_count": null,
      "metadata": {
        "colab": {
          "base_uri": "https://localhost:8080/"
        },
        "id": "cziX0sTXuMCc",
        "outputId": "986d3ca1-31b6-42e6-892d-cc2f38b82dc1"
      },
      "outputs": [
        {
          "output_type": "stream",
          "name": "stderr",
          "text": [
            "/usr/local/lib/python3.7/dist-packages/ipykernel_launcher.py:18: DeprecationWarning: Converting `np.integer` or `np.signedinteger` to a dtype is deprecated. The current result is `np.dtype(np.int_)` which is not strictly correct. Note that the result depends on the system. To ensure stable results use may want to use `np.int64` or `np.int32`.\n"
          ]
        },
        {
          "output_type": "display_data",
          "data": {
            "text/plain": [
              "<Figure size 1152x288 with 3 Axes>"
            ],
            "image/png": "[encoded data removed]"
          },
          "metadata": {
            "needs_background": "light"
          }
        }
      ],
      "source": [
        "## 그래프 그리기\n",
        "history = hist.history\n",
        "\n",
        "fig = plt.figure(figsize=(16, 4))\n",
        "ax = fig.add_subplot(1, 3, 1)\n",
        "plt.plot(history['loss'], lw=4)\n",
        "plt.plot(history['val_loss'], lw=4)\n",
        "plt.legend(['Train loss', 'Validation loss'], fontsize=15)\n",
        "ax.set_xlabel('Epochs', size=15)\n",
        "\n",
        "ax = fig.add_subplot(1, 3, 2)\n",
        "plt.plot(history['accuracy'], lw=4)\n",
        "plt.plot(history['val_accuracy'], lw=4)\n",
        "plt.legend(['Train Acc.', 'Validation Acc.'], fontsize=15)\n",
        "ax.set_xlabel('Epochs', size=15)\n",
        "\n",
        "ax = fig.add_subplot(1, 3, 3)\n",
        "plot_decision_regions(X=x_valid, y=y_valid.astype(np.integer),\n",
        "                      clf=model)\n",
        "ax.set_xlabel(r'$x_1$', size=15)\n",
        "ax.xaxis.set_label_coords(1, -0.025)\n",
        "ax.set_ylabel(r'$x_2$', size=15)\n",
        "ax.yaxis.set_label_coords(-0.025, 1)\n",
        "plt.show()"
      ]
    },
    {
      "cell_type": "markdown",
      "metadata": {
        "id": "HUgDHIsYuMCd"
      },
      "source": [
        "### 사용자 정의 케라스 층 만들기\n",
        "\n",
        "\n",
        "#### 사용자 정의 층 만들기\n",
        " * `__init__()` 구현\n",
        " * 변수 지연 생성을 위해 `build()` 구현\n",
        " * `call()` 구현\n",
        " * 직렬화를 위해 `get_config()` 구현"
      ]
    },
    {
      "cell_type": "code",
      "execution_count": null,
      "metadata": {
        "colab": {
          "base_uri": "https://localhost:8080/"
        },
        "id": "2mUtGMxUuMCd",
        "outputId": "f4fe7532-5ddb-40a4-f4c9-2a1430a955c6"
      },
      "outputs": [
        {
          "output_type": "stream",
          "name": "stdout",
          "text": [
            "[[0 0.00821428 0 0]]\n",
            "[[0 0.0108502861 0 0]]\n"
          ]
        }
      ],
      "source": [
        "class NoisyLinear(tf.keras.layers.Layer):\n",
        "    def __init__(self, output_dim, noise_stddev=0.1, **kwargs):\n",
        "        self.output_dim = output_dim\n",
        "        self.noise_stddev = noise_stddev\n",
        "        super(NoisyLinear, self).__init__(**kwargs)\n",
        "\n",
        "    def build(self, input_shape):\n",
        "        self.w = self.add_weight(name='weights',\n",
        "                                 shape=(input_shape[1], self.output_dim),\n",
        "                                 initializer='random_normal',\n",
        "                                 trainable=True)\n",
        "        \n",
        "        self.b = self.add_weight(shape=(self.output_dim,),\n",
        "                                 initializer='zeros',\n",
        "                                 trainable=True)\n",
        "\n",
        "    def call(self, inputs, training=False):\n",
        "        if training:\n",
        "            batch = tf.shape(inputs)[0]\n",
        "            dim = tf.shape(inputs)[1]\n",
        "            noise = tf.random.normal(shape=(batch, dim),\n",
        "                                     mean=0.0,\n",
        "                                     stddev=self.noise_stddev)\n",
        "\n",
        "            noisy_inputs = tf.add(inputs, noise)\n",
        "        else:\n",
        "            noisy_inputs = inputs\n",
        "        z = tf.matmul(noisy_inputs, self.w) + self.b\n",
        "        return tf.keras.activations.relu(z)\n",
        "    \n",
        "    def get_config(self):\n",
        "        config = super(NoisyLinear, self).get_config()\n",
        "        config.update({'output_dim': self.output_dim,\n",
        "                       'noise_stddev': self.noise_stddev})\n",
        "        return config\n",
        "\n",
        "\n",
        "## 테스트\n",
        "\n",
        "tf.random.set_seed(1)\n",
        "\n",
        "noisy_layer = NoisyLinear(4)\n",
        "noisy_layer.build(input_shape=(None, 4))\n",
        "\n",
        "x = tf.zeros(shape=(1, 4))\n",
        "tf.print(noisy_layer(x, training=True))\n",
        "\n",
        "## 설정을 사용해 모델 만들기\n",
        "config = noisy_layer.get_config()\n",
        "new_layer = NoisyLinear.from_config(config)\n",
        "tf.print(new_layer(x, training=True))"
      ]
    },
    {
      "cell_type": "code",
      "execution_count": null,
      "metadata": {
        "colab": {
          "base_uri": "https://localhost:8080/"
        },
        "id": "dRPl5VqXuMCd",
        "outputId": "a66d6dbf-78a7-4f85-accc-43f0e6dbb1c5"
      },
      "outputs": [
        {
          "output_type": "stream",
          "name": "stdout",
          "text": [
            "Model: \"sequential_4\"\n",
            "_________________________________________________________________\n",
            " Layer (type)                Output Shape              Param #   \n",
            "=================================================================\n",
            " noisy_linear_1 (NoisyLinear  (None, 4)                12        \n",
            " )                                                               \n",
            "                                                                 \n",
            " dense_21 (Dense)            (None, 4)                 20        \n",
            "                                                                 \n",
            " dense_22 (Dense)            (None, 4)                 20        \n",
            "                                                                 \n",
            " dense_23 (Dense)            (None, 1)                 5         \n",
            "                                                                 \n",
            "=================================================================\n",
            "Total params: 57\n",
            "Trainable params: 57\n",
            "Non-trainable params: 0\n",
            "_________________________________________________________________\n"
          ]
        },
        {
          "output_type": "stream",
          "name": "stderr",
          "text": [
            "/usr/local/lib/python3.7/dist-packages/ipykernel_launcher.py:40: DeprecationWarning: Converting `np.integer` or `np.signedinteger` to a dtype is deprecated. The current result is `np.dtype(np.int_)` which is not strictly correct. Note that the result depends on the system. To ensure stable results use may want to use `np.int64` or `np.int32`.\n"
          ]
        },
        {
          "output_type": "display_data",
          "data": {
            "text/plain": [
              "<Figure size 1152x288 with 3 Axes>"
            ],
            "image/png": "[encoded data removed]"
          },
          "metadata": {
            "needs_background": "light"
          }
        }
      ],
      "source": [
        "tf.random.set_seed(1)\n",
        "\n",
        "model = tf.keras.Sequential([\n",
        "    NoisyLinear(4, noise_stddev=0.1),\n",
        "    tf.keras.layers.Dense(units=4, activation='relu'),\n",
        "    tf.keras.layers.Dense(units=4, activation='relu'),\n",
        "    tf.keras.layers.Dense(units=1, activation='sigmoid')])\n",
        "\n",
        "model.build(input_shape=(None, 2))\n",
        "model.summary()\n",
        "\n",
        "## 컴파일\n",
        "model.compile(optimizer=tf.keras.optimizers.SGD(),\n",
        "              loss=tf.keras.losses.BinaryCrossentropy(),\n",
        "              metrics=[tf.keras.metrics.BinaryAccuracy()])\n",
        "\n",
        "## 훈련\n",
        "hist = model.fit(x_train, y_train, \n",
        "                 validation_data=(x_valid, y_valid), \n",
        "                 epochs=200, batch_size=2, \n",
        "                 verbose=0)\n",
        "\n",
        "## 그래프 그리기\n",
        "history = hist.history\n",
        "\n",
        "fig = plt.figure(figsize=(16, 4))\n",
        "ax = fig.add_subplot(1, 3, 1)\n",
        "plt.plot(history['loss'], lw=4)\n",
        "plt.plot(history['val_loss'], lw=4)\n",
        "plt.legend(['Train loss', 'Validation loss'], fontsize=15)\n",
        "ax.set_xlabel('Epochs', size=15)\n",
        "\n",
        "ax = fig.add_subplot(1, 3, 2)\n",
        "plt.plot(history['binary_accuracy'], lw=4)\n",
        "plt.plot(history['val_binary_accuracy'], lw=4)\n",
        "plt.legend(['Train Acc.', 'Validation Acc.'], fontsize=15)\n",
        "ax.set_xlabel('Epochs', size=15)\n",
        "\n",
        "ax = fig.add_subplot(1, 3, 3)\n",
        "plot_decision_regions(X=x_valid, y=y_valid.astype(np.integer),\n",
        "                      clf=model)\n",
        "ax.set_xlabel(r'$x_1$', size=15)\n",
        "ax.xaxis.set_label_coords(1, -0.025)\n",
        "ax.set_ylabel(r'$x_2$', size=15)\n",
        "ax.yaxis.set_label_coords(-0.025, 1)\n",
        "# plt.savefig('images/14_4.png', dpi=300)\n",
        "plt.show()"
      ]
    }
  ],
  "metadata": {
    "accelerator": "GPU",
    "colab": {
      "name": "머신러닝 교과서 14장_1",
      "provenance": [],
      "collapsed_sections": [
        "-ntV4OZUuMCP",
        "-4U2TFRIuMCP",
        "MjPbqg5ruMCQ",
        "GXoNe9XCuMCU",
        "3B7fvhS5uMCV",
        "L4Lj0UJ1uMCX",
        "5hdetaLHuMCX",
        "rE-prplFuMCY",
        "ZlTglQtouMCZ",
        "FHaMQhIZuMCZ",
        "a80uG6IruMCb",
        "2_Mj06wOuMCb",
        "HUgDHIsYuMCd"
      ],
      "include_colab_link": true
    },
    "kernelspec": {
      "display_name": "Python 3",
      "language": "python",
      "name": "python3"
    },
    "language_info": {
      "codemirror_mode": {
        "name": "ipython",
        "version": 3
      },
      "file_extension": ".py",
      "mimetype": "text/x-python",
      "name": "python",
      "nbconvert_exporter": "python",
      "pygments_lexer": "ipython3",
      "version": "3.7.3"
    }
  },
  "nbformat": 4,
  "nbformat_minor": 0
}