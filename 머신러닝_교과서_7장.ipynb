{
  "nbformat": 4,
  "nbformat_minor": 0,
  "metadata": {
    "colab": {
      "name": "머신러닝_교과서_7장.ipynb",
      "provenance": [],
      "authorship_tag": "ABX9TyPfKm4JtxGqlzDKPCu4m4WL",
      "include_colab_link": true
    },
    "kernelspec": {
      "name": "python3",
      "display_name": "Python 3"
    },
    "language_info": {
      "name": "python"
    }
  },
  "cells": [
    {
      "cell_type": "markdown",
      "metadata": {
        "id": "view-in-github",
        "colab_type": "text"
      },
      "source": [
        "<a href=\"https://colab.research.google.com/github/MinjuKim0217/Python-Machine-Learning-Book/blob/main/%EB%A8%B8%EC%8B%A0%EB%9F%AC%EB%8B%9D_%EA%B5%90%EA%B3%BC%EC%84%9C_7%EC%9E%A5.ipynb\" target=\"_parent\"><img src=\"https://colab.research.google.com/assets/colab-badge.svg\" alt=\"Open In Colab\"/></a>"
      ]
    },
    {
      "cell_type": "markdown",
      "source": [
        "# 다양한 모델을 결합한 앙상블 학습\n",
        "\n",
        "- 다수결 투표를 기반으로 예측 만들기\n",
        "- 중복을 허용하여 랜덤하게 훈련 데이터셋을 뽑는 배깅을 사용해서 과대 적합 감소하기\n",
        "- 앞선 모델의 오차를 학습하는 약한 학습기(weak learner)로 구성된 부스팅(boosting)으로 강력한 모델 구축하기"
      ],
      "metadata": {
        "id": "uDn1Actmy_CN"
      }
    },
    {
      "cell_type": "markdown",
      "source": [
        "# 앙상블 학습\n",
        "\n",
        "**앙상블 학습**의 목표는 여러 분류기를 하나의 메타 분류기로 연결하여 개별 분류기보다 더 좋은 일반화 성능을 달성하는 것\n",
        "\n",
        "**과반수 투표**는 분류기의 과반수가 예측한 클래스 레이블을 선택하는 단순한 방법 -> 50% 이상 투표를 받은 클래스 레이블을 선택\n",
        "\n",
        "**다수결 투표** : 다중 클래스 문제에 일반화된 과반수 투표 방법. 이때 가장 많은 투표를 받은 클래스 레이블을 선택하면 된다. "
      ],
      "metadata": {
        "id": "JHHQBQfa15wn"
      }
    },
    {
      "cell_type": "code",
      "execution_count": 1,
      "metadata": {
        "colab": {
          "base_uri": "https://localhost:8080/"
        },
        "id": "NFqNQ6LGuZiT",
        "outputId": "06a1c621-71f5-4e84-c5f5-284f191ffedc"
      },
      "outputs": [
        {
          "output_type": "stream",
          "name": "stdout",
          "text": [
            "Requirement already satisfied: scikit-learn in /usr/local/lib/python3.7/dist-packages (1.0.2)\n",
            "Requirement already satisfied: joblib>=0.11 in /usr/local/lib/python3.7/dist-packages (from scikit-learn) (1.1.0)\n",
            "Requirement already satisfied: threadpoolctl>=2.0.0 in /usr/local/lib/python3.7/dist-packages (from scikit-learn) (3.1.0)\n",
            "Requirement already satisfied: scipy>=1.1.0 in /usr/local/lib/python3.7/dist-packages (from scikit-learn) (1.4.1)\n",
            "Requirement already satisfied: numpy>=1.14.6 in /usr/local/lib/python3.7/dist-packages (from scikit-learn) (1.21.5)\n"
          ]
        }
      ],
      "source": [
        "# 코랩에서 실행할 경우 최신 버전의 사이킷런을 설치합니다.\n",
        "!pip install --upgrade scikit-learn"
      ]
    },
    {
      "cell_type": "code",
      "source": [
        "from IPython.display import Image"
      ],
      "metadata": {
        "id": "ULF9A0Kl6gKk"
      },
      "execution_count": 2,
      "outputs": []
    },
    {
      "cell_type": "code",
      "source": [
        "Image(url='https://git.io/JtskW', width=500) "
      ],
      "metadata": {
        "colab": {
          "base_uri": "https://localhost:8080/",
          "height": 201
        },
        "id": "IohfwqGu6hX4",
        "outputId": "3c7a5bc3-e3be-45a0-ccde-7c87303d8331"
      },
      "execution_count": 3,
      "outputs": [
        {
          "output_type": "execute_result",
          "data": {
            "text/plain": [
              "<IPython.core.display.Image object>"
            ],
            "text/html": [
              "<img src=\"https://git.io/JtskW\" width=\"500\"/>"
            ]
          },
          "metadata": {},
          "execution_count": 3
        }
      ]
    },
    {
      "cell_type": "markdown",
      "source": [
        "훈련세트를 사용해 m개의 다른 분류기를 훈련시킨다. 이것을 C라고 하자. \n",
        "\n",
        "앙상블 방법에 따라 여러 알고리즘을 사용해 구축을 하거나 분류 알고리즘 같은 것을 사용하고 훈련세트의 부분 집합을 달리해 학습할 수도 있다. \n",
        "\n",
        "그 중 하나가 **랜덤 포레스트**"
      ],
      "metadata": {
        "id": "mpYJJ3yVJLX7"
      }
    },
    {
      "cell_type": "code",
      "source": [
        "Image(url='https://git.io/Jtskl', width=500) "
      ],
      "metadata": {
        "colab": {
          "base_uri": "https://localhost:8080/",
          "height": 444
        },
        "id": "GrgUO7MJ6ik5",
        "outputId": "06345a11-216c-400e-a4d0-a4cacb81d1ee"
      },
      "execution_count": 4,
      "outputs": [
        {
          "output_type": "execute_result",
          "data": {
            "text/plain": [
              "<IPython.core.display.Image object>"
            ],
            "text/html": [
              "<img src=\"https://git.io/Jtskl\" width=\"500\"/>"
            ]
          },
          "metadata": {},
          "execution_count": 4
        }
      ]
    },
    {
      "cell_type": "markdown",
      "source": [
        "이진 분류 작업에 대해 동일한 에러를 가지고 있는 $\\epsilon$을 가진 n개의 분류기를 가정,\n",
        "\n",
        "모든 분류기는 독집적이고 발생하는 오차는 서로 상관관계가 없다고 가정.\n",
        "\n",
        "이런 가정하에 이 분류기의 앙상블이 만드는 오차 확률을 **이항분포의 확률 질량 함수**로 표현 가능\n",
        "\n",
        "$P(y \\ge k) = \\sum_k^n{n \\choose k}\\epsilon^k(1-\\epsilon)^{n-k}$\n",
        "\n",
        "---\n",
        "\n",
        "여기서 이항계수는 n개의 원소에서 k개를 뽑는 조합니다. \n",
        "\n",
        "이 식은 앙상블이 **틀릴**확률을 계산한다.. "
      ],
      "metadata": {
        "id": "Sw3uXb7J8sLE"
      }
    },
    {
      "cell_type": "code",
      "source": [
        "#파이썬으로 확률 질량 함수 구현\n",
        "from scipy.special import comb\n",
        "import math\n",
        "def ensemble_error(n_classifier, error):\n",
        "  k_start = int(math.ceil(n_classifier/2.))\n",
        "  probs=[comb(n_classifier,k)*\n",
        "         error**k*\n",
        "         (1-error)**(n_classifier-k)\n",
        "         for k in range(k_start, n_classifier+1)]\n",
        "  return sum(probs)\n",
        "\n",
        "ensemble_error(n_classifier=11, error=0.25)\n"
      ],
      "metadata": {
        "id": "EIZTm5qL6j4x",
        "colab": {
          "base_uri": "https://localhost:8080/"
        },
        "outputId": "806c4fa9-061b-483b-c817-7a3ba97b4be2"
      },
      "execution_count": 5,
      "outputs": [
        {
          "output_type": "execute_result",
          "data": {
            "text/plain": [
              "0.03432750701904297"
            ]
          },
          "metadata": {},
          "execution_count": 5
        }
      ]
    },
    {
      "cell_type": "markdown",
      "source": [
        "**math.ceil(x)**\n",
        "\n",
        "x보다 크거나 같은 가장 작은 정수인 x의 천장값(ceiling)을 반환합니다. x가 float가 아니면, x.__ceil__()에 위임하고, 이것은 Integral 값을 반환해야 합니다.\n",
        "\n",
        "---\n",
        "**math.comb(n, k)**\n",
        "\n",
        "반복과 순서 없이 n 개의 항목에서 k 개의 항목을 선택하는 방법의 수를 반환합니다.\n",
        "\n",
        "k <= n이면 n! / (k! * (n - k)!)로 평가되고, k > n이면 0으로 평가됩니다.\n",
        "\n",
        "식 (1 + x) ** n의 다항식 전개에서 k 번째 항의 계수와 같기 때문에 이항 계수(binomial coefficient)라고도 합니다.\n",
        "\n",
        "인자 중 어느 하나라도 정수가 아니면 TypeError를 발생시킵니다. 인자 중 어느 하나라도 음수이면 ValueError를 발생시킵니다.\n",
        "\n",
        "---\n",
        "ensemble_error 함수를 구현한 후에 분류기 에러가 0.0부터 1.0 사이에 있을 때의 앙상블 에러율을 계산."
      ],
      "metadata": {
        "id": "VmjOe3aRIwTK"
      }
    },
    {
      "cell_type": "code",
      "source": [
        "import numpy as np\n",
        "\n",
        "error_range = np.arange(0.0, 1.01, 0.01)\n",
        "ens_errors = [ensemble_error(n_classifier=11, error=error)\n",
        "              for error in error_range]\n",
        "\n",
        "import matplotlib.pyplot as plt\n",
        "\n",
        "plt.plot(error_range, \n",
        "         ens_errors, \n",
        "         label='Ensemble error', \n",
        "         linewidth=2)\n",
        "\n",
        "plt.plot(error_range, \n",
        "         error_range, \n",
        "         linestyle='--',\n",
        "         label='Base error',\n",
        "         linewidth=2)\n",
        "\n",
        "plt.xlabel('Base error')\n",
        "plt.ylabel('Base/Ensemble error')\n",
        "plt.legend(loc='upper left')\n",
        "plt.grid(alpha=0.5)\n",
        "# plt.savefig('images/07_03.png', dpi=300)\n",
        "plt.show()"
      ],
      "metadata": {
        "colab": {
          "base_uri": "https://localhost:8080/",
          "height": 279
        },
        "id": "F5_8x21LG4zo",
        "outputId": "45efc8d8-90c1-40ce-94c1-f10c1f8a7526"
      },
      "execution_count": 6,
      "outputs": [
        {
          "output_type": "display_data",
          "data": {
            "text/plain": [
              "<Figure size 432x288 with 1 Axes>"
            ],
            "image/png": "[encoded data removed]"
          },
          "metadata": {
            "needs_background": "light"
          }
        }
      ]
    },
    {
      "cell_type": "markdown",
      "source": [
        "앙상블의 에러확률은 개별 분류기보다 항상 좋다.\n",
        "다만 분류기가 무작위 추측보다 성능이 좋아야 한다. \n",
        "\n",
        "y축은 분류기 에러(점선)와 앙상블 에어(실선)을 나타냄"
      ],
      "metadata": {
        "id": "6IZKzIzucwU9"
      }
    },
    {
      "cell_type": "markdown",
      "source": [
        "# 다수결 투표를 사용한 분류 앙상블\n",
        "\n"
      ],
      "metadata": {
        "id": "98HL68Ucc_Ic"
      }
    },
    {
      "cell_type": "markdown",
      "source": [
        "## 간단한 다수결 투표 분류기 구현\n",
        "\n",
        "다수결 투표에서는 분류 모델의 신뢰도에 가중치를 부여해 연결한다. "
      ],
      "metadata": {
        "id": "WIR8Sv3BdCW_"
      }
    },
    {
      "cell_type": "code",
      "source": [
        "import numpy as np\n",
        "\n",
        "np.argmax(np.bincount([0, 0, 1], \n",
        "                      weights=[0.2, 0.2, 0.6]))"
      ],
      "metadata": {
        "colab": {
          "base_uri": "https://localhost:8080/"
        },
        "id": "FDzbRUe3chlz",
        "outputId": "b06219a8-6057-408d-e647-de86ea29c6be"
      },
      "execution_count": 7,
      "outputs": [
        {
          "output_type": "execute_result",
          "data": {
            "text/plain": [
              "1"
            ]
          },
          "metadata": {},
          "execution_count": 7
        }
      ]
    },
    {
      "cell_type": "markdown",
      "source": [
        "넘파이의 average와 argmax 함수를 사용하여 클래스 확률 기반으로 가중치가 적용된 다수결 투표를 구현할 수 있다."
      ],
      "metadata": {
        "id": "GACVWZRQEwvz"
      }
    },
    {
      "cell_type": "code",
      "source": [
        "ex = np.array([[0.9, 0.1],\n",
        "               [0.8, 0.2],\n",
        "               [0.4, 0.6]])\n",
        "\n",
        "p = np.average(ex, \n",
        "               axis=0, \n",
        "               weights=[0.2, 0.2, 0.6])\n",
        "p"
      ],
      "metadata": {
        "colab": {
          "base_uri": "https://localhost:8080/"
        },
        "id": "W7lERPRpkiuL",
        "outputId": "84fbc16d-3a70-4a47-c1ac-c06fe5bacc16"
      },
      "execution_count": 8,
      "outputs": [
        {
          "output_type": "execute_result",
          "data": {
            "text/plain": [
              "array([0.58, 0.42])"
            ]
          },
          "metadata": {},
          "execution_count": 8
        }
      ]
    },
    {
      "cell_type": "code",
      "source": [
        "np.argmax(p)"
      ],
      "metadata": {
        "id": "e3hTiJr-kkUp",
        "outputId": "030e49f7-f876-4918-c223-ea50a9378626",
        "colab": {
          "base_uri": "https://localhost:8080/"
        }
      },
      "execution_count": 9,
      "outputs": [
        {
          "output_type": "execute_result",
          "data": {
            "text/plain": [
              "0"
            ]
          },
          "metadata": {},
          "execution_count": 9
        }
      ]
    },
    {
      "cell_type": "markdown",
      "source": [
        "이들을 모두 결합하여 MajorityVoteClassifier 만들기\n"
      ],
      "metadata": {
        "id": "L1XC5kTaFamM"
      }
    },
    {
      "cell_type": "code",
      "source": [
        "from sklearn.base import BaseEstimator\n",
        "from sklearn.base import ClassifierMixin\n",
        "from sklearn.preprocessing import LabelEncoder\n",
        "from sklearn.base import clone\n",
        "from sklearn.pipeline import _name_estimators\n",
        "import numpy as np\n",
        "import operator\n",
        "\n",
        "\n",
        "class MajorityVoteClassifier(BaseEstimator, \n",
        "                             ClassifierMixin):\n",
        "    \"\"\"다수결 투표 앙상블 분류기\n",
        "\n",
        "    매개변수\n",
        "    ----------\n",
        "    classifiers : 배열 타입, 크기 = [n_classifiers]\n",
        "        앙상블에 사용할 분류기\n",
        "    \n",
        "    vote : str, {'classlabel', 'probability'}\n",
        "        기본값: 'classlabel'\n",
        "        'classlabel'이면 예측은 다수인 클래스 레이블의 인덱스가 됩니다\n",
        "        'probability'면 확률 합이 가장 큰 인덱스로\n",
        "        클래스 레이블을 예측합니다(보정된 분류기에 추천합니다)\n",
        "    \n",
        "    weights : 배열 타입, 크기 = [n_classifiers]\n",
        "        선택 사항, 기본값: None\n",
        "        'int' 또는 'float' 값의 리스트가 주어지면 분류기가 이 중요도로 가중치됩니다\n",
        "        'weights=None'이면 동일하게 취급합니다\n",
        "\n",
        "    \"\"\"\n",
        "    def __init__(self, classifiers, vote='classlabel', weights=None):\n",
        "\n",
        "        self.classifiers = classifiers\n",
        "        self.named_classifiers = {key: value for key, value\n",
        "                                  in _name_estimators(classifiers)}\n",
        "        self.vote = vote\n",
        "        self.weights = weights\n",
        "\n",
        "    def fit(self, X, y):\n",
        "        \"\"\"분류기를 학습합니다\n",
        "\n",
        "        매개변수\n",
        "        ----------\n",
        "        X : {배열 타입, 희소 행렬},\n",
        "            크기 = [n_samples, n_features]\n",
        "            훈련 샘플 행렬\n",
        "        \n",
        "        y : 배열 타입, 크기 = [n_samples]\n",
        "            타깃 클래스 레이블 벡터\n",
        "            \n",
        "        반환값\n",
        "        -------\n",
        "        self : 객체\n",
        "        \n",
        "        \"\"\"\n",
        "        if self.vote not in ('probability', 'classlabel'):\n",
        "            raise ValueError(\"vote는 'probability' 또는 'classlabel'이어야 합니다\"\n",
        "                             \"; (vote=%r)이 입력되었습니다.\"\n",
        "                             % self.vote)\n",
        "\n",
        "        if self.weights and len(self.weights) != len(self.classifiers):\n",
        "            raise ValueError('분류기와 가중치 개수는 같아야 합니다'\n",
        "                             '; 가중치 %d 개, 분류기 %d 개'\n",
        "                             % (len(self.weights), len(self.classifiers)))\n",
        "\n",
        "        # self.predict 메서드에서 np.argmax를 호출할 때\n",
        "        # 클래스 레이블이 0부터 시작되어야 하므로 LabelEncoder를 사용합니다\n",
        "        self.lablenc_ = LabelEncoder()\n",
        "        self.lablenc_.fit(y)\n",
        "        self.classes_ = self.lablenc_.classes_\n",
        "        self.classifiers_ = []\n",
        "        for clf in self.classifiers:\n",
        "            fitted_clf = clone(clf).fit(X, self.lablenc_.transform(y))\n",
        "            self.classifiers_.append(fitted_clf)\n",
        "        return self\n",
        "# ROC AUC를 계산하기 위해 평균 확률을 반환하는 predict_proba 메서드 추가\n",
        "    def predict(self, X):\n",
        "        \"\"\"X에 대한 클래스 레이블을 예측합니다\n",
        "\n",
        "        매개변수\n",
        "        ----------\n",
        "        X : {배열 타입, 희소 행렬},\n",
        "            크기 = [n_samples, n_features]\n",
        "            샘플 데이터 행렬\n",
        "        \n",
        "        반환값\n",
        "        ----------\n",
        "        maj_vote : 배열 타입, 크기 = [n_samples]\n",
        "            예측된 클래스 레이블\n",
        "        \n",
        "        \"\"\"\n",
        "        if self.vote == 'probability':\n",
        "            maj_vote = np.argmax(self.predict_proba(X), axis=1)\n",
        "        else:  # 'classlabel' 투표\n",
        "\n",
        "            # clf.predict 메서드를 사용하여 결과를 모읍니다\n",
        "            predictions = np.asarray([clf.predict(X)\n",
        "                                      for clf in self.classifiers_]).T\n",
        "\n",
        "            maj_vote = np.apply_along_axis(\n",
        "                                      lambda x:\n",
        "                                      np.argmax(np.bincount(x,\n",
        "                                                weights=self.weights)),\n",
        "                                      axis=1,\n",
        "                                      arr=predictions)\n",
        "        maj_vote = self.lablenc_.inverse_transform(maj_vote)\n",
        "        return maj_vote\n",
        "\n",
        "    def predict_proba(self, X):\n",
        "        \"\"\"X에 대한 클래스 확률을 예측합니다\n",
        "\n",
        "        매개변수\n",
        "        ----------\n",
        "        X : {배열 타입, 희소 행렬},\n",
        "            크기 = [n_samples, n_features]\n",
        "            n_samples는 샘플의 개수고 n_features는 특성의 개수인\n",
        "            샘플 데이터 행렬\n",
        "        \n",
        "        반환값\n",
        "        ----------\n",
        "        avg_proba : 배열 타입,\n",
        "            크기 = [n_samples, n_classes]\n",
        "            샘플마다 가중치가 적용된 클래스의 평균 확률\n",
        "        \n",
        "        \"\"\"\n",
        "        probas = np.asarray([clf.predict_proba(X)\n",
        "                             for clf in self.classifiers_])\n",
        "        avg_proba = np.average(probas, axis=0, weights=self.weights)\n",
        "        return avg_proba\n",
        "\n",
        "    def get_params(self, deep=True):\n",
        "        \"\"\"GridSearch를 위해 분류기의 매개변수 이름을 반환합니다\"\"\"\n",
        "        if not deep:\n",
        "            return super(MajorityVoteClassifier, self).get_params(deep=False)\n",
        "        else:\n",
        "            out = self.named_classifiers.copy()\n",
        "            for name, step in self.named_classifiers.items():\n",
        "                for key, value in step.get_params(deep=True).items():\n",
        "                    out['%s__%s' % (name, key)] = value\n",
        "            return out"
      ],
      "metadata": {
        "id": "ZB6A-axHkltR"
      },
      "execution_count": 10,
      "outputs": []
    },
    {
      "cell_type": "markdown",
      "source": [
        "앙상블에 있는 각 분류기의 매개변수에 접근하기 위해 _name_estimators 함수를 사용했고 따로 get_params 매서드를 정의.\n",
        "\n",
        "---\n"
      ],
      "metadata": {
        "id": "hwxzvVPKUPD1"
      }
    },
    {
      "cell_type": "markdown",
      "source": [
        "## 다수결 투표 방식을 사용하여 예측 만들기\n",
        "\n",
        "나중에 ROC AUC를 계산하기 위해 Iris-versicolor와 Iris-virginica 클래스에 해당하는 샘플만 분류."
      ],
      "metadata": {
        "id": "eJr7LLC7Uasg"
      }
    },
    {
      "cell_type": "code",
      "source": [
        "from sklearn import datasets\n",
        "from sklearn.preprocessing import StandardScaler\n",
        "from sklearn.preprocessing import LabelEncoder\n",
        "from sklearn.model_selection import train_test_split\n",
        "\n",
        "iris = datasets.load_iris()\n",
        "X, y = iris.data[50:, [1, 2]], iris.target[50:]\n",
        "le = LabelEncoder()\n",
        "y = le.fit_transform(y)\n",
        "\n",
        "#붓꽃 데이터 샘플을 50%는 훈련데이터로 50%는 테스트 데이터로\n",
        "X_train, X_test, y_train, y_test =\\\n",
        "       train_test_split(X, y, \n",
        "                        test_size=0.5, \n",
        "                        random_state=1,\n",
        "                        stratify=y)"
      ],
      "metadata": {
        "id": "iAdw4_ShPPYB"
      },
      "execution_count": 11,
      "outputs": []
    },
    {
      "cell_type": "markdown",
      "source": [
        "- 로지스틱 회귀 분류기\n",
        "- 결정 트리 분류기\n",
        "- k-최근접 이웃 분류기\n",
        "\n",
        "이 세가지 분류기로 훈련할것이다"
      ],
      "metadata": {
        "id": "XVnC-zkucMsI"
      }
    },
    {
      "cell_type": "code",
      "source": [
        "import numpy as np\n",
        "from sklearn.linear_model import LogisticRegression\n",
        "from sklearn.tree import DecisionTreeClassifier\n",
        "from sklearn.neighbors import KNeighborsClassifier \n",
        "from sklearn.pipeline import Pipeline\n",
        "from sklearn.model_selection import cross_val_score\n",
        "\n",
        "clf1 = LogisticRegression(penalty='l2', \n",
        "                          C=0.001,\n",
        "                          random_state=1)\n",
        "\n",
        "clf2 = DecisionTreeClassifier(max_depth=1,\n",
        "                              criterion='entropy',\n",
        "                              random_state=0)\n",
        "\n",
        "clf3 = KNeighborsClassifier(n_neighbors=1,\n",
        "                            p=2,\n",
        "                            metric='minkowski')\n",
        "\n",
        "pipe1 = Pipeline([['sc', StandardScaler()],\n",
        "                  ['clf', clf1]])\n",
        "pipe3 = Pipeline([['sc', StandardScaler()],\n",
        "                  ['clf', clf3]])\n",
        "\n",
        "clf_labels = ['Logistic regression', 'Decision tree', 'KNN']\n",
        "\n",
        "print('10-겹 교차 검증:\\n')\n",
        "for clf, label in zip([pipe1, clf2, pipe3], clf_labels):\n",
        "    scores = cross_val_score(estimator=clf,\n",
        "                             X=X_train,\n",
        "                             y=y_train,\n",
        "                             cv=10,\n",
        "                             scoring='roc_auc')\n",
        "    print(\"ROC AUC: %0.2f (+/- %0.2f) [%s]\"\n",
        "          % (scores.mean(), scores.std(), label))"
      ],
      "metadata": {
        "colab": {
          "base_uri": "https://localhost:8080/"
        },
        "id": "liHPiHc-cFvs",
        "outputId": "e9c8e37a-f30c-4f3f-b23f-de67ebfffeda"
      },
      "execution_count": 12,
      "outputs": [
        {
          "output_type": "stream",
          "name": "stdout",
          "text": [
            "10-겹 교차 검증:\n",
            "\n",
            "ROC AUC: 0.92 (+/- 0.15) [Logistic regression]\n",
            "ROC AUC: 0.87 (+/- 0.18) [Decision tree]\n",
            "ROC AUC: 0.85 (+/- 0.13) [KNN]\n"
          ]
        }
      ]
    },
    {
      "cell_type": "markdown",
      "source": [
        "각 분류기의 예측 성능은 거의 비슷하단것을 알수있다. \n",
        "\n",
        "로지스틱 회귀와 k-최근접 이웃 분류기는 왜 파이프라인으로 훈련?\n",
        "\n",
        "-> 로지스틱 회귀와 유클라디안 거리를 사용하는 k-최근접 이웃 알고리즘은 결정트리와 달리 스케일에 민감하다. \n",
        "\n",
        "붓꽃 데이터셋의 특성이 모두 같은 스케일로 측정되었지만 특성을 표준화하는 것은 좋은 습관이다."
      ],
      "metadata": {
        "id": "3GHIyJ3ictTV"
      }
    },
    {
      "cell_type": "code",
      "source": [
        "# 다수결 투표 앙상블을 위해 MajorityVoteClassifier 클래스로 각 분류기를 하나로 연결\n",
        "\n",
        "# 다수결 (하드) 투표\n",
        "\n",
        "mv_clf = MajorityVoteClassifier(classifiers=[pipe1, clf2, pipe3])\n",
        "\n",
        "clf_labels += ['Majority voting']\n",
        "all_clf = [pipe1, clf2, pipe3, mv_clf]\n",
        "\n",
        "for clf, label in zip(all_clf, clf_labels):\n",
        "    scores = cross_val_score(estimator=clf,\n",
        "                             X=X_train,\n",
        "                             y=y_train,\n",
        "                             cv=10,\n",
        "                             scoring='roc_auc')\n",
        "    print(\"ROC AUC: %0.2f (+/- %0.2f) [%s]\"\n",
        "          % (scores.mean(), scores.std(), label))"
      ],
      "metadata": {
        "colab": {
          "base_uri": "https://localhost:8080/"
        },
        "id": "hy8COauzcKd1",
        "outputId": "c5db2509-dbca-429b-a374-9390f6caeebc"
      },
      "execution_count": 13,
      "outputs": [
        {
          "output_type": "stream",
          "name": "stdout",
          "text": [
            "ROC AUC: 0.92 (+/- 0.15) [Logistic regression]\n",
            "ROC AUC: 0.87 (+/- 0.18) [Decision tree]\n",
            "ROC AUC: 0.85 (+/- 0.13) [KNN]\n",
            "ROC AUC: 0.98 (+/- 0.05) [Majority voting]\n"
          ]
        }
      ]
    },
    {
      "cell_type": "markdown",
      "source": [
        "사이킷런의 `VotingClassifier`를 사용해 보겠습니다. `estimators` 매개변수에는 분류기 이름과 객체로 구성된 튜플의 리스트를 입력합니다. 앞에서 만든 `MajorityVoteClassifier`는 `vote` 매개변수에 상관없이 `predict_proba` 메서드를 실행할 수 있지만 사이킷런의 `VotingClassifier`는 `voting='hard'`일 경우 `predict_proba` 메서드를 지원하지 않습니다. ROC AUC를 계산하기 위해서는 예측 확률이 필요하므로 `voting='soft'`로 지정합니다."
      ],
      "metadata": {
        "id": "jXmj8e3WsafJ"
      }
    },
    {
      "cell_type": "code",
      "source": [
        "from sklearn.model_selection import cross_validate\n",
        "from sklearn.ensemble import VotingClassifier\n",
        "\n",
        "vc = VotingClassifier(estimators=[\n",
        "    ('lr', pipe1), ('dt', clf2), ('knn', pipe3)], voting='soft')\n",
        "\n",
        "scores = cross_validate(estimator=vc, X=X_train, y=y_train, \n",
        "                        cv=10, scoring='roc_auc')\n",
        "print(\"ROC AUC: : %0.2f (+/- %0.2f) [%s]\"\n",
        "      % (scores['test_score'].mean(), \n",
        "         scores['test_score'].std(), 'VotingClassifier'))"
      ],
      "metadata": {
        "colab": {
          "base_uri": "https://localhost:8080/"
        },
        "id": "AhhqKK66dOxc",
        "outputId": "208b64e1-dbfc-47e5-c1c3-d09713b05734"
      },
      "execution_count": 14,
      "outputs": [
        {
          "output_type": "stream",
          "name": "stdout",
          "text": [
            "ROC AUC: : 0.98 (+/- 0.05) [VotingClassifier]\n"
          ]
        }
      ]
    },
    {
      "cell_type": "markdown",
      "source": [
        "`VotingClassifier`의 `fit` 메서드를 호출할 때 진행 과정을 출력하려면 0.23버전에서 추가된 `verbose` 매개변수를 `True`로 지정해야 합니다. 여기에서는 앞서 만든 `vc` 객체의 `set_params` 메서드를 사용해 `verbose` 매개변수를 설정하겠습니다."
      ],
      "metadata": {
        "id": "cftzwtlOsey7"
      }
    },
    {
      "cell_type": "code",
      "source": [
        "vc.set_params(verbose=True)\n",
        "\n",
        "vc = vc.fit(X_train, y_train)"
      ],
      "metadata": {
        "colab": {
          "base_uri": "https://localhost:8080/"
        },
        "id": "6pXdSf_ssc5y",
        "outputId": "eee98559-e978-4555-c75a-f9f9dacc20e0"
      },
      "execution_count": 15,
      "outputs": [
        {
          "output_type": "stream",
          "name": "stdout",
          "text": [
            "[Voting] ....................... (1 of 3) Processing lr, total=   0.0s\n",
            "[Voting] ....................... (2 of 3) Processing dt, total=   0.0s\n",
            "[Voting] ...................... (3 of 3) Processing knn, total=   0.0s\n"
          ]
        }
      ]
    },
    {
      "cell_type": "markdown",
      "source": [
        "`voting='soft'`일 때 `predict` 메서드는 `predict_proba` 메서드에서 얻은 가장 큰 확률의 클래스를 예측으로 삼습니다. `predict_proba` 메서드는 각 분류기의 클래스 확률을 평균합니다."
      ],
      "metadata": {
        "id": "Bb3l23Q6shJp"
      }
    },
    {
      "cell_type": "code",
      "source": [
        "vc.predict_proba(X_test[:10])"
      ],
      "metadata": {
        "colab": {
          "base_uri": "https://localhost:8080/"
        },
        "id": "5Opws32HsgnD",
        "outputId": "952387f2-8c32-49b3-fc57-d612d5a49ee5"
      },
      "execution_count": 16,
      "outputs": [
        {
          "output_type": "execute_result",
          "data": {
            "text/plain": [
              "array([[0.80858947, 0.19141053],\n",
              "       [0.80798659, 0.19201341],\n",
              "       [0.80742142, 0.19257858],\n",
              "       [0.81176637, 0.18823363],\n",
              "       [0.81195778, 0.18804222],\n",
              "       [0.17701319, 0.82298681],\n",
              "       [0.17670572, 0.82329428],\n",
              "       [0.17845724, 0.82154276],\n",
              "       [0.1796252 , 0.8203748 ],\n",
              "       [0.81076201, 0.18923799]])"
            ]
          },
          "metadata": {},
          "execution_count": 16
        }
      ]
    },
    {
      "cell_type": "markdown",
      "source": [
        "## 앙상블 분류기의 평가와 튜닝\n",
        "\n",
        "본 적 없는 데이터에 대한 MajorityVoteClassifier의 일반화 성능을 확인하기 위해 테스트 데이터셋에 대한 ROC 곡선을 그려볼것이다. "
      ],
      "metadata": {
        "id": "8LEgGFRuxgeT"
      }
    },
    {
      "cell_type": "code",
      "source": [
        "from sklearn.metrics import roc_curve\n",
        "from sklearn.metrics import auc\n",
        "\n",
        "colors = ['black', 'orange', 'blue', 'green']\n",
        "linestyles = [':', '--', '-.', '-']\n",
        "for clf, label, clr, ls \\\n",
        "        in zip(all_clf,\n",
        "               clf_labels, colors, linestyles):\n",
        "\n",
        "    # 양성 클래스의 레이블이 1이라고 가정합니다\n",
        "    y_pred = clf.fit(X_train,\n",
        "                     y_train).predict_proba(X_test)[:, 1]\n",
        "    fpr, tpr, thresholds = roc_curve(y_true=y_test,\n",
        "                                     y_score=y_pred)\n",
        "    roc_auc = auc(x=fpr, y=tpr)\n",
        "    plt.plot(fpr, tpr,\n",
        "             color=clr,\n",
        "             linestyle=ls,\n",
        "             label='%s (auc = %0.2f)' % (label, roc_auc))\n",
        "\n",
        "plt.legend(loc='lower right')\n",
        "plt.plot([0, 1], [0, 1],\n",
        "         linestyle='--',\n",
        "         color='gray',\n",
        "         linewidth=2)\n",
        "\n",
        "plt.xlim([-0.1, 1.1])\n",
        "plt.ylim([-0.1, 1.1])\n",
        "plt.grid(alpha=0.5)\n",
        "plt.xlabel('False positive rate (FPR)')\n",
        "plt.ylabel('True positive rate (TPR)')\n",
        "\n",
        "\n",
        "# plt.savefig('images/07_04', dpi=300)\n",
        "plt.show()"
      ],
      "metadata": {
        "colab": {
          "base_uri": "https://localhost:8080/",
          "height": 279
        },
        "id": "uPAUnEaIsj8p",
        "outputId": "28c21893-0e47-4d30-ae60-0318a201524d"
      },
      "execution_count": 17,
      "outputs": [
        {
          "output_type": "display_data",
          "data": {
            "text/plain": [
              "<Figure size 432x288 with 1 Axes>"
            ],
            "image/png": "[encoded data removed]"
          },
          "metadata": {
            "needs_background": "light"
          }
        }
      ]
    },
    {
      "cell_type": "markdown",
      "source": [
        "앙상블 분류기는 테스트 데이터셋에서도 좋은 성늘을 낸다. \n",
        "\n",
        "로지스틱 회귀도 같은 데이터에서 비슷한 성능을 내고 있다. -> 아마도 작은 데이터셋에서 생기는 높은 분산 때문\n",
        "\n",
        "이 분류 문제에서는 두 개의 특성만 선택했기 때문에 앙상블의 결정 경계가 어떤 모습인지 확인해볼 수 있다. \n",
        "\n"
      ],
      "metadata": {
        "id": "rKGm0AgMyiNH"
      }
    },
    {
      "cell_type": "code",
      "source": [
        "sc = StandardScaler()\n",
        "X_train_std = sc.fit_transform(X_train)\n",
        "\n",
        "from itertools import product\n",
        "\n",
        "all_clf = [pipe1, clf2, pipe3, mv_clf]\n",
        "\n",
        "x_min = X_train_std[:, 0].min() - 1\n",
        "x_max = X_train_std[:, 0].max() + 1\n",
        "y_min = X_train_std[:, 1].min() - 1\n",
        "y_max = X_train_std[:, 1].max() + 1\n",
        "\n",
        "xx, yy = np.meshgrid(np.arange(x_min, x_max, 0.1),\n",
        "                     np.arange(y_min, y_max, 0.1))\n",
        "\n",
        "f, axarr = plt.subplots(nrows=2, ncols=2, \n",
        "                        sharex='col', \n",
        "                        sharey='row', \n",
        "                        figsize=(7, 5))\n",
        "\n",
        "for idx, clf, tt in zip(product([0, 1], [0, 1]),\n",
        "                        all_clf, clf_labels):\n",
        "    clf.fit(X_train_std, y_train)\n",
        "    \n",
        "    Z = clf.predict(np.c_[xx.ravel(), yy.ravel()])\n",
        "    Z = Z.reshape(xx.shape)\n",
        "\n",
        "    axarr[idx[0], idx[1]].contourf(xx, yy, Z, alpha=0.3)\n",
        "    \n",
        "    axarr[idx[0], idx[1]].scatter(X_train_std[y_train==0, 0], \n",
        "                                  X_train_std[y_train==0, 1], \n",
        "                                  c='blue', \n",
        "                                  marker='^',\n",
        "                                  s=50)\n",
        "    \n",
        "    axarr[idx[0], idx[1]].scatter(X_train_std[y_train==1, 0], \n",
        "                                  X_train_std[y_train==1, 1], \n",
        "                                  c='green', \n",
        "                                  marker='o',\n",
        "                                  s=50)\n",
        "    \n",
        "    axarr[idx[0], idx[1]].set_title(tt)\n",
        "\n",
        "plt.text(-3.5, -5., \n",
        "         s='Sepal width [standardized]', \n",
        "         ha='center', va='center', fontsize=12)\n",
        "plt.text(-12.5, 4.5, \n",
        "         s='Petal length [standardized]', \n",
        "         ha='center', va='center', \n",
        "         fontsize=12, rotation=90)\n",
        "\n",
        "# plt.savefig('images/07_05', dpi=300)\n",
        "plt.show()"
      ],
      "metadata": {
        "colab": {
          "base_uri": "https://localhost:8080/",
          "height": 356
        },
        "id": "_uQKyVPKyeTP",
        "outputId": "0f84a7c2-cf06-4ad2-d11f-dcaca34b8eba"
      },
      "execution_count": 18,
      "outputs": [
        {
          "output_type": "display_data",
          "data": {
            "text/plain": [
              "<Figure size 504x360 with 4 Axes>"
            ],
            "image/png": "[encoded data removed]"
          },
          "metadata": {
            "needs_background": "light"
          }
        }
      ]
    },
    {
      "cell_type": "markdown",
      "source": [
        "앙상블을 위해 개별 분류기의 매개변수를 튜닝하기 전에 GridSearchCV 객체 안에 있는 매개변수에 어떻게 접근할 수 있는지 get_params 메서드를 호출해서 알아보겠다."
      ],
      "metadata": {
        "id": "NFskSWlXDuE5"
      }
    },
    {
      "cell_type": "code",
      "source": [
        "mv_clf.get_params()"
      ],
      "metadata": {
        "colab": {
          "base_uri": "https://localhost:8080/"
        },
        "id": "TTq38Zl48PQh",
        "outputId": "6c9cedf4-dce6-4ea0-92d1-5947b910f071"
      },
      "execution_count": 19,
      "outputs": [
        {
          "output_type": "execute_result",
          "data": {
            "text/plain": [
              "{'decisiontreeclassifier': DecisionTreeClassifier(criterion='entropy', max_depth=1, random_state=0),\n",
              " 'decisiontreeclassifier__ccp_alpha': 0.0,\n",
              " 'decisiontreeclassifier__class_weight': None,\n",
              " 'decisiontreeclassifier__criterion': 'entropy',\n",
              " 'decisiontreeclassifier__max_depth': 1,\n",
              " 'decisiontreeclassifier__max_features': None,\n",
              " 'decisiontreeclassifier__max_leaf_nodes': None,\n",
              " 'decisiontreeclassifier__min_impurity_decrease': 0.0,\n",
              " 'decisiontreeclassifier__min_samples_leaf': 1,\n",
              " 'decisiontreeclassifier__min_samples_split': 2,\n",
              " 'decisiontreeclassifier__min_weight_fraction_leaf': 0.0,\n",
              " 'decisiontreeclassifier__random_state': 0,\n",
              " 'decisiontreeclassifier__splitter': 'best',\n",
              " 'pipeline-1': Pipeline(steps=[('sc', StandardScaler()),\n",
              "                 ['clf', LogisticRegression(C=0.001, random_state=1)]]),\n",
              " 'pipeline-1__clf': LogisticRegression(C=0.001, random_state=1),\n",
              " 'pipeline-1__clf__C': 0.001,\n",
              " 'pipeline-1__clf__class_weight': None,\n",
              " 'pipeline-1__clf__dual': False,\n",
              " 'pipeline-1__clf__fit_intercept': True,\n",
              " 'pipeline-1__clf__intercept_scaling': 1,\n",
              " 'pipeline-1__clf__l1_ratio': None,\n",
              " 'pipeline-1__clf__max_iter': 100,\n",
              " 'pipeline-1__clf__multi_class': 'auto',\n",
              " 'pipeline-1__clf__n_jobs': None,\n",
              " 'pipeline-1__clf__penalty': 'l2',\n",
              " 'pipeline-1__clf__random_state': 1,\n",
              " 'pipeline-1__clf__solver': 'lbfgs',\n",
              " 'pipeline-1__clf__tol': 0.0001,\n",
              " 'pipeline-1__clf__verbose': 0,\n",
              " 'pipeline-1__clf__warm_start': False,\n",
              " 'pipeline-1__memory': None,\n",
              " 'pipeline-1__sc': StandardScaler(),\n",
              " 'pipeline-1__sc__copy': True,\n",
              " 'pipeline-1__sc__with_mean': True,\n",
              " 'pipeline-1__sc__with_std': True,\n",
              " 'pipeline-1__steps': [('sc', StandardScaler()),\n",
              "  ['clf', LogisticRegression(C=0.001, random_state=1)]],\n",
              " 'pipeline-1__verbose': False,\n",
              " 'pipeline-2': Pipeline(steps=[('sc', StandardScaler()),\n",
              "                 ['clf', KNeighborsClassifier(n_neighbors=1)]]),\n",
              " 'pipeline-2__clf': KNeighborsClassifier(n_neighbors=1),\n",
              " 'pipeline-2__clf__algorithm': 'auto',\n",
              " 'pipeline-2__clf__leaf_size': 30,\n",
              " 'pipeline-2__clf__metric': 'minkowski',\n",
              " 'pipeline-2__clf__metric_params': None,\n",
              " 'pipeline-2__clf__n_jobs': None,\n",
              " 'pipeline-2__clf__n_neighbors': 1,\n",
              " 'pipeline-2__clf__p': 2,\n",
              " 'pipeline-2__clf__weights': 'uniform',\n",
              " 'pipeline-2__memory': None,\n",
              " 'pipeline-2__sc': StandardScaler(),\n",
              " 'pipeline-2__sc__copy': True,\n",
              " 'pipeline-2__sc__with_mean': True,\n",
              " 'pipeline-2__sc__with_std': True,\n",
              " 'pipeline-2__steps': [('sc', StandardScaler()),\n",
              "  ['clf', KNeighborsClassifier(n_neighbors=1)]],\n",
              " 'pipeline-2__verbose': False}"
            ]
          },
          "metadata": {},
          "execution_count": 19
        }
      ]
    },
    {
      "cell_type": "markdown",
      "source": [
        "그리드 서치로 로지스틱 회귀 분류기의 규제 매개변수 C와 결정트리의 깊이를 튜닝"
      ],
      "metadata": {
        "id": "fw9brXlWD5I8"
      }
    },
    {
      "cell_type": "code",
      "source": [
        "from sklearn.model_selection import GridSearchCV\n",
        "\n",
        "\n",
        "params = {'decisiontreeclassifier__max_depth': [1, 2],\n",
        "          'pipeline-1__clf__C': [0.001, 0.1, 100.0]}\n",
        "\n",
        "grid = GridSearchCV(estimator=mv_clf,\n",
        "                    param_grid=params,\n",
        "                    cv=10,\n",
        "                    scoring='roc_auc')\n",
        "grid.fit(X_train, y_train)\n",
        "\n",
        "for r, _ in enumerate(grid.cv_results_['mean_test_score']):\n",
        "    print(\"%0.3f +/- %0.2f %r\"\n",
        "          % (grid.cv_results_['mean_test_score'][r], \n",
        "             grid.cv_results_['std_test_score'][r] / 2.0, \n",
        "             grid.cv_results_['params'][r]))"
      ],
      "metadata": {
        "colab": {
          "base_uri": "https://localhost:8080/"
        },
        "id": "48pwmTF1DqiP",
        "outputId": "57920117-0ab2-4a7a-a883-92998645e65c"
      },
      "execution_count": 20,
      "outputs": [
        {
          "output_type": "stream",
          "name": "stdout",
          "text": [
            "0.983 +/- 0.02 {'decisiontreeclassifier__max_depth': 1, 'pipeline-1__clf__C': 0.001}\n",
            "0.983 +/- 0.02 {'decisiontreeclassifier__max_depth': 1, 'pipeline-1__clf__C': 0.1}\n",
            "0.967 +/- 0.05 {'decisiontreeclassifier__max_depth': 1, 'pipeline-1__clf__C': 100.0}\n",
            "0.983 +/- 0.02 {'decisiontreeclassifier__max_depth': 2, 'pipeline-1__clf__C': 0.001}\n",
            "0.983 +/- 0.02 {'decisiontreeclassifier__max_depth': 2, 'pipeline-1__clf__C': 0.1}\n",
            "0.967 +/- 0.05 {'decisiontreeclassifier__max_depth': 2, 'pipeline-1__clf__C': 100.0}\n"
          ]
        }
      ]
    },
    {
      "cell_type": "code",
      "source": [
        "print('최적의 매개변수: %s' % grid.best_params_)\n",
        "print('정확도: %.2f' % grid.best_score_)"
      ],
      "metadata": {
        "colab": {
          "base_uri": "https://localhost:8080/"
        },
        "id": "oZlpiYVqEBOR",
        "outputId": "4ceb6ecd-69a2-404a-9090-d3d5fcebf850"
      },
      "execution_count": 21,
      "outputs": [
        {
          "output_type": "stream",
          "name": "stdout",
          "text": [
            "최적의 매개변수: {'decisiontreeclassifier__max_depth': 1, 'pipeline-1__clf__C': 0.001}\n",
            "정확도: 0.98\n"
          ]
        }
      ]
    },
    {
      "cell_type": "markdown",
      "source": [
        "규제 강도가 가장 낮을 때 c=0.001 최상의 교차검증 결과를 얻었다. \n",
        "\n",
        "반면 트리 깊이는 성능에 전혀 영향을 주지 않았다. "
      ],
      "metadata": {
        "id": "6GdfVFISGHZt"
      }
    },
    {
      "cell_type": "markdown",
      "source": [
        "# 배깅: 부트스트랩 샘플링을 통한 분류 앙상블\n",
        "\n",
        "앙상블에 있는 개별 분류기를 통일한 훈련 데이터셋으로 학습하는 것이 아니라 원본 훈련 데이터셋에서 부트스트랩 (bootstrap) 샘플 (중복을 허용한 랜덤 샘플)을 뽑아서 사용한다. \n",
        "\n"
      ],
      "metadata": {
        "id": "amIvyNDWGT3B"
      }
    },
    {
      "cell_type": "code",
      "source": [
        "Image(url='https://git.io/Jtsk4', width=500) "
      ],
      "metadata": {
        "colab": {
          "base_uri": "https://localhost:8080/",
          "height": 399
        },
        "id": "zrjGtb5ZEEjo",
        "outputId": "a9a89482-61ab-41ee-9cf9-7e435d039c98"
      },
      "execution_count": 22,
      "outputs": [
        {
          "output_type": "execute_result",
          "data": {
            "text/plain": [
              "<IPython.core.display.Image object>"
            ],
            "text/html": [
              "<img src=\"https://git.io/Jtsk4\" width=\"500\"/>"
            ]
          },
          "metadata": {},
          "execution_count": 22
        }
      ]
    },
    {
      "cell_type": "markdown",
      "source": [
        "## 배깅 알고리즘의 작동방식\n",
        "\n",
        "1. 우선, 데이터로부터 부트스트랩을 한다. \n",
        "2. 복원 랜덤 샘플링/ 부트스트랩한 데이터로 모델을 학습시킨다. \n",
        "3. 학습된 모델의 결과를 집계하여 최종 결과값을 구한다.\n",
        "\n",
        "categorical data는 투표방식으로 결과를 집계, continuous data는 평균으로 집계\n",
        "\n",
        "\n"
      ],
      "metadata": {
        "id": "F6svhbh8K0KD"
      }
    },
    {
      "cell_type": "code",
      "source": [
        "Image(url='https://git.io/JtskB', width=400) "
      ],
      "metadata": {
        "colab": {
          "base_uri": "https://localhost:8080/",
          "height": 370
        },
        "id": "nwWYpBp2Gp0y",
        "outputId": "60de250c-26ca-4e2c-a941-b53327cd6da7"
      },
      "execution_count": 23,
      "outputs": [
        {
          "output_type": "execute_result",
          "data": {
            "text/plain": [
              "<IPython.core.display.Image object>"
            ],
            "text/html": [
              "<img src=\"https://git.io/JtskB\" width=\"400\"/>"
            ]
          },
          "metadata": {},
          "execution_count": 23
        }
      ]
    },
    {
      "cell_type": "markdown",
      "source": [
        "개별 분류기가 부트스트랩 샘플에 학습되고 나면 다수결 투표를 사용하여 예측을 모은다. "
      ],
      "metadata": {
        "id": "wHEFf6OOLVj0"
      }
    },
    {
      "cell_type": "markdown",
      "source": [
        "## 배깅으로 Wine 데이터셋의 샘플 분류\n",
        "\n"
      ],
      "metadata": {
        "id": "fBuQrKdZLVoz"
      }
    },
    {
      "cell_type": "code",
      "source": [
        "import pandas as pd\n",
        "\n",
        "df_wine = pd.read_csv('https://archive.ics.uci.edu/ml/'\n",
        "                      'machine-learning-databases/wine/wine.data',\n",
        "                      header=None)\n",
        "\n",
        "df_wine.columns = ['Class label', 'Alcohol', 'Malic acid', 'Ash',\n",
        "                   'Alcalinity of ash', 'Magnesium', 'Total phenols',\n",
        "                   'Flavanoids', 'Nonflavanoid phenols', 'Proanthocyanins',\n",
        "                   'Color intensity', 'Hue', 'OD280/OD315 of diluted wines',\n",
        "                   'Proline']\n",
        "\n",
        "# UCI 머신 러닝 저장소에서 Wine 데이터셋을 다운로드할 수 없을 때\n",
        "# 다음 주석을 해제하고 로컬 경로에서 데이터셋을 적재하세요:\n",
        "\n",
        "# df_wine = pd.read_csv('wine.data', header=None)\n",
        "\n",
        "# 클래스 1 제외\n",
        "df_wine = df_wine[df_wine['Class label'] != 1]\n",
        "\n",
        "y = df_wine['Class label'].values\n",
        "X = df_wine[['Alcohol', 'OD280/OD315 of diluted wines']].values"
      ],
      "metadata": {
        "id": "-XMYReJeLm2f"
      },
      "execution_count": 24,
      "outputs": []
    },
    {
      "cell_type": "code",
      "source": [
        "from sklearn.preprocessing import LabelEncoder\n",
        "from sklearn.model_selection import train_test_split\n",
        "\n",
        "\n",
        "le = LabelEncoder()\n",
        "y = le.fit_transform(y)\n",
        "\n",
        "X_train, X_test, y_train, y_test =\\\n",
        "            train_test_split(X, y, \n",
        "                             test_size=0.2, \n",
        "                             random_state=1,\n",
        "                             stratify=y)"
      ],
      "metadata": {
        "id": "XhRdaJH4LoPg"
      },
      "execution_count": 25,
      "outputs": []
    },
    {
      "cell_type": "code",
      "source": [
        "from sklearn.ensemble import BaggingClassifier\n",
        "from sklearn.tree import DecisionTreeClassifier\n",
        "\n",
        "tree = DecisionTreeClassifier(criterion='entropy', \n",
        "                              max_depth=None,\n",
        "                              random_state=1)\n",
        "\n",
        "bag = BaggingClassifier(base_estimator=tree,\n",
        "                        n_estimators=500, \n",
        "                        max_samples=1.0, \n",
        "                        max_features=1.0, \n",
        "                        bootstrap=True, \n",
        "                        bootstrap_features=False, \n",
        "                        n_jobs=1, \n",
        "                        random_state=1)"
      ],
      "metadata": {
        "id": "f5dFEmfFLpnE"
      },
      "execution_count": 26,
      "outputs": []
    },
    {
      "cell_type": "code",
      "source": [
        "from sklearn.metrics import accuracy_score\n",
        "\n",
        "tree = tree.fit(X_train, y_train)\n",
        "y_train_pred = tree.predict(X_train)\n",
        "y_test_pred = tree.predict(X_test)\n",
        "\n",
        "tree_train = accuracy_score(y_train, y_train_pred)\n",
        "tree_test = accuracy_score(y_test, y_test_pred)\n",
        "print('결정 트리의 훈련 정확도/테스트 정확도 %.3f/%.3f'\n",
        "      % (tree_train, tree_test))\n",
        "\n",
        "bag = bag.fit(X_train, y_train)\n",
        "y_train_pred = bag.predict(X_train)\n",
        "y_test_pred = bag.predict(X_test)\n",
        "\n",
        "bag_train = accuracy_score(y_train, y_train_pred) \n",
        "bag_test = accuracy_score(y_test, y_test_pred) \n",
        "print('배깅의 훈련 정확도/테스트 정확도 %.3f/%.3f'\n",
        "      % (bag_train, bag_test))"
      ],
      "metadata": {
        "colab": {
          "base_uri": "https://localhost:8080/"
        },
        "id": "LuMBk056Lq1X",
        "outputId": "121dc53c-46a0-4e65-969c-60dce00cefea"
      },
      "execution_count": 27,
      "outputs": [
        {
          "output_type": "stream",
          "name": "stdout",
          "text": [
            "결정 트리의 훈련 정확도/테스트 정확도 1.000/0.833\n",
            "배깅의 훈련 정확도/테스트 정확도 1.000/0.917\n"
          ]
        }
      ]
    },
    {
      "cell_type": "markdown",
      "source": [
        "가지치기가 없는 결정트리는 모든 훈련 샘플을 정확하게 예측한다. \n",
        "\n",
        "테스트 데이터셋의 정확도는 확실히 낮기 때문에 모델의 분산이 높다는 것(과대적합)을 나타냄\n",
        "\n",
        "\n",
        "**결정트리와 배깅 분류기의 훈련 정확도가 훈련 데이터셋에서 비슷하지만 테스트 테이터셋의 정확도로 미루어 보아 배깅 분류기가 일반화 성능이 더 낫다.**"
      ],
      "metadata": {
        "id": "0SDTiob5MBVE"
      }
    },
    {
      "cell_type": "code",
      "source": [
        "import numpy as np\n",
        "import matplotlib.pyplot as plt\n",
        "\n",
        "x_min = X_train[:, 0].min() - 1\n",
        "x_max = X_train[:, 0].max() + 1\n",
        "y_min = X_train[:, 1].min() - 1\n",
        "y_max = X_train[:, 1].max() + 1\n",
        "\n",
        "xx, yy = np.meshgrid(np.arange(x_min, x_max, 0.1),\n",
        "                     np.arange(y_min, y_max, 0.1))\n",
        "\n",
        "f, axarr = plt.subplots(nrows=1, ncols=2, \n",
        "                        sharex='col', \n",
        "                        sharey='row', \n",
        "                        figsize=(8, 3))\n",
        "\n",
        "\n",
        "for idx, clf, tt in zip([0, 1],\n",
        "                        [tree, bag],\n",
        "                        ['Decision tree', 'Bagging']):\n",
        "    clf.fit(X_train, y_train)\n",
        "\n",
        "    Z = clf.predict(np.c_[xx.ravel(), yy.ravel()])\n",
        "    Z = Z.reshape(xx.shape)\n",
        "\n",
        "    axarr[idx].contourf(xx, yy, Z, alpha=0.3)\n",
        "    axarr[idx].scatter(X_train[y_train == 0, 0],\n",
        "                       X_train[y_train == 0, 1],\n",
        "                       c='blue', marker='^')\n",
        "\n",
        "    axarr[idx].scatter(X_train[y_train == 1, 0],\n",
        "                       X_train[y_train == 1, 1],\n",
        "                       c='green', marker='o')\n",
        "\n",
        "    axarr[idx].set_title(tt)\n",
        "\n",
        "axarr[0].set_ylabel('Alcohol', fontsize=12)\n",
        "\n",
        "plt.tight_layout()\n",
        "plt.text(0, -0.2,\n",
        "         s='OD280/OD315 of diluted wines',\n",
        "         ha='center',\n",
        "         va='center',\n",
        "         fontsize=12,\n",
        "         transform=axarr[1].transAxes)\n",
        "\n",
        "# plt.savefig('images/07_08.png', dpi=300, bbox_inches='tight')\n",
        "plt.show()"
      ],
      "metadata": {
        "colab": {
          "base_uri": "https://localhost:8080/",
          "height": 247
        },
        "id": "AF0m1tjrLsYv",
        "outputId": "0389d84e-f736-4f9c-a2cc-232bfb1f19ad"
      },
      "execution_count": 28,
      "outputs": [
        {
          "output_type": "display_data",
          "data": {
            "text/plain": [
              "<Figure size 576x216 with 2 Axes>"
            ],
            "image/png": "[encoded data removed]"
          },
          "metadata": {
            "needs_background": "light"
          }
        }
      ]
    },
    {
      "cell_type": "markdown",
      "source": [
        "**배깅 앙상블에서 더 부드러워졌다**\n",
        "\n",
        "실전에서 고차원 데이터셋을 사용하는 더 복잡한 분류 문제라면 단일 결정트리가 쉽게 과대적합될 수 있다.-> 이런 경우에 배깅 알고리즘의 강력함이 제대로 발휘될 수 있다. \n",
        "\n",
        "배깅 알고리즘은 모델의 분산을 감소하는 효과적인 방법이지만 모델의 편향을 낮추|는 데는 효과적이지 않다. \n",
        "\n",
        "**즉, 모델이 너무 단순해서 데이터에 있는 경향을 잘 잡아내지 못한다.**\n",
        "\n"
      ],
      "metadata": {
        "id": "eFLDEhdkMcRS"
      }
    },
    {
      "cell_type": "markdown",
      "source": [
        "배깅의 OOB 점수 계산 방식은 랜덤 포레스트와 거의 동일합니다. 다만 `base_estimator`에 지정된 분류기가 `predict_proba` 메서드를 지원하지 않을 경우 예측 클래스를 카운팅하여 가장 높은 값의 클래스를 사용해 정확도를 계산합니다. 본문에서 만든 것과 동일한 `BaggingClassifier` 모델를 만들고 OOB 점수를 계산해 보겠습니다."
      ],
      "metadata": {
        "id": "GioQcxrGM5bi"
      }
    },
    {
      "cell_type": "code",
      "source": [
        "bag = BaggingClassifier(base_estimator=tree,\n",
        "                        n_estimators=500,\n",
        "                        oob_score=True,\n",
        "                        random_state=1)\n",
        "bag.fit(X_train, y_train)\n",
        "\n",
        "bag_train_score = bag.score(X_train, y_train)\n",
        "bag_test_score = bag.score(X_test, y_test)\n",
        "print('배깅의 훈련 정확도/테스트 정확도 %.3f/%.3f' % \n",
        "      (bag_train_score, bag_test_score))\n",
        "print('배깅의 OOB 정확도 %.3f' % bag.oob_score_)"
      ],
      "metadata": {
        "colab": {
          "base_uri": "https://localhost:8080/"
        },
        "id": "M0efRsDfLt_3",
        "outputId": "c2667823-eff3-4d44-9549-5a6a9449ff07"
      },
      "execution_count": 29,
      "outputs": [
        {
          "output_type": "stream",
          "name": "stdout",
          "text": [
            "배깅의 훈련 정확도/테스트 정확도 1.000/0.917\n",
            "배깅의 OOB 정확도 0.895\n"
          ]
        }
      ]
    },
    {
      "cell_type": "markdown",
      "source": [
        "# 약한 학습기를 이용한 에이다부스트\n",
        "\n",
        "가장 유명한 구현인 **에이다부스트**에 대해 설명.\n",
        "\n",
        "부스팅에서 앙상블은 **약한 학습기**라고도 하는 매우 간단한 분류기로 구성된다. \n",
        "\n",
        "이 분류기는 랜덤추측보다 조금 성능이 좋을 뿐이다. \n",
        "\n",
        "약한 학습기의전형적인 예는 깊이가 1인 결정 트리이다. 부스팅의 핵심 아이디어는 분류하기 어려운 훈련 샘플에 초점을 맞추는 것,\n",
        "\n",
        "**잘못 분류된 훈련 샘플을 그 다음 약한 학습기가 학습하여 앙상블 성능을 향상시킨다**\n"
      ],
      "metadata": {
        "id": "leEuAQ6CM-ug"
      }
    },
    {
      "cell_type": "markdown",
      "source": [
        "## 부스팅 작동 원리\n",
        "\n",
        "1. 훈련 데이터셋 $D$에서 중복을 혀용하지 않고 랜덤한 부분 집합 $d_1$을 뽑아 약한 학습기 $C_1$을 훈련한다. \n",
        "2. 훈련 데이터셋에서 중복을 허용하지 않고 두 번째 랜덤한 훈련 부분 집합 $d_2$를 뽑고 이전에 잘못 분류된 샘플의 50%을 더해서 약한 학습기 $C_2$를 훈련시킨다. \n",
        "3. 훈련 데이터셋 $D$에서 $C_1$과 $C_2$에서 잘못 분류된 훈련 샘플 $d_3$를 찾아 세번째 약한 학습기인 $C_2$를 훈련시킨다. \n",
        "4. 약한 학습기 $C_1, C_2,C_3$를 다수결 투표로 연결한다. \n",
        "---\n",
        "부스팅은 배깅 모델에 비해 분산은 물론 편향도 감소시킬수 있다. \n",
        "\n",
        "실제로는 에이다부스트 같은 부스팅 알고리즘이 분산이 높다고 알려져있다-> 훈련 데이터에 과대적합되는 경향이 있다. \n",
        "\n",
        "훈련 샘플은 반복마다 가중치가 다시 부여되며 이 앙상블은 이전 학습기의 실수를 학습하는 강력한 분류기를 만든다. \n",
        "\n",
        "\n"
      ],
      "metadata": {
        "id": "8FH1jcf8_WlV"
      }
    },
    {
      "cell_type": "code",
      "source": [
        "Image(url='https://git.io/Jtsk0', width=400) "
      ],
      "metadata": {
        "id": "_XKzL5W5M72d",
        "colab": {
          "base_uri": "https://localhost:8080/",
          "height": 361
        },
        "outputId": "c8d8ab6c-c542-4c27-e4fb-09df9d2f61ab"
      },
      "execution_count": 31,
      "outputs": [
        {
          "output_type": "execute_result",
          "data": {
            "text/plain": [
              "<IPython.core.display.Image object>"
            ],
            "text/html": [
              "<img src=\"https://git.io/Jtsk0\" width=\"400\"/>"
            ]
          },
          "metadata": {},
          "execution_count": 31
        }
      ]
    },
    {
      "cell_type": "code",
      "source": [
        "Image(url='https://git.io/Jtskg', width=500) "
      ],
      "metadata": {
        "colab": {
          "base_uri": "https://localhost:8080/",
          "height": 286
        },
        "id": "xPZrfAsLExDp",
        "outputId": "fd56cf26-7d16-488f-ae25-a174edeaf368"
      },
      "execution_count": 32,
      "outputs": [
        {
          "output_type": "execute_result",
          "data": {
            "text/plain": [
              "<IPython.core.display.Image object>"
            ],
            "text/html": [
              "<img src=\"https://git.io/Jtskg\" width=\"500\"/>"
            ]
          },
          "metadata": {},
          "execution_count": 32
        }
      ]
    },
    {
      "cell_type": "code",
      "source": [
        ""
      ],
      "metadata": {
        "id": "-znaemf4Ez6u"
      },
      "execution_count": null,
      "outputs": []
    }
  ]
}