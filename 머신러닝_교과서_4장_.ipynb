{
  "nbformat": 4,
  "nbformat_minor": 0,
  "metadata": {
    "colab": {
      "name": "머신러닝_교과서_4장..ipynb",
      "provenance": [],
      "authorship_tag": "ABX9TyPk1Bhf/neZFVwLqyJstRW3",
      "include_colab_link": true
    },
    "kernelspec": {
      "name": "python3",
      "display_name": "Python 3"
    },
    "language_info": {
      "name": "python"
    }
  },
  "cells": [
    {
      "cell_type": "markdown",
      "metadata": {
        "id": "view-in-github",
        "colab_type": "text"
      },
      "source": [
        "<a href=\"https://colab.research.google.com/github/MinjuKim0217/Python-Machine-Learning-Book/blob/main/%EB%A8%B8%EC%8B%A0%EB%9F%AC%EB%8B%9D_%EA%B5%90%EA%B3%BC%EC%84%9C_4%EC%9E%A5_.ipynb\" target=\"_parent\"><img src=\"https://colab.research.google.com/assets/colab-badge.svg\" alt=\"Open In Colab\"/></a>"
      ]
    },
    {
      "cell_type": "markdown",
      "source": [
        "# 좋은 훈련 데이터셋 만들기: 데이터 전처리\n",
        "\n",
        "학습 알고리즘에 데이터를 주입하기 전에 조사하고 전처리하는 것이 매우 중요하다. \n",
        "\n",
        "- 데이터셋에서 누락된 값을 제거하거나 대체하기\n",
        "- 머신러닝 알고리즘을 위해 범주혈 데이터 변환하기\n",
        "- 모델과 관련이 높은 특성 선택하기\n"
      ],
      "metadata": {
        "id": "It2LUryRMp_i"
      }
    },
    {
      "cell_type": "markdown",
      "source": [
        "## 누락된 데이터 다루기\n",
        "\n",
        "일반적으로 누락된 값은 데이터 데이블에 빈 공간이나 예약된 문자열로 채워진다. 숫자가 아니라는 의미의 NaN이나 NULL과 같은 값을 쓴다. \n",
        "\n",
        "분석을 더 진행하기 전에 누락된 값을 처리하는 것이 중요하다. "
      ],
      "metadata": {
        "id": "hQG97VANNCkb"
      }
    },
    {
      "cell_type": "markdown",
      "source": [
        "### 테이블 형태 데이터에서 누락된 값 식별\n",
        "\n"
      ],
      "metadata": {
        "id": "VkMPgGbiReNL"
      }
    },
    {
      "cell_type": "code",
      "execution_count": 1,
      "metadata": {
        "colab": {
          "base_uri": "https://localhost:8080/",
          "height": 143
        },
        "id": "p49MGc3YMk9u",
        "outputId": "920c12d0-fe2f-42ac-d70b-624ef9667dfd"
      },
      "outputs": [
        {
          "output_type": "execute_result",
          "data": {
            "text/html": [
              "\n",
              "  <div id=\"df-651c6d1e-4485-4f3e-bf31-b3c6877498e5\">\n",
              "    <div class=\"colab-df-container\">\n",
              "      <div>\n",
              "<style scoped>\n",
              "    .dataframe tbody tr th:only-of-type {\n",
              "        vertical-align: middle;\n",
              "    }\n",
              "\n",
              "    .dataframe tbody tr th {\n",
              "        vertical-align: top;\n",
              "    }\n",
              "\n",
              "    .dataframe thead th {\n",
              "        text-align: right;\n",
              "    }\n",
              "</style>\n",
              "<table border=\"1\" class=\"dataframe\">\n",
              "  <thead>\n",
              "    <tr style=\"text-align: right;\">\n",
              "      <th></th>\n",
              "      <th>A</th>\n",
              "      <th>B</th>\n",
              "      <th>C</th>\n",
              "      <th>D</th>\n",
              "    </tr>\n",
              "  </thead>\n",
              "  <tbody>\n",
              "    <tr>\n",
              "      <th>0</th>\n",
              "      <td>1.2</td>\n",
              "      <td>2.0</td>\n",
              "      <td>3.0</td>\n",
              "      <td>4.0</td>\n",
              "    </tr>\n",
              "    <tr>\n",
              "      <th>1</th>\n",
              "      <td>5.0</td>\n",
              "      <td>6.0</td>\n",
              "      <td>NaN</td>\n",
              "      <td>8.0</td>\n",
              "    </tr>\n",
              "    <tr>\n",
              "      <th>2</th>\n",
              "      <td>10.0</td>\n",
              "      <td>11.0</td>\n",
              "      <td>12.0</td>\n",
              "      <td>NaN</td>\n",
              "    </tr>\n",
              "  </tbody>\n",
              "</table>\n",
              "</div>\n",
              "      <button class=\"colab-df-convert\" onclick=\"convertToInteractive('df-651c6d1e-4485-4f3e-bf31-b3c6877498e5')\"\n",
              "              title=\"Convert this dataframe to an interactive table.\"\n",
              "              style=\"display:none;\">\n",
              "        \n",
              "  <svg xmlns=\"http://www.w3.org/2000/svg\" height=\"24px\"viewBox=\"0 0 24 24\"\n",
              "       width=\"24px\">\n",
              "    <path d=\"M0 0h24v24H0V0z\" fill=\"none\"/>\n",
              "    <path d=\"M18.56 5.44l.94 2.06.94-2.06 2.06-.94-2.06-.94-.94-2.06-.94 2.06-2.06.94zm-11 1L8.5 8.5l.94-2.06 2.06-.94-2.06-.94L8.5 2.5l-.94 2.06-2.06.94zm10 10l.94 2.06.94-2.06 2.06-.94-2.06-.94-.94-2.06-.94 2.06-2.06.94z\"/><path d=\"M17.41 7.96l-1.37-1.37c-.4-.4-.92-.59-1.43-.59-.52 0-1.04.2-1.43.59L10.3 9.45l-7.72 7.72c-.78.78-.78 2.05 0 2.83L4 21.41c.39.39.9.59 1.41.59.51 0 1.02-.2 1.41-.59l7.78-7.78 2.81-2.81c.8-.78.8-2.07 0-2.86zM5.41 20L4 18.59l7.72-7.72 1.47 1.35L5.41 20z\"/>\n",
              "  </svg>\n",
              "      </button>\n",
              "      \n",
              "  <style>\n",
              "    .colab-df-container {\n",
              "      display:flex;\n",
              "      flex-wrap:wrap;\n",
              "      gap: 12px;\n",
              "    }\n",
              "\n",
              "    .colab-df-convert {\n",
              "      background-color: #E8F0FE;\n",
              "      border: none;\n",
              "      border-radius: 50%;\n",
              "      cursor: pointer;\n",
              "      display: none;\n",
              "      fill: #1967D2;\n",
              "      height: 32px;\n",
              "      padding: 0 0 0 0;\n",
              "      width: 32px;\n",
              "    }\n",
              "\n",
              "    .colab-df-convert:hover {\n",
              "      background-color: #E2EBFA;\n",
              "      box-shadow: 0px 1px 2px rgba(60, 64, 67, 0.3), 0px 1px 3px 1px rgba(60, 64, 67, 0.15);\n",
              "      fill: #174EA6;\n",
              "    }\n",
              "\n",
              "    [theme=dark] .colab-df-convert {\n",
              "      background-color: #3B4455;\n",
              "      fill: #D2E3FC;\n",
              "    }\n",
              "\n",
              "    [theme=dark] .colab-df-convert:hover {\n",
              "      background-color: #434B5C;\n",
              "      box-shadow: 0px 1px 3px 1px rgba(0, 0, 0, 0.15);\n",
              "      filter: drop-shadow(0px 1px 2px rgba(0, 0, 0, 0.3));\n",
              "      fill: #FFFFFF;\n",
              "    }\n",
              "  </style>\n",
              "\n",
              "      <script>\n",
              "        const buttonEl =\n",
              "          document.querySelector('#df-651c6d1e-4485-4f3e-bf31-b3c6877498e5 button.colab-df-convert');\n",
              "        buttonEl.style.display =\n",
              "          google.colab.kernel.accessAllowed ? 'block' : 'none';\n",
              "\n",
              "        async function convertToInteractive(key) {\n",
              "          const element = document.querySelector('#df-651c6d1e-4485-4f3e-bf31-b3c6877498e5');\n",
              "          const dataTable =\n",
              "            await google.colab.kernel.invokeFunction('convertToInteractive',\n",
              "                                                     [key], {});\n",
              "          if (!dataTable) return;\n",
              "\n",
              "          const docLinkHtml = 'Like what you see? Visit the ' +\n",
              "            '<a target=\"_blank\" href=https://colab.research.google.com/notebooks/data_table.ipynb>data table notebook</a>'\n",
              "            + ' to learn more about interactive tables.';\n",
              "          element.innerHTML = '';\n",
              "          dataTable['output_type'] = 'display_data';\n",
              "          await google.colab.output.renderOutput(dataTable, element);\n",
              "          const docLink = document.createElement('div');\n",
              "          docLink.innerHTML = docLinkHtml;\n",
              "          element.appendChild(docLink);\n",
              "        }\n",
              "      </script>\n",
              "    </div>\n",
              "  </div>\n",
              "  "
            ],
            "text/plain": [
              "      A     B     C    D\n",
              "0   1.2   2.0   3.0  4.0\n",
              "1   5.0   6.0   NaN  8.0\n",
              "2  10.0  11.0  12.0  NaN"
            ]
          },
          "metadata": {},
          "execution_count": 1
        }
      ],
      "source": [
        "# 간단한 예제 데이터셋\n",
        "import pandas as pd\n",
        "from io import StringIO\n",
        "\n",
        "csv_data=\\\n",
        "'''A,B,C,D\n",
        "1.2,2.0,3.0,4.0\n",
        "5.0,6.0,,8.0\n",
        "10.0,11.0,12.0'''\n",
        "df=pd.read_csv(StringIO(csv_data))\n",
        "df"
      ]
    },
    {
      "cell_type": "code",
      "source": [
        "# isnull() 함수는 셀이 수치값을 담고 있는지 혹은 누락되어 있는지를 나타내는 불리언값 리턴\n",
        "df.isnull()"
      ],
      "metadata": {
        "colab": {
          "base_uri": "https://localhost:8080/",
          "height": 143
        },
        "id": "uNVCupnmR8H1",
        "outputId": "e3ef4013-7987-48d9-d454-6d2fd7ec253e"
      },
      "execution_count": 2,
      "outputs": [
        {
          "output_type": "execute_result",
          "data": {
            "text/html": [
              "\n",
              "  <div id=\"df-f797b862-94e7-4090-a66c-4413cd11aae1\">\n",
              "    <div class=\"colab-df-container\">\n",
              "      <div>\n",
              "<style scoped>\n",
              "    .dataframe tbody tr th:only-of-type {\n",
              "        vertical-align: middle;\n",
              "    }\n",
              "\n",
              "    .dataframe tbody tr th {\n",
              "        vertical-align: top;\n",
              "    }\n",
              "\n",
              "    .dataframe thead th {\n",
              "        text-align: right;\n",
              "    }\n",
              "</style>\n",
              "<table border=\"1\" class=\"dataframe\">\n",
              "  <thead>\n",
              "    <tr style=\"text-align: right;\">\n",
              "      <th></th>\n",
              "      <th>A</th>\n",
              "      <th>B</th>\n",
              "      <th>C</th>\n",
              "      <th>D</th>\n",
              "    </tr>\n",
              "  </thead>\n",
              "  <tbody>\n",
              "    <tr>\n",
              "      <th>0</th>\n",
              "      <td>False</td>\n",
              "      <td>False</td>\n",
              "      <td>False</td>\n",
              "      <td>False</td>\n",
              "    </tr>\n",
              "    <tr>\n",
              "      <th>1</th>\n",
              "      <td>False</td>\n",
              "      <td>False</td>\n",
              "      <td>True</td>\n",
              "      <td>False</td>\n",
              "    </tr>\n",
              "    <tr>\n",
              "      <th>2</th>\n",
              "      <td>False</td>\n",
              "      <td>False</td>\n",
              "      <td>False</td>\n",
              "      <td>True</td>\n",
              "    </tr>\n",
              "  </tbody>\n",
              "</table>\n",
              "</div>\n",
              "      <button class=\"colab-df-convert\" onclick=\"convertToInteractive('df-f797b862-94e7-4090-a66c-4413cd11aae1')\"\n",
              "              title=\"Convert this dataframe to an interactive table.\"\n",
              "              style=\"display:none;\">\n",
              "        \n",
              "  <svg xmlns=\"http://www.w3.org/2000/svg\" height=\"24px\"viewBox=\"0 0 24 24\"\n",
              "       width=\"24px\">\n",
              "    <path d=\"M0 0h24v24H0V0z\" fill=\"none\"/>\n",
              "    <path d=\"M18.56 5.44l.94 2.06.94-2.06 2.06-.94-2.06-.94-.94-2.06-.94 2.06-2.06.94zm-11 1L8.5 8.5l.94-2.06 2.06-.94-2.06-.94L8.5 2.5l-.94 2.06-2.06.94zm10 10l.94 2.06.94-2.06 2.06-.94-2.06-.94-.94-2.06-.94 2.06-2.06.94z\"/><path d=\"M17.41 7.96l-1.37-1.37c-.4-.4-.92-.59-1.43-.59-.52 0-1.04.2-1.43.59L10.3 9.45l-7.72 7.72c-.78.78-.78 2.05 0 2.83L4 21.41c.39.39.9.59 1.41.59.51 0 1.02-.2 1.41-.59l7.78-7.78 2.81-2.81c.8-.78.8-2.07 0-2.86zM5.41 20L4 18.59l7.72-7.72 1.47 1.35L5.41 20z\"/>\n",
              "  </svg>\n",
              "      </button>\n",
              "      \n",
              "  <style>\n",
              "    .colab-df-container {\n",
              "      display:flex;\n",
              "      flex-wrap:wrap;\n",
              "      gap: 12px;\n",
              "    }\n",
              "\n",
              "    .colab-df-convert {\n",
              "      background-color: #E8F0FE;\n",
              "      border: none;\n",
              "      border-radius: 50%;\n",
              "      cursor: pointer;\n",
              "      display: none;\n",
              "      fill: #1967D2;\n",
              "      height: 32px;\n",
              "      padding: 0 0 0 0;\n",
              "      width: 32px;\n",
              "    }\n",
              "\n",
              "    .colab-df-convert:hover {\n",
              "      background-color: #E2EBFA;\n",
              "      box-shadow: 0px 1px 2px rgba(60, 64, 67, 0.3), 0px 1px 3px 1px rgba(60, 64, 67, 0.15);\n",
              "      fill: #174EA6;\n",
              "    }\n",
              "\n",
              "    [theme=dark] .colab-df-convert {\n",
              "      background-color: #3B4455;\n",
              "      fill: #D2E3FC;\n",
              "    }\n",
              "\n",
              "    [theme=dark] .colab-df-convert:hover {\n",
              "      background-color: #434B5C;\n",
              "      box-shadow: 0px 1px 3px 1px rgba(0, 0, 0, 0.15);\n",
              "      filter: drop-shadow(0px 1px 2px rgba(0, 0, 0, 0.3));\n",
              "      fill: #FFFFFF;\n",
              "    }\n",
              "  </style>\n",
              "\n",
              "      <script>\n",
              "        const buttonEl =\n",
              "          document.querySelector('#df-f797b862-94e7-4090-a66c-4413cd11aae1 button.colab-df-convert');\n",
              "        buttonEl.style.display =\n",
              "          google.colab.kernel.accessAllowed ? 'block' : 'none';\n",
              "\n",
              "        async function convertToInteractive(key) {\n",
              "          const element = document.querySelector('#df-f797b862-94e7-4090-a66c-4413cd11aae1');\n",
              "          const dataTable =\n",
              "            await google.colab.kernel.invokeFunction('convertToInteractive',\n",
              "                                                     [key], {});\n",
              "          if (!dataTable) return;\n",
              "\n",
              "          const docLinkHtml = 'Like what you see? Visit the ' +\n",
              "            '<a target=\"_blank\" href=https://colab.research.google.com/notebooks/data_table.ipynb>data table notebook</a>'\n",
              "            + ' to learn more about interactive tables.';\n",
              "          element.innerHTML = '';\n",
              "          dataTable['output_type'] = 'display_data';\n",
              "          await google.colab.output.renderOutput(dataTable, element);\n",
              "          const docLink = document.createElement('div');\n",
              "          docLink.innerHTML = docLinkHtml;\n",
              "          element.appendChild(docLink);\n",
              "        }\n",
              "      </script>\n",
              "    </div>\n",
              "  </div>\n",
              "  "
            ],
            "text/plain": [
              "       A      B      C      D\n",
              "0  False  False  False  False\n",
              "1  False  False   True  False\n",
              "2  False  False  False   True"
            ]
          },
          "metadata": {},
          "execution_count": 2
        }
      ]
    },
    {
      "cell_type": "code",
      "source": [
        "df.isnull().sum()"
      ],
      "metadata": {
        "colab": {
          "base_uri": "https://localhost:8080/"
        },
        "id": "YQ9SkI_igmMR",
        "outputId": "a71de983-b918-45b7-9eed-82a1db085e2c"
      },
      "execution_count": 3,
      "outputs": [
        {
          "output_type": "execute_result",
          "data": {
            "text/plain": [
              "A    0\n",
              "B    0\n",
              "C    1\n",
              "D    1\n",
              "dtype: int64"
            ]
          },
          "metadata": {},
          "execution_count": 3
        }
      ]
    },
    {
      "cell_type": "markdown",
      "source": [
        "### 누락된 값이 있는 훈련 샘플이나 특성 제외\n",
        "\n",
        "누락된 데이터를 다우는 가장 쉬운 방법 중 하나는 데이터셋에서 해당 훈련 샘플 (행) 이나 특성 (열)을 완전히 지우는 것"
      ],
      "metadata": {
        "id": "nctcpKl5guGu"
      }
    },
    {
      "cell_type": "code",
      "source": [
        "df.dropna(axis=1)"
      ],
      "metadata": {
        "colab": {
          "base_uri": "https://localhost:8080/",
          "height": 143
        },
        "id": "PZqVBT9cgrBE",
        "outputId": "a3aeec61-217b-43fa-9325-cd3b21143302"
      },
      "execution_count": 4,
      "outputs": [
        {
          "output_type": "execute_result",
          "data": {
            "text/html": [
              "\n",
              "  <div id=\"df-3370ae4d-303e-4795-830e-8c8632f7032a\">\n",
              "    <div class=\"colab-df-container\">\n",
              "      <div>\n",
              "<style scoped>\n",
              "    .dataframe tbody tr th:only-of-type {\n",
              "        vertical-align: middle;\n",
              "    }\n",
              "\n",
              "    .dataframe tbody tr th {\n",
              "        vertical-align: top;\n",
              "    }\n",
              "\n",
              "    .dataframe thead th {\n",
              "        text-align: right;\n",
              "    }\n",
              "</style>\n",
              "<table border=\"1\" class=\"dataframe\">\n",
              "  <thead>\n",
              "    <tr style=\"text-align: right;\">\n",
              "      <th></th>\n",
              "      <th>A</th>\n",
              "      <th>B</th>\n",
              "    </tr>\n",
              "  </thead>\n",
              "  <tbody>\n",
              "    <tr>\n",
              "      <th>0</th>\n",
              "      <td>1.2</td>\n",
              "      <td>2.0</td>\n",
              "    </tr>\n",
              "    <tr>\n",
              "      <th>1</th>\n",
              "      <td>5.0</td>\n",
              "      <td>6.0</td>\n",
              "    </tr>\n",
              "    <tr>\n",
              "      <th>2</th>\n",
              "      <td>10.0</td>\n",
              "      <td>11.0</td>\n",
              "    </tr>\n",
              "  </tbody>\n",
              "</table>\n",
              "</div>\n",
              "      <button class=\"colab-df-convert\" onclick=\"convertToInteractive('df-3370ae4d-303e-4795-830e-8c8632f7032a')\"\n",
              "              title=\"Convert this dataframe to an interactive table.\"\n",
              "              style=\"display:none;\">\n",
              "        \n",
              "  <svg xmlns=\"http://www.w3.org/2000/svg\" height=\"24px\"viewBox=\"0 0 24 24\"\n",
              "       width=\"24px\">\n",
              "    <path d=\"M0 0h24v24H0V0z\" fill=\"none\"/>\n",
              "    <path d=\"M18.56 5.44l.94 2.06.94-2.06 2.06-.94-2.06-.94-.94-2.06-.94 2.06-2.06.94zm-11 1L8.5 8.5l.94-2.06 2.06-.94-2.06-.94L8.5 2.5l-.94 2.06-2.06.94zm10 10l.94 2.06.94-2.06 2.06-.94-2.06-.94-.94-2.06-.94 2.06-2.06.94z\"/><path d=\"M17.41 7.96l-1.37-1.37c-.4-.4-.92-.59-1.43-.59-.52 0-1.04.2-1.43.59L10.3 9.45l-7.72 7.72c-.78.78-.78 2.05 0 2.83L4 21.41c.39.39.9.59 1.41.59.51 0 1.02-.2 1.41-.59l7.78-7.78 2.81-2.81c.8-.78.8-2.07 0-2.86zM5.41 20L4 18.59l7.72-7.72 1.47 1.35L5.41 20z\"/>\n",
              "  </svg>\n",
              "      </button>\n",
              "      \n",
              "  <style>\n",
              "    .colab-df-container {\n",
              "      display:flex;\n",
              "      flex-wrap:wrap;\n",
              "      gap: 12px;\n",
              "    }\n",
              "\n",
              "    .colab-df-convert {\n",
              "      background-color: #E8F0FE;\n",
              "      border: none;\n",
              "      border-radius: 50%;\n",
              "      cursor: pointer;\n",
              "      display: none;\n",
              "      fill: #1967D2;\n",
              "      height: 32px;\n",
              "      padding: 0 0 0 0;\n",
              "      width: 32px;\n",
              "    }\n",
              "\n",
              "    .colab-df-convert:hover {\n",
              "      background-color: #E2EBFA;\n",
              "      box-shadow: 0px 1px 2px rgba(60, 64, 67, 0.3), 0px 1px 3px 1px rgba(60, 64, 67, 0.15);\n",
              "      fill: #174EA6;\n",
              "    }\n",
              "\n",
              "    [theme=dark] .colab-df-convert {\n",
              "      background-color: #3B4455;\n",
              "      fill: #D2E3FC;\n",
              "    }\n",
              "\n",
              "    [theme=dark] .colab-df-convert:hover {\n",
              "      background-color: #434B5C;\n",
              "      box-shadow: 0px 1px 3px 1px rgba(0, 0, 0, 0.15);\n",
              "      filter: drop-shadow(0px 1px 2px rgba(0, 0, 0, 0.3));\n",
              "      fill: #FFFFFF;\n",
              "    }\n",
              "  </style>\n",
              "\n",
              "      <script>\n",
              "        const buttonEl =\n",
              "          document.querySelector('#df-3370ae4d-303e-4795-830e-8c8632f7032a button.colab-df-convert');\n",
              "        buttonEl.style.display =\n",
              "          google.colab.kernel.accessAllowed ? 'block' : 'none';\n",
              "\n",
              "        async function convertToInteractive(key) {\n",
              "          const element = document.querySelector('#df-3370ae4d-303e-4795-830e-8c8632f7032a');\n",
              "          const dataTable =\n",
              "            await google.colab.kernel.invokeFunction('convertToInteractive',\n",
              "                                                     [key], {});\n",
              "          if (!dataTable) return;\n",
              "\n",
              "          const docLinkHtml = 'Like what you see? Visit the ' +\n",
              "            '<a target=\"_blank\" href=https://colab.research.google.com/notebooks/data_table.ipynb>data table notebook</a>'\n",
              "            + ' to learn more about interactive tables.';\n",
              "          element.innerHTML = '';\n",
              "          dataTable['output_type'] = 'display_data';\n",
              "          await google.colab.output.renderOutput(dataTable, element);\n",
              "          const docLink = document.createElement('div');\n",
              "          docLink.innerHTML = docLinkHtml;\n",
              "          element.appendChild(docLink);\n",
              "        }\n",
              "      </script>\n",
              "    </div>\n",
              "  </div>\n",
              "  "
            ],
            "text/plain": [
              "      A     B\n",
              "0   1.2   2.0\n",
              "1   5.0   6.0\n",
              "2  10.0  11.0"
            ]
          },
          "metadata": {},
          "execution_count": 4
        }
      ]
    },
    {
      "cell_type": "code",
      "source": [
        "#모든 열이 NaN알 때만 행 삭제\n",
        "df.dropna(how='all')"
      ],
      "metadata": {
        "colab": {
          "base_uri": "https://localhost:8080/",
          "height": 143
        },
        "id": "NWMmjBSDhU7K",
        "outputId": "e3644a21-b1e2-45a7-9071-9f979ab2f851"
      },
      "execution_count": 5,
      "outputs": [
        {
          "output_type": "execute_result",
          "data": {
            "text/html": [
              "\n",
              "  <div id=\"df-23a6d100-9e75-4a25-959e-09b5b8a3ed79\">\n",
              "    <div class=\"colab-df-container\">\n",
              "      <div>\n",
              "<style scoped>\n",
              "    .dataframe tbody tr th:only-of-type {\n",
              "        vertical-align: middle;\n",
              "    }\n",
              "\n",
              "    .dataframe tbody tr th {\n",
              "        vertical-align: top;\n",
              "    }\n",
              "\n",
              "    .dataframe thead th {\n",
              "        text-align: right;\n",
              "    }\n",
              "</style>\n",
              "<table border=\"1\" class=\"dataframe\">\n",
              "  <thead>\n",
              "    <tr style=\"text-align: right;\">\n",
              "      <th></th>\n",
              "      <th>A</th>\n",
              "      <th>B</th>\n",
              "      <th>C</th>\n",
              "      <th>D</th>\n",
              "    </tr>\n",
              "  </thead>\n",
              "  <tbody>\n",
              "    <tr>\n",
              "      <th>0</th>\n",
              "      <td>1.2</td>\n",
              "      <td>2.0</td>\n",
              "      <td>3.0</td>\n",
              "      <td>4.0</td>\n",
              "    </tr>\n",
              "    <tr>\n",
              "      <th>1</th>\n",
              "      <td>5.0</td>\n",
              "      <td>6.0</td>\n",
              "      <td>NaN</td>\n",
              "      <td>8.0</td>\n",
              "    </tr>\n",
              "    <tr>\n",
              "      <th>2</th>\n",
              "      <td>10.0</td>\n",
              "      <td>11.0</td>\n",
              "      <td>12.0</td>\n",
              "      <td>NaN</td>\n",
              "    </tr>\n",
              "  </tbody>\n",
              "</table>\n",
              "</div>\n",
              "      <button class=\"colab-df-convert\" onclick=\"convertToInteractive('df-23a6d100-9e75-4a25-959e-09b5b8a3ed79')\"\n",
              "              title=\"Convert this dataframe to an interactive table.\"\n",
              "              style=\"display:none;\">\n",
              "        \n",
              "  <svg xmlns=\"http://www.w3.org/2000/svg\" height=\"24px\"viewBox=\"0 0 24 24\"\n",
              "       width=\"24px\">\n",
              "    <path d=\"M0 0h24v24H0V0z\" fill=\"none\"/>\n",
              "    <path d=\"M18.56 5.44l.94 2.06.94-2.06 2.06-.94-2.06-.94-.94-2.06-.94 2.06-2.06.94zm-11 1L8.5 8.5l.94-2.06 2.06-.94-2.06-.94L8.5 2.5l-.94 2.06-2.06.94zm10 10l.94 2.06.94-2.06 2.06-.94-2.06-.94-.94-2.06-.94 2.06-2.06.94z\"/><path d=\"M17.41 7.96l-1.37-1.37c-.4-.4-.92-.59-1.43-.59-.52 0-1.04.2-1.43.59L10.3 9.45l-7.72 7.72c-.78.78-.78 2.05 0 2.83L4 21.41c.39.39.9.59 1.41.59.51 0 1.02-.2 1.41-.59l7.78-7.78 2.81-2.81c.8-.78.8-2.07 0-2.86zM5.41 20L4 18.59l7.72-7.72 1.47 1.35L5.41 20z\"/>\n",
              "  </svg>\n",
              "      </button>\n",
              "      \n",
              "  <style>\n",
              "    .colab-df-container {\n",
              "      display:flex;\n",
              "      flex-wrap:wrap;\n",
              "      gap: 12px;\n",
              "    }\n",
              "\n",
              "    .colab-df-convert {\n",
              "      background-color: #E8F0FE;\n",
              "      border: none;\n",
              "      border-radius: 50%;\n",
              "      cursor: pointer;\n",
              "      display: none;\n",
              "      fill: #1967D2;\n",
              "      height: 32px;\n",
              "      padding: 0 0 0 0;\n",
              "      width: 32px;\n",
              "    }\n",
              "\n",
              "    .colab-df-convert:hover {\n",
              "      background-color: #E2EBFA;\n",
              "      box-shadow: 0px 1px 2px rgba(60, 64, 67, 0.3), 0px 1px 3px 1px rgba(60, 64, 67, 0.15);\n",
              "      fill: #174EA6;\n",
              "    }\n",
              "\n",
              "    [theme=dark] .colab-df-convert {\n",
              "      background-color: #3B4455;\n",
              "      fill: #D2E3FC;\n",
              "    }\n",
              "\n",
              "    [theme=dark] .colab-df-convert:hover {\n",
              "      background-color: #434B5C;\n",
              "      box-shadow: 0px 1px 3px 1px rgba(0, 0, 0, 0.15);\n",
              "      filter: drop-shadow(0px 1px 2px rgba(0, 0, 0, 0.3));\n",
              "      fill: #FFFFFF;\n",
              "    }\n",
              "  </style>\n",
              "\n",
              "      <script>\n",
              "        const buttonEl =\n",
              "          document.querySelector('#df-23a6d100-9e75-4a25-959e-09b5b8a3ed79 button.colab-df-convert');\n",
              "        buttonEl.style.display =\n",
              "          google.colab.kernel.accessAllowed ? 'block' : 'none';\n",
              "\n",
              "        async function convertToInteractive(key) {\n",
              "          const element = document.querySelector('#df-23a6d100-9e75-4a25-959e-09b5b8a3ed79');\n",
              "          const dataTable =\n",
              "            await google.colab.kernel.invokeFunction('convertToInteractive',\n",
              "                                                     [key], {});\n",
              "          if (!dataTable) return;\n",
              "\n",
              "          const docLinkHtml = 'Like what you see? Visit the ' +\n",
              "            '<a target=\"_blank\" href=https://colab.research.google.com/notebooks/data_table.ipynb>data table notebook</a>'\n",
              "            + ' to learn more about interactive tables.';\n",
              "          element.innerHTML = '';\n",
              "          dataTable['output_type'] = 'display_data';\n",
              "          await google.colab.output.renderOutput(dataTable, element);\n",
              "          const docLink = document.createElement('div');\n",
              "          docLink.innerHTML = docLinkHtml;\n",
              "          element.appendChild(docLink);\n",
              "        }\n",
              "      </script>\n",
              "    </div>\n",
              "  </div>\n",
              "  "
            ],
            "text/plain": [
              "      A     B     C    D\n",
              "0   1.2   2.0   3.0  4.0\n",
              "1   5.0   6.0   NaN  8.0\n",
              "2  10.0  11.0  12.0  NaN"
            ]
          },
          "metadata": {},
          "execution_count": 5
        }
      ]
    },
    {
      "cell_type": "code",
      "source": [
        "#NaN이 아닌 값이 네 개보다 작은 행을 삭제\n",
        "df.dropna(thresh=4)"
      ],
      "metadata": {
        "colab": {
          "base_uri": "https://localhost:8080/",
          "height": 81
        },
        "id": "2TdxtdvYhfzW",
        "outputId": "c7ee80d5-50c4-4689-f021-f98b6ff0c908"
      },
      "execution_count": 6,
      "outputs": [
        {
          "output_type": "execute_result",
          "data": {
            "text/html": [
              "\n",
              "  <div id=\"df-7ece7a11-61eb-430d-bb73-1e35f685a2ba\">\n",
              "    <div class=\"colab-df-container\">\n",
              "      <div>\n",
              "<style scoped>\n",
              "    .dataframe tbody tr th:only-of-type {\n",
              "        vertical-align: middle;\n",
              "    }\n",
              "\n",
              "    .dataframe tbody tr th {\n",
              "        vertical-align: top;\n",
              "    }\n",
              "\n",
              "    .dataframe thead th {\n",
              "        text-align: right;\n",
              "    }\n",
              "</style>\n",
              "<table border=\"1\" class=\"dataframe\">\n",
              "  <thead>\n",
              "    <tr style=\"text-align: right;\">\n",
              "      <th></th>\n",
              "      <th>A</th>\n",
              "      <th>B</th>\n",
              "      <th>C</th>\n",
              "      <th>D</th>\n",
              "    </tr>\n",
              "  </thead>\n",
              "  <tbody>\n",
              "    <tr>\n",
              "      <th>0</th>\n",
              "      <td>1.2</td>\n",
              "      <td>2.0</td>\n",
              "      <td>3.0</td>\n",
              "      <td>4.0</td>\n",
              "    </tr>\n",
              "  </tbody>\n",
              "</table>\n",
              "</div>\n",
              "      <button class=\"colab-df-convert\" onclick=\"convertToInteractive('df-7ece7a11-61eb-430d-bb73-1e35f685a2ba')\"\n",
              "              title=\"Convert this dataframe to an interactive table.\"\n",
              "              style=\"display:none;\">\n",
              "        \n",
              "  <svg xmlns=\"http://www.w3.org/2000/svg\" height=\"24px\"viewBox=\"0 0 24 24\"\n",
              "       width=\"24px\">\n",
              "    <path d=\"M0 0h24v24H0V0z\" fill=\"none\"/>\n",
              "    <path d=\"M18.56 5.44l.94 2.06.94-2.06 2.06-.94-2.06-.94-.94-2.06-.94 2.06-2.06.94zm-11 1L8.5 8.5l.94-2.06 2.06-.94-2.06-.94L8.5 2.5l-.94 2.06-2.06.94zm10 10l.94 2.06.94-2.06 2.06-.94-2.06-.94-.94-2.06-.94 2.06-2.06.94z\"/><path d=\"M17.41 7.96l-1.37-1.37c-.4-.4-.92-.59-1.43-.59-.52 0-1.04.2-1.43.59L10.3 9.45l-7.72 7.72c-.78.78-.78 2.05 0 2.83L4 21.41c.39.39.9.59 1.41.59.51 0 1.02-.2 1.41-.59l7.78-7.78 2.81-2.81c.8-.78.8-2.07 0-2.86zM5.41 20L4 18.59l7.72-7.72 1.47 1.35L5.41 20z\"/>\n",
              "  </svg>\n",
              "      </button>\n",
              "      \n",
              "  <style>\n",
              "    .colab-df-container {\n",
              "      display:flex;\n",
              "      flex-wrap:wrap;\n",
              "      gap: 12px;\n",
              "    }\n",
              "\n",
              "    .colab-df-convert {\n",
              "      background-color: #E8F0FE;\n",
              "      border: none;\n",
              "      border-radius: 50%;\n",
              "      cursor: pointer;\n",
              "      display: none;\n",
              "      fill: #1967D2;\n",
              "      height: 32px;\n",
              "      padding: 0 0 0 0;\n",
              "      width: 32px;\n",
              "    }\n",
              "\n",
              "    .colab-df-convert:hover {\n",
              "      background-color: #E2EBFA;\n",
              "      box-shadow: 0px 1px 2px rgba(60, 64, 67, 0.3), 0px 1px 3px 1px rgba(60, 64, 67, 0.15);\n",
              "      fill: #174EA6;\n",
              "    }\n",
              "\n",
              "    [theme=dark] .colab-df-convert {\n",
              "      background-color: #3B4455;\n",
              "      fill: #D2E3FC;\n",
              "    }\n",
              "\n",
              "    [theme=dark] .colab-df-convert:hover {\n",
              "      background-color: #434B5C;\n",
              "      box-shadow: 0px 1px 3px 1px rgba(0, 0, 0, 0.15);\n",
              "      filter: drop-shadow(0px 1px 2px rgba(0, 0, 0, 0.3));\n",
              "      fill: #FFFFFF;\n",
              "    }\n",
              "  </style>\n",
              "\n",
              "      <script>\n",
              "        const buttonEl =\n",
              "          document.querySelector('#df-7ece7a11-61eb-430d-bb73-1e35f685a2ba button.colab-df-convert');\n",
              "        buttonEl.style.display =\n",
              "          google.colab.kernel.accessAllowed ? 'block' : 'none';\n",
              "\n",
              "        async function convertToInteractive(key) {\n",
              "          const element = document.querySelector('#df-7ece7a11-61eb-430d-bb73-1e35f685a2ba');\n",
              "          const dataTable =\n",
              "            await google.colab.kernel.invokeFunction('convertToInteractive',\n",
              "                                                     [key], {});\n",
              "          if (!dataTable) return;\n",
              "\n",
              "          const docLinkHtml = 'Like what you see? Visit the ' +\n",
              "            '<a target=\"_blank\" href=https://colab.research.google.com/notebooks/data_table.ipynb>data table notebook</a>'\n",
              "            + ' to learn more about interactive tables.';\n",
              "          element.innerHTML = '';\n",
              "          dataTable['output_type'] = 'display_data';\n",
              "          await google.colab.output.renderOutput(dataTable, element);\n",
              "          const docLink = document.createElement('div');\n",
              "          docLink.innerHTML = docLinkHtml;\n",
              "          element.appendChild(docLink);\n",
              "        }\n",
              "      </script>\n",
              "    </div>\n",
              "  </div>\n",
              "  "
            ],
            "text/plain": [
              "     A    B    C    D\n",
              "0  1.2  2.0  3.0  4.0"
            ]
          },
          "metadata": {},
          "execution_count": 6
        }
      ]
    },
    {
      "cell_type": "code",
      "source": [
        "# 특정 열에 NaN이 있는 행만 삭제한다. \n",
        "df.dropna(subset=['C'])"
      ],
      "metadata": {
        "colab": {
          "base_uri": "https://localhost:8080/",
          "height": 112
        },
        "id": "rWBYGsYchpCo",
        "outputId": "83a54cef-bfd2-49e2-fc9d-fe3d2b5749dd"
      },
      "execution_count": 7,
      "outputs": [
        {
          "output_type": "execute_result",
          "data": {
            "text/html": [
              "\n",
              "  <div id=\"df-b54187f9-ff36-474d-a648-f862dc3772bb\">\n",
              "    <div class=\"colab-df-container\">\n",
              "      <div>\n",
              "<style scoped>\n",
              "    .dataframe tbody tr th:only-of-type {\n",
              "        vertical-align: middle;\n",
              "    }\n",
              "\n",
              "    .dataframe tbody tr th {\n",
              "        vertical-align: top;\n",
              "    }\n",
              "\n",
              "    .dataframe thead th {\n",
              "        text-align: right;\n",
              "    }\n",
              "</style>\n",
              "<table border=\"1\" class=\"dataframe\">\n",
              "  <thead>\n",
              "    <tr style=\"text-align: right;\">\n",
              "      <th></th>\n",
              "      <th>A</th>\n",
              "      <th>B</th>\n",
              "      <th>C</th>\n",
              "      <th>D</th>\n",
              "    </tr>\n",
              "  </thead>\n",
              "  <tbody>\n",
              "    <tr>\n",
              "      <th>0</th>\n",
              "      <td>1.2</td>\n",
              "      <td>2.0</td>\n",
              "      <td>3.0</td>\n",
              "      <td>4.0</td>\n",
              "    </tr>\n",
              "    <tr>\n",
              "      <th>2</th>\n",
              "      <td>10.0</td>\n",
              "      <td>11.0</td>\n",
              "      <td>12.0</td>\n",
              "      <td>NaN</td>\n",
              "    </tr>\n",
              "  </tbody>\n",
              "</table>\n",
              "</div>\n",
              "      <button class=\"colab-df-convert\" onclick=\"convertToInteractive('df-b54187f9-ff36-474d-a648-f862dc3772bb')\"\n",
              "              title=\"Convert this dataframe to an interactive table.\"\n",
              "              style=\"display:none;\">\n",
              "        \n",
              "  <svg xmlns=\"http://www.w3.org/2000/svg\" height=\"24px\"viewBox=\"0 0 24 24\"\n",
              "       width=\"24px\">\n",
              "    <path d=\"M0 0h24v24H0V0z\" fill=\"none\"/>\n",
              "    <path d=\"M18.56 5.44l.94 2.06.94-2.06 2.06-.94-2.06-.94-.94-2.06-.94 2.06-2.06.94zm-11 1L8.5 8.5l.94-2.06 2.06-.94-2.06-.94L8.5 2.5l-.94 2.06-2.06.94zm10 10l.94 2.06.94-2.06 2.06-.94-2.06-.94-.94-2.06-.94 2.06-2.06.94z\"/><path d=\"M17.41 7.96l-1.37-1.37c-.4-.4-.92-.59-1.43-.59-.52 0-1.04.2-1.43.59L10.3 9.45l-7.72 7.72c-.78.78-.78 2.05 0 2.83L4 21.41c.39.39.9.59 1.41.59.51 0 1.02-.2 1.41-.59l7.78-7.78 2.81-2.81c.8-.78.8-2.07 0-2.86zM5.41 20L4 18.59l7.72-7.72 1.47 1.35L5.41 20z\"/>\n",
              "  </svg>\n",
              "      </button>\n",
              "      \n",
              "  <style>\n",
              "    .colab-df-container {\n",
              "      display:flex;\n",
              "      flex-wrap:wrap;\n",
              "      gap: 12px;\n",
              "    }\n",
              "\n",
              "    .colab-df-convert {\n",
              "      background-color: #E8F0FE;\n",
              "      border: none;\n",
              "      border-radius: 50%;\n",
              "      cursor: pointer;\n",
              "      display: none;\n",
              "      fill: #1967D2;\n",
              "      height: 32px;\n",
              "      padding: 0 0 0 0;\n",
              "      width: 32px;\n",
              "    }\n",
              "\n",
              "    .colab-df-convert:hover {\n",
              "      background-color: #E2EBFA;\n",
              "      box-shadow: 0px 1px 2px rgba(60, 64, 67, 0.3), 0px 1px 3px 1px rgba(60, 64, 67, 0.15);\n",
              "      fill: #174EA6;\n",
              "    }\n",
              "\n",
              "    [theme=dark] .colab-df-convert {\n",
              "      background-color: #3B4455;\n",
              "      fill: #D2E3FC;\n",
              "    }\n",
              "\n",
              "    [theme=dark] .colab-df-convert:hover {\n",
              "      background-color: #434B5C;\n",
              "      box-shadow: 0px 1px 3px 1px rgba(0, 0, 0, 0.15);\n",
              "      filter: drop-shadow(0px 1px 2px rgba(0, 0, 0, 0.3));\n",
              "      fill: #FFFFFF;\n",
              "    }\n",
              "  </style>\n",
              "\n",
              "      <script>\n",
              "        const buttonEl =\n",
              "          document.querySelector('#df-b54187f9-ff36-474d-a648-f862dc3772bb button.colab-df-convert');\n",
              "        buttonEl.style.display =\n",
              "          google.colab.kernel.accessAllowed ? 'block' : 'none';\n",
              "\n",
              "        async function convertToInteractive(key) {\n",
              "          const element = document.querySelector('#df-b54187f9-ff36-474d-a648-f862dc3772bb');\n",
              "          const dataTable =\n",
              "            await google.colab.kernel.invokeFunction('convertToInteractive',\n",
              "                                                     [key], {});\n",
              "          if (!dataTable) return;\n",
              "\n",
              "          const docLinkHtml = 'Like what you see? Visit the ' +\n",
              "            '<a target=\"_blank\" href=https://colab.research.google.com/notebooks/data_table.ipynb>data table notebook</a>'\n",
              "            + ' to learn more about interactive tables.';\n",
              "          element.innerHTML = '';\n",
              "          dataTable['output_type'] = 'display_data';\n",
              "          await google.colab.output.renderOutput(dataTable, element);\n",
              "          const docLink = document.createElement('div');\n",
              "          docLink.innerHTML = docLinkHtml;\n",
              "          element.appendChild(docLink);\n",
              "        }\n",
              "      </script>\n",
              "    </div>\n",
              "  </div>\n",
              "  "
            ],
            "text/plain": [
              "      A     B     C    D\n",
              "0   1.2   2.0   3.0  4.0\n",
              "2  10.0  11.0  12.0  NaN"
            ]
          },
          "metadata": {},
          "execution_count": 7
        }
      ]
    },
    {
      "cell_type": "markdown",
      "source": [
        "### 누락된 값 대체\n",
        "\n",
        "훈련 데이터 샘플에서 열이나 행을 전부 다 지우게 되면 유용한 정보가 손실되는 경우가 있기 때문에 보간 방법을 쓰기도 한다. \n",
        "\n",
        "가장 흔한 보간 방법은 평균으로 대체하는 것이다. \n",
        "\n",
        "사이킷런의 SimpleImputer 클래스를 활용하면 간편하게 처리 가능하다. \n",
        "\n",
        "strategy 매개변수에 설정할 수 있는 다른 값으로는 median, most_frequent등이 있다. -> 범주형 데이터를 대체할 때 유용하다. "
      ],
      "metadata": {
        "id": "PAUtffCGkiLk"
      }
    },
    {
      "cell_type": "code",
      "source": [
        "from sklearn.impute import SimpleImputer\n",
        "import numpy as np\n",
        "\n",
        "imr=SimpleImputer(missing_values=np.nan, strategy='mean')\n",
        "imr=imr.fit(df.values)\n",
        "imputed_data=imr.transform(df.values)\n",
        "imputed_data"
      ],
      "metadata": {
        "colab": {
          "base_uri": "https://localhost:8080/"
        },
        "id": "_9TQa4Ckh20R",
        "outputId": "e70729a6-69db-49f4-9909-7639584e7f63"
      },
      "execution_count": 8,
      "outputs": [
        {
          "output_type": "execute_result",
          "data": {
            "text/plain": [
              "array([[ 1.2,  2. ,  3. ,  4. ],\n",
              "       [ 5. ,  6. ,  7.5,  8. ],\n",
              "       [10. , 11. , 12. ,  6. ]])"
            ]
          },
          "metadata": {},
          "execution_count": 8
        }
      ]
    },
    {
      "cell_type": "code",
      "source": [
        "# 판다스 데이터프레임 객체에서 바로 평균값으로 누락된 값을 대체할 수 있음\n",
        "\n",
        "df.fillna(df.mean())"
      ],
      "metadata": {
        "colab": {
          "base_uri": "https://localhost:8080/",
          "height": 143
        },
        "id": "21l3zoBzlR7r",
        "outputId": "b9f5cf92-fb84-4ee2-ee7d-5baed96f9c43"
      },
      "execution_count": 9,
      "outputs": [
        {
          "output_type": "execute_result",
          "data": {
            "text/html": [
              "\n",
              "  <div id=\"df-1013f360-90f0-4eb3-abd2-a13f79d5ba6e\">\n",
              "    <div class=\"colab-df-container\">\n",
              "      <div>\n",
              "<style scoped>\n",
              "    .dataframe tbody tr th:only-of-type {\n",
              "        vertical-align: middle;\n",
              "    }\n",
              "\n",
              "    .dataframe tbody tr th {\n",
              "        vertical-align: top;\n",
              "    }\n",
              "\n",
              "    .dataframe thead th {\n",
              "        text-align: right;\n",
              "    }\n",
              "</style>\n",
              "<table border=\"1\" class=\"dataframe\">\n",
              "  <thead>\n",
              "    <tr style=\"text-align: right;\">\n",
              "      <th></th>\n",
              "      <th>A</th>\n",
              "      <th>B</th>\n",
              "      <th>C</th>\n",
              "      <th>D</th>\n",
              "    </tr>\n",
              "  </thead>\n",
              "  <tbody>\n",
              "    <tr>\n",
              "      <th>0</th>\n",
              "      <td>1.2</td>\n",
              "      <td>2.0</td>\n",
              "      <td>3.0</td>\n",
              "      <td>4.0</td>\n",
              "    </tr>\n",
              "    <tr>\n",
              "      <th>1</th>\n",
              "      <td>5.0</td>\n",
              "      <td>6.0</td>\n",
              "      <td>7.5</td>\n",
              "      <td>8.0</td>\n",
              "    </tr>\n",
              "    <tr>\n",
              "      <th>2</th>\n",
              "      <td>10.0</td>\n",
              "      <td>11.0</td>\n",
              "      <td>12.0</td>\n",
              "      <td>6.0</td>\n",
              "    </tr>\n",
              "  </tbody>\n",
              "</table>\n",
              "</div>\n",
              "      <button class=\"colab-df-convert\" onclick=\"convertToInteractive('df-1013f360-90f0-4eb3-abd2-a13f79d5ba6e')\"\n",
              "              title=\"Convert this dataframe to an interactive table.\"\n",
              "              style=\"display:none;\">\n",
              "        \n",
              "  <svg xmlns=\"http://www.w3.org/2000/svg\" height=\"24px\"viewBox=\"0 0 24 24\"\n",
              "       width=\"24px\">\n",
              "    <path d=\"M0 0h24v24H0V0z\" fill=\"none\"/>\n",
              "    <path d=\"M18.56 5.44l.94 2.06.94-2.06 2.06-.94-2.06-.94-.94-2.06-.94 2.06-2.06.94zm-11 1L8.5 8.5l.94-2.06 2.06-.94-2.06-.94L8.5 2.5l-.94 2.06-2.06.94zm10 10l.94 2.06.94-2.06 2.06-.94-2.06-.94-.94-2.06-.94 2.06-2.06.94z\"/><path d=\"M17.41 7.96l-1.37-1.37c-.4-.4-.92-.59-1.43-.59-.52 0-1.04.2-1.43.59L10.3 9.45l-7.72 7.72c-.78.78-.78 2.05 0 2.83L4 21.41c.39.39.9.59 1.41.59.51 0 1.02-.2 1.41-.59l7.78-7.78 2.81-2.81c.8-.78.8-2.07 0-2.86zM5.41 20L4 18.59l7.72-7.72 1.47 1.35L5.41 20z\"/>\n",
              "  </svg>\n",
              "      </button>\n",
              "      \n",
              "  <style>\n",
              "    .colab-df-container {\n",
              "      display:flex;\n",
              "      flex-wrap:wrap;\n",
              "      gap: 12px;\n",
              "    }\n",
              "\n",
              "    .colab-df-convert {\n",
              "      background-color: #E8F0FE;\n",
              "      border: none;\n",
              "      border-radius: 50%;\n",
              "      cursor: pointer;\n",
              "      display: none;\n",
              "      fill: #1967D2;\n",
              "      height: 32px;\n",
              "      padding: 0 0 0 0;\n",
              "      width: 32px;\n",
              "    }\n",
              "\n",
              "    .colab-df-convert:hover {\n",
              "      background-color: #E2EBFA;\n",
              "      box-shadow: 0px 1px 2px rgba(60, 64, 67, 0.3), 0px 1px 3px 1px rgba(60, 64, 67, 0.15);\n",
              "      fill: #174EA6;\n",
              "    }\n",
              "\n",
              "    [theme=dark] .colab-df-convert {\n",
              "      background-color: #3B4455;\n",
              "      fill: #D2E3FC;\n",
              "    }\n",
              "\n",
              "    [theme=dark] .colab-df-convert:hover {\n",
              "      background-color: #434B5C;\n",
              "      box-shadow: 0px 1px 3px 1px rgba(0, 0, 0, 0.15);\n",
              "      filter: drop-shadow(0px 1px 2px rgba(0, 0, 0, 0.3));\n",
              "      fill: #FFFFFF;\n",
              "    }\n",
              "  </style>\n",
              "\n",
              "      <script>\n",
              "        const buttonEl =\n",
              "          document.querySelector('#df-1013f360-90f0-4eb3-abd2-a13f79d5ba6e button.colab-df-convert');\n",
              "        buttonEl.style.display =\n",
              "          google.colab.kernel.accessAllowed ? 'block' : 'none';\n",
              "\n",
              "        async function convertToInteractive(key) {\n",
              "          const element = document.querySelector('#df-1013f360-90f0-4eb3-abd2-a13f79d5ba6e');\n",
              "          const dataTable =\n",
              "            await google.colab.kernel.invokeFunction('convertToInteractive',\n",
              "                                                     [key], {});\n",
              "          if (!dataTable) return;\n",
              "\n",
              "          const docLinkHtml = 'Like what you see? Visit the ' +\n",
              "            '<a target=\"_blank\" href=https://colab.research.google.com/notebooks/data_table.ipynb>data table notebook</a>'\n",
              "            + ' to learn more about interactive tables.';\n",
              "          element.innerHTML = '';\n",
              "          dataTable['output_type'] = 'display_data';\n",
              "          await google.colab.output.renderOutput(dataTable, element);\n",
              "          const docLink = document.createElement('div');\n",
              "          docLink.innerHTML = docLinkHtml;\n",
              "          element.appendChild(docLink);\n",
              "        }\n",
              "      </script>\n",
              "    </div>\n",
              "  </div>\n",
              "  "
            ],
            "text/plain": [
              "      A     B     C    D\n",
              "0   1.2   2.0   3.0  4.0\n",
              "1   5.0   6.0   7.5  8.0\n",
              "2  10.0  11.0  12.0  6.0"
            ]
          },
          "metadata": {},
          "execution_count": 9
        }
      ]
    },
    {
      "cell_type": "markdown",
      "source": [
        "### 사이킷런 추정기 API 익히기\n",
        "\n",
        "SimpleImputer 클래스는 데이터 변환에 사용되는 사이킷런의 변환기 (transformer) 클래스이다. 이런 추정기의 주요 메서드 두개는 fit, tranform \n",
        "\n",
        "- fit: 훈련 데이터에서 모델 파라미터 학습\n",
        "- transform:  학습한 파라미터로 데이터를 변환-> 변환하려는 데이터 배열은 모델 학습에 사용한 데이터의 특성 개수와 같아야 한다. \n",
        "\n"
      ],
      "metadata": {
        "id": "BV-bFDg3qsF6"
      }
    },
    {
      "cell_type": "code",
      "source": [
        "from IPython.display import Image\n",
        "Image(url='https://git.io/Jtmwv', width=400) "
      ],
      "metadata": {
        "colab": {
          "base_uri": "https://localhost:8080/",
          "height": 274
        },
        "id": "CvybQdRPqRJt",
        "outputId": "f976e8bf-decf-4b1b-e148-947c7a245a63"
      },
      "execution_count": 10,
      "outputs": [
        {
          "output_type": "execute_result",
          "data": {
            "text/html": [
              "<img src=\"https://git.io/Jtmwv\" width=\"400\"/>"
            ],
            "text/plain": [
              "<IPython.core.display.Image object>"
            ]
          },
          "metadata": {},
          "execution_count": 10
        }
      ]
    },
    {
      "cell_type": "markdown",
      "source": [
        "3장에서 사용한 분류기는 변환기와 매우 유사한 사이킷런의 추정기이다.  predict 메서드가 있지만 transform 메서드도 가질수 있다. \n",
        "\n",
        "분류를 위한 추정기를 훈련할 때 fit메서드를 사용해서 모델의 파라미터를 학습.\n",
        "지도학습에서는 모델을 훈련할 때 추가적으로 클래스 레이블 제공. 그 다음 predict 메서드를 사용하여 레이블이 없는 새로운 데이터 샘플에 대한 예측 만들어 냄."
      ],
      "metadata": {
        "id": "gj2A1qyOrmeE"
      }
    },
    {
      "cell_type": "code",
      "source": [
        "Image(url='https://git.io/JtYZW', width=300) "
      ],
      "metadata": {
        "colab": {
          "base_uri": "https://localhost:8080/",
          "height": 368
        },
        "id": "aqYk07Z4sOK-",
        "outputId": "fe76c7cc-1eae-4e80-f215-89bf388ed08c"
      },
      "execution_count": 11,
      "outputs": [
        {
          "output_type": "execute_result",
          "data": {
            "text/html": [
              "<img src=\"https://git.io/JtYZW\" width=\"300\"/>"
            ],
            "text/plain": [
              "<IPython.core.display.Image object>"
            ]
          },
          "metadata": {},
          "execution_count": 11
        }
      ]
    },
    {
      "cell_type": "markdown",
      "source": [
        "## 범주형 데이터 다루기\n",
        "\n",
        "범주형 데이터에는 순서가 있는 데이터와 없는 데이터로 나뉘어진다. \n",
        "\n",
        "- 순서가 있는 데이터: ex) 티셔츠 사이즈 XL>L>M>S\n",
        "- 순서가 없는 데이터: ex) 티셔츠 색 \n"
      ],
      "metadata": {
        "id": "zpueYKzIsVra"
      }
    },
    {
      "cell_type": "markdown",
      "source": [
        "### 판다스를 사용한 범주형 데이터 인코딩\n",
        "\n"
      ],
      "metadata": {
        "id": "raZIz3PytCIX"
      }
    },
    {
      "cell_type": "code",
      "source": [
        "# 순서가 없는 특성과 특성이 있는 특성 , 수치형 특성이 있다.  \n",
        "# 책에서 다루는 분류 학습 알고리즘은 순서가 있는 클래스 레이블을 사용하지 않음\n",
        "\n",
        "import pandas as pd\n",
        "\n",
        "df = pd.DataFrame([['green', 'M', 10.1, 'class2'],\n",
        "                   ['red', 'L', 13.5, 'class1'],\n",
        "                   ['blue', 'XL', 15.3, 'class2']])\n",
        "\n",
        "df.columns = ['color', 'size', 'price', 'classlabel']\n",
        "df"
      ],
      "metadata": {
        "colab": {
          "base_uri": "https://localhost:8080/",
          "height": 143
        },
        "id": "o2J25hOzsQ5H",
        "outputId": "7a27e897-4753-4a87-9312-6a59db399c7b"
      },
      "execution_count": 30,
      "outputs": [
        {
          "output_type": "execute_result",
          "data": {
            "text/html": [
              "\n",
              "  <div id=\"df-70a6294f-83d4-4156-ab2f-fc4244b960d5\">\n",
              "    <div class=\"colab-df-container\">\n",
              "      <div>\n",
              "<style scoped>\n",
              "    .dataframe tbody tr th:only-of-type {\n",
              "        vertical-align: middle;\n",
              "    }\n",
              "\n",
              "    .dataframe tbody tr th {\n",
              "        vertical-align: top;\n",
              "    }\n",
              "\n",
              "    .dataframe thead th {\n",
              "        text-align: right;\n",
              "    }\n",
              "</style>\n",
              "<table border=\"1\" class=\"dataframe\">\n",
              "  <thead>\n",
              "    <tr style=\"text-align: right;\">\n",
              "      <th></th>\n",
              "      <th>color</th>\n",
              "      <th>size</th>\n",
              "      <th>price</th>\n",
              "      <th>classlabel</th>\n",
              "    </tr>\n",
              "  </thead>\n",
              "  <tbody>\n",
              "    <tr>\n",
              "      <th>0</th>\n",
              "      <td>green</td>\n",
              "      <td>M</td>\n",
              "      <td>10.1</td>\n",
              "      <td>class2</td>\n",
              "    </tr>\n",
              "    <tr>\n",
              "      <th>1</th>\n",
              "      <td>red</td>\n",
              "      <td>L</td>\n",
              "      <td>13.5</td>\n",
              "      <td>class1</td>\n",
              "    </tr>\n",
              "    <tr>\n",
              "      <th>2</th>\n",
              "      <td>blue</td>\n",
              "      <td>XL</td>\n",
              "      <td>15.3</td>\n",
              "      <td>class2</td>\n",
              "    </tr>\n",
              "  </tbody>\n",
              "</table>\n",
              "</div>\n",
              "      <button class=\"colab-df-convert\" onclick=\"convertToInteractive('df-70a6294f-83d4-4156-ab2f-fc4244b960d5')\"\n",
              "              title=\"Convert this dataframe to an interactive table.\"\n",
              "              style=\"display:none;\">\n",
              "        \n",
              "  <svg xmlns=\"http://www.w3.org/2000/svg\" height=\"24px\"viewBox=\"0 0 24 24\"\n",
              "       width=\"24px\">\n",
              "    <path d=\"M0 0h24v24H0V0z\" fill=\"none\"/>\n",
              "    <path d=\"M18.56 5.44l.94 2.06.94-2.06 2.06-.94-2.06-.94-.94-2.06-.94 2.06-2.06.94zm-11 1L8.5 8.5l.94-2.06 2.06-.94-2.06-.94L8.5 2.5l-.94 2.06-2.06.94zm10 10l.94 2.06.94-2.06 2.06-.94-2.06-.94-.94-2.06-.94 2.06-2.06.94z\"/><path d=\"M17.41 7.96l-1.37-1.37c-.4-.4-.92-.59-1.43-.59-.52 0-1.04.2-1.43.59L10.3 9.45l-7.72 7.72c-.78.78-.78 2.05 0 2.83L4 21.41c.39.39.9.59 1.41.59.51 0 1.02-.2 1.41-.59l7.78-7.78 2.81-2.81c.8-.78.8-2.07 0-2.86zM5.41 20L4 18.59l7.72-7.72 1.47 1.35L5.41 20z\"/>\n",
              "  </svg>\n",
              "      </button>\n",
              "      \n",
              "  <style>\n",
              "    .colab-df-container {\n",
              "      display:flex;\n",
              "      flex-wrap:wrap;\n",
              "      gap: 12px;\n",
              "    }\n",
              "\n",
              "    .colab-df-convert {\n",
              "      background-color: #E8F0FE;\n",
              "      border: none;\n",
              "      border-radius: 50%;\n",
              "      cursor: pointer;\n",
              "      display: none;\n",
              "      fill: #1967D2;\n",
              "      height: 32px;\n",
              "      padding: 0 0 0 0;\n",
              "      width: 32px;\n",
              "    }\n",
              "\n",
              "    .colab-df-convert:hover {\n",
              "      background-color: #E2EBFA;\n",
              "      box-shadow: 0px 1px 2px rgba(60, 64, 67, 0.3), 0px 1px 3px 1px rgba(60, 64, 67, 0.15);\n",
              "      fill: #174EA6;\n",
              "    }\n",
              "\n",
              "    [theme=dark] .colab-df-convert {\n",
              "      background-color: #3B4455;\n",
              "      fill: #D2E3FC;\n",
              "    }\n",
              "\n",
              "    [theme=dark] .colab-df-convert:hover {\n",
              "      background-color: #434B5C;\n",
              "      box-shadow: 0px 1px 3px 1px rgba(0, 0, 0, 0.15);\n",
              "      filter: drop-shadow(0px 1px 2px rgba(0, 0, 0, 0.3));\n",
              "      fill: #FFFFFF;\n",
              "    }\n",
              "  </style>\n",
              "\n",
              "      <script>\n",
              "        const buttonEl =\n",
              "          document.querySelector('#df-70a6294f-83d4-4156-ab2f-fc4244b960d5 button.colab-df-convert');\n",
              "        buttonEl.style.display =\n",
              "          google.colab.kernel.accessAllowed ? 'block' : 'none';\n",
              "\n",
              "        async function convertToInteractive(key) {\n",
              "          const element = document.querySelector('#df-70a6294f-83d4-4156-ab2f-fc4244b960d5');\n",
              "          const dataTable =\n",
              "            await google.colab.kernel.invokeFunction('convertToInteractive',\n",
              "                                                     [key], {});\n",
              "          if (!dataTable) return;\n",
              "\n",
              "          const docLinkHtml = 'Like what you see? Visit the ' +\n",
              "            '<a target=\"_blank\" href=https://colab.research.google.com/notebooks/data_table.ipynb>data table notebook</a>'\n",
              "            + ' to learn more about interactive tables.';\n",
              "          element.innerHTML = '';\n",
              "          dataTable['output_type'] = 'display_data';\n",
              "          await google.colab.output.renderOutput(dataTable, element);\n",
              "          const docLink = document.createElement('div');\n",
              "          docLink.innerHTML = docLinkHtml;\n",
              "          element.appendChild(docLink);\n",
              "        }\n",
              "      </script>\n",
              "    </div>\n",
              "  </div>\n",
              "  "
            ],
            "text/plain": [
              "   color size  price classlabel\n",
              "0  green    M   10.1     class2\n",
              "1    red    L   13.5     class1\n",
              "2   blue   XL   15.3     class2"
            ]
          },
          "metadata": {},
          "execution_count": 30
        }
      ]
    },
    {
      "cell_type": "markdown",
      "source": [
        "### 순서가 있는 특성 매핑\n",
        "\n",
        "순서 특성을 올바르게 인식하려면 범주형 문자열 값을 정수로 바꾸어야 한다. \n",
        "Size 특성의 순서를 올바르게 자동으로 바꾸어 조는 함수는 없기 때문에 매핑 함수를 직접 만들어 주어야 한다. \n",
        "\n",
        "`XL=L+1=M+2`"
      ],
      "metadata": {
        "id": "8t3RyyLZ_7pz"
      }
    },
    {
      "cell_type": "code",
      "source": [
        "size_mapping = {'XL': 3,\n",
        "                'L': 2,\n",
        "                'M': 1}\n",
        "\n",
        "df['size'] = df['size'].map(size_mapping)\n",
        "df"
      ],
      "metadata": {
        "id": "5yQip1Z7_rq1",
        "colab": {
          "base_uri": "https://localhost:8080/",
          "height": 143
        },
        "outputId": "820ee2e4-cb93-4bb8-8b33-1a402100de10"
      },
      "execution_count": 31,
      "outputs": [
        {
          "output_type": "execute_result",
          "data": {
            "text/html": [
              "\n",
              "  <div id=\"df-8e909ce6-0621-4228-90ed-730080761732\">\n",
              "    <div class=\"colab-df-container\">\n",
              "      <div>\n",
              "<style scoped>\n",
              "    .dataframe tbody tr th:only-of-type {\n",
              "        vertical-align: middle;\n",
              "    }\n",
              "\n",
              "    .dataframe tbody tr th {\n",
              "        vertical-align: top;\n",
              "    }\n",
              "\n",
              "    .dataframe thead th {\n",
              "        text-align: right;\n",
              "    }\n",
              "</style>\n",
              "<table border=\"1\" class=\"dataframe\">\n",
              "  <thead>\n",
              "    <tr style=\"text-align: right;\">\n",
              "      <th></th>\n",
              "      <th>color</th>\n",
              "      <th>size</th>\n",
              "      <th>price</th>\n",
              "      <th>classlabel</th>\n",
              "    </tr>\n",
              "  </thead>\n",
              "  <tbody>\n",
              "    <tr>\n",
              "      <th>0</th>\n",
              "      <td>green</td>\n",
              "      <td>1</td>\n",
              "      <td>10.1</td>\n",
              "      <td>class2</td>\n",
              "    </tr>\n",
              "    <tr>\n",
              "      <th>1</th>\n",
              "      <td>red</td>\n",
              "      <td>2</td>\n",
              "      <td>13.5</td>\n",
              "      <td>class1</td>\n",
              "    </tr>\n",
              "    <tr>\n",
              "      <th>2</th>\n",
              "      <td>blue</td>\n",
              "      <td>3</td>\n",
              "      <td>15.3</td>\n",
              "      <td>class2</td>\n",
              "    </tr>\n",
              "  </tbody>\n",
              "</table>\n",
              "</div>\n",
              "      <button class=\"colab-df-convert\" onclick=\"convertToInteractive('df-8e909ce6-0621-4228-90ed-730080761732')\"\n",
              "              title=\"Convert this dataframe to an interactive table.\"\n",
              "              style=\"display:none;\">\n",
              "        \n",
              "  <svg xmlns=\"http://www.w3.org/2000/svg\" height=\"24px\"viewBox=\"0 0 24 24\"\n",
              "       width=\"24px\">\n",
              "    <path d=\"M0 0h24v24H0V0z\" fill=\"none\"/>\n",
              "    <path d=\"M18.56 5.44l.94 2.06.94-2.06 2.06-.94-2.06-.94-.94-2.06-.94 2.06-2.06.94zm-11 1L8.5 8.5l.94-2.06 2.06-.94-2.06-.94L8.5 2.5l-.94 2.06-2.06.94zm10 10l.94 2.06.94-2.06 2.06-.94-2.06-.94-.94-2.06-.94 2.06-2.06.94z\"/><path d=\"M17.41 7.96l-1.37-1.37c-.4-.4-.92-.59-1.43-.59-.52 0-1.04.2-1.43.59L10.3 9.45l-7.72 7.72c-.78.78-.78 2.05 0 2.83L4 21.41c.39.39.9.59 1.41.59.51 0 1.02-.2 1.41-.59l7.78-7.78 2.81-2.81c.8-.78.8-2.07 0-2.86zM5.41 20L4 18.59l7.72-7.72 1.47 1.35L5.41 20z\"/>\n",
              "  </svg>\n",
              "      </button>\n",
              "      \n",
              "  <style>\n",
              "    .colab-df-container {\n",
              "      display:flex;\n",
              "      flex-wrap:wrap;\n",
              "      gap: 12px;\n",
              "    }\n",
              "\n",
              "    .colab-df-convert {\n",
              "      background-color: #E8F0FE;\n",
              "      border: none;\n",
              "      border-radius: 50%;\n",
              "      cursor: pointer;\n",
              "      display: none;\n",
              "      fill: #1967D2;\n",
              "      height: 32px;\n",
              "      padding: 0 0 0 0;\n",
              "      width: 32px;\n",
              "    }\n",
              "\n",
              "    .colab-df-convert:hover {\n",
              "      background-color: #E2EBFA;\n",
              "      box-shadow: 0px 1px 2px rgba(60, 64, 67, 0.3), 0px 1px 3px 1px rgba(60, 64, 67, 0.15);\n",
              "      fill: #174EA6;\n",
              "    }\n",
              "\n",
              "    [theme=dark] .colab-df-convert {\n",
              "      background-color: #3B4455;\n",
              "      fill: #D2E3FC;\n",
              "    }\n",
              "\n",
              "    [theme=dark] .colab-df-convert:hover {\n",
              "      background-color: #434B5C;\n",
              "      box-shadow: 0px 1px 3px 1px rgba(0, 0, 0, 0.15);\n",
              "      filter: drop-shadow(0px 1px 2px rgba(0, 0, 0, 0.3));\n",
              "      fill: #FFFFFF;\n",
              "    }\n",
              "  </style>\n",
              "\n",
              "      <script>\n",
              "        const buttonEl =\n",
              "          document.querySelector('#df-8e909ce6-0621-4228-90ed-730080761732 button.colab-df-convert');\n",
              "        buttonEl.style.display =\n",
              "          google.colab.kernel.accessAllowed ? 'block' : 'none';\n",
              "\n",
              "        async function convertToInteractive(key) {\n",
              "          const element = document.querySelector('#df-8e909ce6-0621-4228-90ed-730080761732');\n",
              "          const dataTable =\n",
              "            await google.colab.kernel.invokeFunction('convertToInteractive',\n",
              "                                                     [key], {});\n",
              "          if (!dataTable) return;\n",
              "\n",
              "          const docLinkHtml = 'Like what you see? Visit the ' +\n",
              "            '<a target=\"_blank\" href=https://colab.research.google.com/notebooks/data_table.ipynb>data table notebook</a>'\n",
              "            + ' to learn more about interactive tables.';\n",
              "          element.innerHTML = '';\n",
              "          dataTable['output_type'] = 'display_data';\n",
              "          await google.colab.output.renderOutput(dataTable, element);\n",
              "          const docLink = document.createElement('div');\n",
              "          docLink.innerHTML = docLinkHtml;\n",
              "          element.appendChild(docLink);\n",
              "        }\n",
              "      </script>\n",
              "    </div>\n",
              "  </div>\n",
              "  "
            ],
            "text/plain": [
              "   color  size  price classlabel\n",
              "0  green     1   10.1     class2\n",
              "1    red     2   13.5     class1\n",
              "2   blue     3   15.3     class2"
            ]
          },
          "metadata": {},
          "execution_count": 31
        }
      ]
    },
    {
      "cell_type": "code",
      "source": [
        "df['size']=df['size'].map(size_mapping)\n",
        "df"
      ],
      "metadata": {
        "colab": {
          "base_uri": "https://localhost:8080/",
          "height": 143
        },
        "id": "goC5ncSS13CY",
        "outputId": "6a393876-9b34-4cc5-f131-7135ff2e1e9f"
      },
      "execution_count": 32,
      "outputs": [
        {
          "output_type": "execute_result",
          "data": {
            "text/html": [
              "\n",
              "  <div id=\"df-5465a524-a97b-47ce-a6d8-784414459707\">\n",
              "    <div class=\"colab-df-container\">\n",
              "      <div>\n",
              "<style scoped>\n",
              "    .dataframe tbody tr th:only-of-type {\n",
              "        vertical-align: middle;\n",
              "    }\n",
              "\n",
              "    .dataframe tbody tr th {\n",
              "        vertical-align: top;\n",
              "    }\n",
              "\n",
              "    .dataframe thead th {\n",
              "        text-align: right;\n",
              "    }\n",
              "</style>\n",
              "<table border=\"1\" class=\"dataframe\">\n",
              "  <thead>\n",
              "    <tr style=\"text-align: right;\">\n",
              "      <th></th>\n",
              "      <th>color</th>\n",
              "      <th>size</th>\n",
              "      <th>price</th>\n",
              "      <th>classlabel</th>\n",
              "    </tr>\n",
              "  </thead>\n",
              "  <tbody>\n",
              "    <tr>\n",
              "      <th>0</th>\n",
              "      <td>green</td>\n",
              "      <td>NaN</td>\n",
              "      <td>10.1</td>\n",
              "      <td>class2</td>\n",
              "    </tr>\n",
              "    <tr>\n",
              "      <th>1</th>\n",
              "      <td>red</td>\n",
              "      <td>NaN</td>\n",
              "      <td>13.5</td>\n",
              "      <td>class1</td>\n",
              "    </tr>\n",
              "    <tr>\n",
              "      <th>2</th>\n",
              "      <td>blue</td>\n",
              "      <td>NaN</td>\n",
              "      <td>15.3</td>\n",
              "      <td>class2</td>\n",
              "    </tr>\n",
              "  </tbody>\n",
              "</table>\n",
              "</div>\n",
              "      <button class=\"colab-df-convert\" onclick=\"convertToInteractive('df-5465a524-a97b-47ce-a6d8-784414459707')\"\n",
              "              title=\"Convert this dataframe to an interactive table.\"\n",
              "              style=\"display:none;\">\n",
              "        \n",
              "  <svg xmlns=\"http://www.w3.org/2000/svg\" height=\"24px\"viewBox=\"0 0 24 24\"\n",
              "       width=\"24px\">\n",
              "    <path d=\"M0 0h24v24H0V0z\" fill=\"none\"/>\n",
              "    <path d=\"M18.56 5.44l.94 2.06.94-2.06 2.06-.94-2.06-.94-.94-2.06-.94 2.06-2.06.94zm-11 1L8.5 8.5l.94-2.06 2.06-.94-2.06-.94L8.5 2.5l-.94 2.06-2.06.94zm10 10l.94 2.06.94-2.06 2.06-.94-2.06-.94-.94-2.06-.94 2.06-2.06.94z\"/><path d=\"M17.41 7.96l-1.37-1.37c-.4-.4-.92-.59-1.43-.59-.52 0-1.04.2-1.43.59L10.3 9.45l-7.72 7.72c-.78.78-.78 2.05 0 2.83L4 21.41c.39.39.9.59 1.41.59.51 0 1.02-.2 1.41-.59l7.78-7.78 2.81-2.81c.8-.78.8-2.07 0-2.86zM5.41 20L4 18.59l7.72-7.72 1.47 1.35L5.41 20z\"/>\n",
              "  </svg>\n",
              "      </button>\n",
              "      \n",
              "  <style>\n",
              "    .colab-df-container {\n",
              "      display:flex;\n",
              "      flex-wrap:wrap;\n",
              "      gap: 12px;\n",
              "    }\n",
              "\n",
              "    .colab-df-convert {\n",
              "      background-color: #E8F0FE;\n",
              "      border: none;\n",
              "      border-radius: 50%;\n",
              "      cursor: pointer;\n",
              "      display: none;\n",
              "      fill: #1967D2;\n",
              "      height: 32px;\n",
              "      padding: 0 0 0 0;\n",
              "      width: 32px;\n",
              "    }\n",
              "\n",
              "    .colab-df-convert:hover {\n",
              "      background-color: #E2EBFA;\n",
              "      box-shadow: 0px 1px 2px rgba(60, 64, 67, 0.3), 0px 1px 3px 1px rgba(60, 64, 67, 0.15);\n",
              "      fill: #174EA6;\n",
              "    }\n",
              "\n",
              "    [theme=dark] .colab-df-convert {\n",
              "      background-color: #3B4455;\n",
              "      fill: #D2E3FC;\n",
              "    }\n",
              "\n",
              "    [theme=dark] .colab-df-convert:hover {\n",
              "      background-color: #434B5C;\n",
              "      box-shadow: 0px 1px 3px 1px rgba(0, 0, 0, 0.15);\n",
              "      filter: drop-shadow(0px 1px 2px rgba(0, 0, 0, 0.3));\n",
              "      fill: #FFFFFF;\n",
              "    }\n",
              "  </style>\n",
              "\n",
              "      <script>\n",
              "        const buttonEl =\n",
              "          document.querySelector('#df-5465a524-a97b-47ce-a6d8-784414459707 button.colab-df-convert');\n",
              "        buttonEl.style.display =\n",
              "          google.colab.kernel.accessAllowed ? 'block' : 'none';\n",
              "\n",
              "        async function convertToInteractive(key) {\n",
              "          const element = document.querySelector('#df-5465a524-a97b-47ce-a6d8-784414459707');\n",
              "          const dataTable =\n",
              "            await google.colab.kernel.invokeFunction('convertToInteractive',\n",
              "                                                     [key], {});\n",
              "          if (!dataTable) return;\n",
              "\n",
              "          const docLinkHtml = 'Like what you see? Visit the ' +\n",
              "            '<a target=\"_blank\" href=https://colab.research.google.com/notebooks/data_table.ipynb>data table notebook</a>'\n",
              "            + ' to learn more about interactive tables.';\n",
              "          element.innerHTML = '';\n",
              "          dataTable['output_type'] = 'display_data';\n",
              "          await google.colab.output.renderOutput(dataTable, element);\n",
              "          const docLink = document.createElement('div');\n",
              "          docLink.innerHTML = docLinkHtml;\n",
              "          element.appendChild(docLink);\n",
              "        }\n",
              "      </script>\n",
              "    </div>\n",
              "  </div>\n",
              "  "
            ],
            "text/plain": [
              "   color  size  price classlabel\n",
              "0  green   NaN   10.1     class2\n",
              "1    red   NaN   13.5     class1\n",
              "2   blue   NaN   15.3     class2"
            ]
          },
          "metadata": {},
          "execution_count": 32
        }
      ]
    },
    {
      "cell_type": "code",
      "source": [
        "inv_size_mapping = {v: k for k, v in size_mapping.items()}\n",
        "df['size'].map(inv_size_mapping)"
      ],
      "metadata": {
        "colab": {
          "base_uri": "https://localhost:8080/"
        },
        "id": "jodjioHq19a8",
        "outputId": "96dc3706-9660-41f1-f897-e30341c7843e"
      },
      "execution_count": 33,
      "outputs": [
        {
          "output_type": "execute_result",
          "data": {
            "text/plain": [
              "0    NaN\n",
              "1    NaN\n",
              "2    NaN\n",
              "Name: size, dtype: object"
            ]
          },
          "metadata": {},
          "execution_count": 33
        }
      ]
    },
    {
      "cell_type": "markdown",
      "source": [
        "### 클래스 레이블 인코딩\n",
        "\n",
        "사이킷런의 분류 추정기 대부분은 자체적으로 클래스 레이블을 정수로 변환해 주지만 사소한 실수를 방지하기 위해 클래스 레이블을 정수 배열로 전달해 주는것이 좋은 습관이다. \n",
        "\n",
        "특정 문자열 레이블에 할당된 정수는 아무런 의미가 없다. enumerate를 사용하여 클래스 레이블을 0부터 할당한다."
      ],
      "metadata": {
        "id": "zliEN4IE2OFb"
      }
    },
    {
      "cell_type": "code",
      "source": [
        "import numpy as np\n",
        "class_mapping= {label: idx for idx,label in enumerate(np.unique(df['classlabel']))}\n",
        "class_mapping"
      ],
      "metadata": {
        "colab": {
          "base_uri": "https://localhost:8080/"
        },
        "id": "JkTNSBMq2Me5",
        "outputId": "3be3ffa8-bfda-4889-f565-efb2f91cd48c"
      },
      "execution_count": 34,
      "outputs": [
        {
          "output_type": "execute_result",
          "data": {
            "text/plain": [
              "{'class1': 0, 'class2': 1}"
            ]
          },
          "metadata": {},
          "execution_count": 34
        }
      ]
    },
    {
      "cell_type": "code",
      "source": [
        "# 클래스 레이블을 문자열에서 정수로 바꿉니다\n",
        "df['classlabel'] = df['classlabel'].map(class_mapping)\n",
        "df"
      ],
      "metadata": {
        "colab": {
          "base_uri": "https://localhost:8080/",
          "height": 143
        },
        "id": "xbhEjVCc2xMD",
        "outputId": "dc5c6f05-5cc4-4be1-b4ad-b4686b7f0a50"
      },
      "execution_count": 35,
      "outputs": [
        {
          "output_type": "execute_result",
          "data": {
            "text/html": [
              "\n",
              "  <div id=\"df-cee02f5e-7b49-460f-807b-546ad45a6d43\">\n",
              "    <div class=\"colab-df-container\">\n",
              "      <div>\n",
              "<style scoped>\n",
              "    .dataframe tbody tr th:only-of-type {\n",
              "        vertical-align: middle;\n",
              "    }\n",
              "\n",
              "    .dataframe tbody tr th {\n",
              "        vertical-align: top;\n",
              "    }\n",
              "\n",
              "    .dataframe thead th {\n",
              "        text-align: right;\n",
              "    }\n",
              "</style>\n",
              "<table border=\"1\" class=\"dataframe\">\n",
              "  <thead>\n",
              "    <tr style=\"text-align: right;\">\n",
              "      <th></th>\n",
              "      <th>color</th>\n",
              "      <th>size</th>\n",
              "      <th>price</th>\n",
              "      <th>classlabel</th>\n",
              "    </tr>\n",
              "  </thead>\n",
              "  <tbody>\n",
              "    <tr>\n",
              "      <th>0</th>\n",
              "      <td>green</td>\n",
              "      <td>NaN</td>\n",
              "      <td>10.1</td>\n",
              "      <td>1</td>\n",
              "    </tr>\n",
              "    <tr>\n",
              "      <th>1</th>\n",
              "      <td>red</td>\n",
              "      <td>NaN</td>\n",
              "      <td>13.5</td>\n",
              "      <td>0</td>\n",
              "    </tr>\n",
              "    <tr>\n",
              "      <th>2</th>\n",
              "      <td>blue</td>\n",
              "      <td>NaN</td>\n",
              "      <td>15.3</td>\n",
              "      <td>1</td>\n",
              "    </tr>\n",
              "  </tbody>\n",
              "</table>\n",
              "</div>\n",
              "      <button class=\"colab-df-convert\" onclick=\"convertToInteractive('df-cee02f5e-7b49-460f-807b-546ad45a6d43')\"\n",
              "              title=\"Convert this dataframe to an interactive table.\"\n",
              "              style=\"display:none;\">\n",
              "        \n",
              "  <svg xmlns=\"http://www.w3.org/2000/svg\" height=\"24px\"viewBox=\"0 0 24 24\"\n",
              "       width=\"24px\">\n",
              "    <path d=\"M0 0h24v24H0V0z\" fill=\"none\"/>\n",
              "    <path d=\"M18.56 5.44l.94 2.06.94-2.06 2.06-.94-2.06-.94-.94-2.06-.94 2.06-2.06.94zm-11 1L8.5 8.5l.94-2.06 2.06-.94-2.06-.94L8.5 2.5l-.94 2.06-2.06.94zm10 10l.94 2.06.94-2.06 2.06-.94-2.06-.94-.94-2.06-.94 2.06-2.06.94z\"/><path d=\"M17.41 7.96l-1.37-1.37c-.4-.4-.92-.59-1.43-.59-.52 0-1.04.2-1.43.59L10.3 9.45l-7.72 7.72c-.78.78-.78 2.05 0 2.83L4 21.41c.39.39.9.59 1.41.59.51 0 1.02-.2 1.41-.59l7.78-7.78 2.81-2.81c.8-.78.8-2.07 0-2.86zM5.41 20L4 18.59l7.72-7.72 1.47 1.35L5.41 20z\"/>\n",
              "  </svg>\n",
              "      </button>\n",
              "      \n",
              "  <style>\n",
              "    .colab-df-container {\n",
              "      display:flex;\n",
              "      flex-wrap:wrap;\n",
              "      gap: 12px;\n",
              "    }\n",
              "\n",
              "    .colab-df-convert {\n",
              "      background-color: #E8F0FE;\n",
              "      border: none;\n",
              "      border-radius: 50%;\n",
              "      cursor: pointer;\n",
              "      display: none;\n",
              "      fill: #1967D2;\n",
              "      height: 32px;\n",
              "      padding: 0 0 0 0;\n",
              "      width: 32px;\n",
              "    }\n",
              "\n",
              "    .colab-df-convert:hover {\n",
              "      background-color: #E2EBFA;\n",
              "      box-shadow: 0px 1px 2px rgba(60, 64, 67, 0.3), 0px 1px 3px 1px rgba(60, 64, 67, 0.15);\n",
              "      fill: #174EA6;\n",
              "    }\n",
              "\n",
              "    [theme=dark] .colab-df-convert {\n",
              "      background-color: #3B4455;\n",
              "      fill: #D2E3FC;\n",
              "    }\n",
              "\n",
              "    [theme=dark] .colab-df-convert:hover {\n",
              "      background-color: #434B5C;\n",
              "      box-shadow: 0px 1px 3px 1px rgba(0, 0, 0, 0.15);\n",
              "      filter: drop-shadow(0px 1px 2px rgba(0, 0, 0, 0.3));\n",
              "      fill: #FFFFFF;\n",
              "    }\n",
              "  </style>\n",
              "\n",
              "      <script>\n",
              "        const buttonEl =\n",
              "          document.querySelector('#df-cee02f5e-7b49-460f-807b-546ad45a6d43 button.colab-df-convert');\n",
              "        buttonEl.style.display =\n",
              "          google.colab.kernel.accessAllowed ? 'block' : 'none';\n",
              "\n",
              "        async function convertToInteractive(key) {\n",
              "          const element = document.querySelector('#df-cee02f5e-7b49-460f-807b-546ad45a6d43');\n",
              "          const dataTable =\n",
              "            await google.colab.kernel.invokeFunction('convertToInteractive',\n",
              "                                                     [key], {});\n",
              "          if (!dataTable) return;\n",
              "\n",
              "          const docLinkHtml = 'Like what you see? Visit the ' +\n",
              "            '<a target=\"_blank\" href=https://colab.research.google.com/notebooks/data_table.ipynb>data table notebook</a>'\n",
              "            + ' to learn more about interactive tables.';\n",
              "          element.innerHTML = '';\n",
              "          dataTable['output_type'] = 'display_data';\n",
              "          await google.colab.output.renderOutput(dataTable, element);\n",
              "          const docLink = document.createElement('div');\n",
              "          docLink.innerHTML = docLinkHtml;\n",
              "          element.appendChild(docLink);\n",
              "        }\n",
              "      </script>\n",
              "    </div>\n",
              "  </div>\n",
              "  "
            ],
            "text/plain": [
              "   color  size  price  classlabel\n",
              "0  green   NaN   10.1           1\n",
              "1    red   NaN   13.5           0\n",
              "2   blue   NaN   15.3           1"
            ]
          },
          "metadata": {},
          "execution_count": 35
        }
      ]
    },
    {
      "cell_type": "code",
      "source": [
        "# 클래스 레이블을 거꾸로 매핑합니다\n",
        "inv_class_mapping = {v: k for k, v in class_mapping.items()}\n",
        "df['classlabel'] = df['classlabel'].map(inv_class_mapping)\n",
        "df\n"
      ],
      "metadata": {
        "colab": {
          "base_uri": "https://localhost:8080/",
          "height": 143
        },
        "id": "OE6NhIkj2-f0",
        "outputId": "a6ae6111-d2a3-4108-a0e1-595cceee799e"
      },
      "execution_count": 36,
      "outputs": [
        {
          "output_type": "execute_result",
          "data": {
            "text/html": [
              "\n",
              "  <div id=\"df-5f8fca49-347d-4cf2-95be-85c5b6f7cdb0\">\n",
              "    <div class=\"colab-df-container\">\n",
              "      <div>\n",
              "<style scoped>\n",
              "    .dataframe tbody tr th:only-of-type {\n",
              "        vertical-align: middle;\n",
              "    }\n",
              "\n",
              "    .dataframe tbody tr th {\n",
              "        vertical-align: top;\n",
              "    }\n",
              "\n",
              "    .dataframe thead th {\n",
              "        text-align: right;\n",
              "    }\n",
              "</style>\n",
              "<table border=\"1\" class=\"dataframe\">\n",
              "  <thead>\n",
              "    <tr style=\"text-align: right;\">\n",
              "      <th></th>\n",
              "      <th>color</th>\n",
              "      <th>size</th>\n",
              "      <th>price</th>\n",
              "      <th>classlabel</th>\n",
              "    </tr>\n",
              "  </thead>\n",
              "  <tbody>\n",
              "    <tr>\n",
              "      <th>0</th>\n",
              "      <td>green</td>\n",
              "      <td>NaN</td>\n",
              "      <td>10.1</td>\n",
              "      <td>class2</td>\n",
              "    </tr>\n",
              "    <tr>\n",
              "      <th>1</th>\n",
              "      <td>red</td>\n",
              "      <td>NaN</td>\n",
              "      <td>13.5</td>\n",
              "      <td>class1</td>\n",
              "    </tr>\n",
              "    <tr>\n",
              "      <th>2</th>\n",
              "      <td>blue</td>\n",
              "      <td>NaN</td>\n",
              "      <td>15.3</td>\n",
              "      <td>class2</td>\n",
              "    </tr>\n",
              "  </tbody>\n",
              "</table>\n",
              "</div>\n",
              "      <button class=\"colab-df-convert\" onclick=\"convertToInteractive('df-5f8fca49-347d-4cf2-95be-85c5b6f7cdb0')\"\n",
              "              title=\"Convert this dataframe to an interactive table.\"\n",
              "              style=\"display:none;\">\n",
              "        \n",
              "  <svg xmlns=\"http://www.w3.org/2000/svg\" height=\"24px\"viewBox=\"0 0 24 24\"\n",
              "       width=\"24px\">\n",
              "    <path d=\"M0 0h24v24H0V0z\" fill=\"none\"/>\n",
              "    <path d=\"M18.56 5.44l.94 2.06.94-2.06 2.06-.94-2.06-.94-.94-2.06-.94 2.06-2.06.94zm-11 1L8.5 8.5l.94-2.06 2.06-.94-2.06-.94L8.5 2.5l-.94 2.06-2.06.94zm10 10l.94 2.06.94-2.06 2.06-.94-2.06-.94-.94-2.06-.94 2.06-2.06.94z\"/><path d=\"M17.41 7.96l-1.37-1.37c-.4-.4-.92-.59-1.43-.59-.52 0-1.04.2-1.43.59L10.3 9.45l-7.72 7.72c-.78.78-.78 2.05 0 2.83L4 21.41c.39.39.9.59 1.41.59.51 0 1.02-.2 1.41-.59l7.78-7.78 2.81-2.81c.8-.78.8-2.07 0-2.86zM5.41 20L4 18.59l7.72-7.72 1.47 1.35L5.41 20z\"/>\n",
              "  </svg>\n",
              "      </button>\n",
              "      \n",
              "  <style>\n",
              "    .colab-df-container {\n",
              "      display:flex;\n",
              "      flex-wrap:wrap;\n",
              "      gap: 12px;\n",
              "    }\n",
              "\n",
              "    .colab-df-convert {\n",
              "      background-color: #E8F0FE;\n",
              "      border: none;\n",
              "      border-radius: 50%;\n",
              "      cursor: pointer;\n",
              "      display: none;\n",
              "      fill: #1967D2;\n",
              "      height: 32px;\n",
              "      padding: 0 0 0 0;\n",
              "      width: 32px;\n",
              "    }\n",
              "\n",
              "    .colab-df-convert:hover {\n",
              "      background-color: #E2EBFA;\n",
              "      box-shadow: 0px 1px 2px rgba(60, 64, 67, 0.3), 0px 1px 3px 1px rgba(60, 64, 67, 0.15);\n",
              "      fill: #174EA6;\n",
              "    }\n",
              "\n",
              "    [theme=dark] .colab-df-convert {\n",
              "      background-color: #3B4455;\n",
              "      fill: #D2E3FC;\n",
              "    }\n",
              "\n",
              "    [theme=dark] .colab-df-convert:hover {\n",
              "      background-color: #434B5C;\n",
              "      box-shadow: 0px 1px 3px 1px rgba(0, 0, 0, 0.15);\n",
              "      filter: drop-shadow(0px 1px 2px rgba(0, 0, 0, 0.3));\n",
              "      fill: #FFFFFF;\n",
              "    }\n",
              "  </style>\n",
              "\n",
              "      <script>\n",
              "        const buttonEl =\n",
              "          document.querySelector('#df-5f8fca49-347d-4cf2-95be-85c5b6f7cdb0 button.colab-df-convert');\n",
              "        buttonEl.style.display =\n",
              "          google.colab.kernel.accessAllowed ? 'block' : 'none';\n",
              "\n",
              "        async function convertToInteractive(key) {\n",
              "          const element = document.querySelector('#df-5f8fca49-347d-4cf2-95be-85c5b6f7cdb0');\n",
              "          const dataTable =\n",
              "            await google.colab.kernel.invokeFunction('convertToInteractive',\n",
              "                                                     [key], {});\n",
              "          if (!dataTable) return;\n",
              "\n",
              "          const docLinkHtml = 'Like what you see? Visit the ' +\n",
              "            '<a target=\"_blank\" href=https://colab.research.google.com/notebooks/data_table.ipynb>data table notebook</a>'\n",
              "            + ' to learn more about interactive tables.';\n",
              "          element.innerHTML = '';\n",
              "          dataTable['output_type'] = 'display_data';\n",
              "          await google.colab.output.renderOutput(dataTable, element);\n",
              "          const docLink = document.createElement('div');\n",
              "          docLink.innerHTML = docLinkHtml;\n",
              "          element.appendChild(docLink);\n",
              "        }\n",
              "      </script>\n",
              "    </div>\n",
              "  </div>\n",
              "  "
            ],
            "text/plain": [
              "   color  size  price classlabel\n",
              "0  green   NaN   10.1     class2\n",
              "1    red   NaN   13.5     class1\n",
              "2   blue   NaN   15.3     class2"
            ]
          },
          "metadata": {},
          "execution_count": 36
        }
      ]
    },
    {
      "cell_type": "markdown",
      "source": [
        "### 순서가 없는 특성에 원-핫 인코딩 적용\n",
        "\n",
        "LabelEncoder를 사용하여 간편하게 문자열 레이블을 정수로 인코딩한다. "
      ],
      "metadata": {
        "id": "1JAvvaVG4Y8G"
      }
    },
    {
      "cell_type": "code",
      "source": [
        "from sklearn.preprocessing import LabelEncoder\n",
        "\n",
        "# 사이킷런의 LabelEncoder을 사용한 레이블 인코딩\n",
        "class_le = LabelEncoder()\n",
        "y = class_le.fit_transform(df['classlabel'].values)\n",
        "y"
      ],
      "metadata": {
        "colab": {
          "base_uri": "https://localhost:8080/"
        },
        "id": "2XMOoQjr4Ruo",
        "outputId": "30546b8d-75cf-4b1a-c8ba-bced04c46d2d"
      },
      "execution_count": 37,
      "outputs": [
        {
          "output_type": "execute_result",
          "data": {
            "text/plain": [
              "array([1, 0, 1])"
            ]
          },
          "metadata": {},
          "execution_count": 37
        }
      ]
    },
    {
      "cell_type": "code",
      "source": [
        "# 거꾸로 매핑\n",
        "class_le.inverse_transform(y)"
      ],
      "metadata": {
        "colab": {
          "base_uri": "https://localhost:8080/"
        },
        "id": "ozntE3J14UMe",
        "outputId": "c0030be6-c68b-4c1b-a862-b66c9e02487c"
      },
      "execution_count": 38,
      "outputs": [
        {
          "output_type": "execute_result",
          "data": {
            "text/plain": [
              "array(['class2', 'class1', 'class2'], dtype=object)"
            ]
          },
          "metadata": {},
          "execution_count": 38
        }
      ]
    },
    {
      "cell_type": "code",
      "source": [
        "class_le.classes_"
      ],
      "metadata": {
        "colab": {
          "base_uri": "https://localhost:8080/"
        },
        "id": "FcCfc2zo4VyH",
        "outputId": "58527542-50ec-4de2-90a8-bc54315f7611"
      },
      "execution_count": 39,
      "outputs": [
        {
          "output_type": "execute_result",
          "data": {
            "text/plain": [
              "array(['class1', 'class2'], dtype=object)"
            ]
          },
          "metadata": {},
          "execution_count": 39
        }
      ]
    },
    {
      "cell_type": "code",
      "source": [
        "X = df[['color', 'size', 'price']].values\n",
        "color_le = LabelEncoder()\n",
        "X[:, 0] = color_le.fit_transform(X[:, 0])\n",
        "X"
      ],
      "metadata": {
        "colab": {
          "base_uri": "https://localhost:8080/"
        },
        "id": "BD0zDwyZ4Xdp",
        "outputId": "d87c8e71-4105-4d11-80ac-1975d483833a"
      },
      "execution_count": 40,
      "outputs": [
        {
          "output_type": "execute_result",
          "data": {
            "text/plain": [
              "array([[1, nan, 10.1],\n",
              "       [2, nan, 13.5],\n",
              "       [0, nan, 15.3]], dtype=object)"
            ]
          },
          "metadata": {},
          "execution_count": 40
        }
      ]
    },
    {
      "cell_type": "code",
      "source": [
        "from sklearn.compose import ColumnTransformer\n",
        "from sklearn.preprocessing import OrdinalEncoder\n",
        "\n",
        "ord_enc = OrdinalEncoder(dtype=int)\n",
        "col_trans = ColumnTransformer([('ord_enc', ord_enc, ['color'])])\n",
        "X_trans = col_trans.fit_transform(df)\n",
        "X_trans"
      ],
      "metadata": {
        "colab": {
          "base_uri": "https://localhost:8080/"
        },
        "id": "WD82xHa74qcS",
        "outputId": "c4ca675e-d13f-4c88-c979-bc28d0c524ed"
      },
      "execution_count": 41,
      "outputs": [
        {
          "output_type": "execute_result",
          "data": {
            "text/plain": [
              "array([[1],\n",
              "       [2],\n",
              "       [0]])"
            ]
          },
          "metadata": {},
          "execution_count": 41
        }
      ]
    },
    {
      "cell_type": "code",
      "source": [
        "col_trans.named_transformers_['ord_enc'].inverse_transform(X_trans)"
      ],
      "metadata": {
        "colab": {
          "base_uri": "https://localhost:8080/"
        },
        "id": "t0M31AP54ubK",
        "outputId": "59d0efd5-a94a-4b65-a4a1-c1b4783b42d7"
      },
      "execution_count": 42,
      "outputs": [
        {
          "output_type": "execute_result",
          "data": {
            "text/plain": [
              "array([['green'],\n",
              "       ['red'],\n",
              "       ['blue']], dtype=object)"
            ]
          },
          "metadata": {},
          "execution_count": 42
        }
      ]
    },
    {
      "cell_type": "code",
      "source": [
        "from sklearn.preprocessing import OneHotEncoder\n",
        "\n",
        "X = df[['color', 'size', 'price']].values\n",
        "color_ohe = OneHotEncoder()\n",
        "color_ohe.fit_transform(X[:, 0].reshape(-1, 1)).toarray()"
      ],
      "metadata": {
        "colab": {
          "base_uri": "https://localhost:8080/"
        },
        "id": "pzfG6LJI4wDs",
        "outputId": "55c4900d-3e80-4d32-90c7-32d803f122ea"
      },
      "execution_count": 43,
      "outputs": [
        {
          "output_type": "execute_result",
          "data": {
            "text/plain": [
              "array([[0., 1., 0.],\n",
              "       [0., 0., 1.],\n",
              "       [1., 0., 0.]])"
            ]
          },
          "metadata": {},
          "execution_count": 43
        }
      ]
    },
    {
      "cell_type": "code",
      "source": [
        "from sklearn.compose import ColumnTransformer\n",
        "\n",
        "X = df[['color', 'size', 'price']].values\n",
        "c_transf = ColumnTransformer([ ('onehot', OneHotEncoder(), [0]),\n",
        "                               ('nothing', 'passthrough', [1, 2])])\n",
        "c_transf.fit_transform(X)"
      ],
      "metadata": {
        "colab": {
          "base_uri": "https://localhost:8080/"
        },
        "id": "BJqLVej04xlV",
        "outputId": "9da80972-755b-4276-cd2d-4500e2bf2102"
      },
      "execution_count": 44,
      "outputs": [
        {
          "output_type": "execute_result",
          "data": {
            "text/plain": [
              "array([[0.0, 1.0, 0.0, nan, 10.1],\n",
              "       [0.0, 0.0, 1.0, nan, 13.5],\n",
              "       [1.0, 0.0, 0.0, nan, 15.3]], dtype=object)"
            ]
          },
          "metadata": {},
          "execution_count": 44
        }
      ]
    },
    {
      "cell_type": "code",
      "source": [
        "c_transf = ColumnTransformer([ ('onehot', OneHotEncoder(dtype=int), [0]),\n",
        "                               ('nothing', 'passthrough', [1, 2])])\n",
        "c_transf.fit_transform(X)"
      ],
      "metadata": {
        "colab": {
          "base_uri": "https://localhost:8080/"
        },
        "id": "cpc9y7wx4zZW",
        "outputId": "11b268ad-f501-4685-fb1a-0a23c0d326f0"
      },
      "execution_count": 45,
      "outputs": [
        {
          "output_type": "execute_result",
          "data": {
            "text/plain": [
              "array([[0, 1, 0, nan, 10.1],\n",
              "       [0, 0, 1, nan, 13.5],\n",
              "       [1, 0, 0, nan, 15.3]], dtype=object)"
            ]
          },
          "metadata": {},
          "execution_count": 45
        }
      ]
    },
    {
      "cell_type": "code",
      "source": [
        "# 원-핫 인코딩 via 판다스\n",
        "pd.get_dummies(df[['price', 'color', 'size']])"
      ],
      "metadata": {
        "colab": {
          "base_uri": "https://localhost:8080/",
          "height": 143
        },
        "id": "69FC6rej41pQ",
        "outputId": "bd7fa2fe-5005-40f2-c244-b90ed805c071"
      },
      "execution_count": 46,
      "outputs": [
        {
          "output_type": "execute_result",
          "data": {
            "text/html": [
              "\n",
              "  <div id=\"df-e4d975ea-7d89-4f06-9a06-c0ce9a1d759f\">\n",
              "    <div class=\"colab-df-container\">\n",
              "      <div>\n",
              "<style scoped>\n",
              "    .dataframe tbody tr th:only-of-type {\n",
              "        vertical-align: middle;\n",
              "    }\n",
              "\n",
              "    .dataframe tbody tr th {\n",
              "        vertical-align: top;\n",
              "    }\n",
              "\n",
              "    .dataframe thead th {\n",
              "        text-align: right;\n",
              "    }\n",
              "</style>\n",
              "<table border=\"1\" class=\"dataframe\">\n",
              "  <thead>\n",
              "    <tr style=\"text-align: right;\">\n",
              "      <th></th>\n",
              "      <th>price</th>\n",
              "      <th>size</th>\n",
              "      <th>color_blue</th>\n",
              "      <th>color_green</th>\n",
              "      <th>color_red</th>\n",
              "    </tr>\n",
              "  </thead>\n",
              "  <tbody>\n",
              "    <tr>\n",
              "      <th>0</th>\n",
              "      <td>10.1</td>\n",
              "      <td>NaN</td>\n",
              "      <td>0</td>\n",
              "      <td>1</td>\n",
              "      <td>0</td>\n",
              "    </tr>\n",
              "    <tr>\n",
              "      <th>1</th>\n",
              "      <td>13.5</td>\n",
              "      <td>NaN</td>\n",
              "      <td>0</td>\n",
              "      <td>0</td>\n",
              "      <td>1</td>\n",
              "    </tr>\n",
              "    <tr>\n",
              "      <th>2</th>\n",
              "      <td>15.3</td>\n",
              "      <td>NaN</td>\n",
              "      <td>1</td>\n",
              "      <td>0</td>\n",
              "      <td>0</td>\n",
              "    </tr>\n",
              "  </tbody>\n",
              "</table>\n",
              "</div>\n",
              "      <button class=\"colab-df-convert\" onclick=\"convertToInteractive('df-e4d975ea-7d89-4f06-9a06-c0ce9a1d759f')\"\n",
              "              title=\"Convert this dataframe to an interactive table.\"\n",
              "              style=\"display:none;\">\n",
              "        \n",
              "  <svg xmlns=\"http://www.w3.org/2000/svg\" height=\"24px\"viewBox=\"0 0 24 24\"\n",
              "       width=\"24px\">\n",
              "    <path d=\"M0 0h24v24H0V0z\" fill=\"none\"/>\n",
              "    <path d=\"M18.56 5.44l.94 2.06.94-2.06 2.06-.94-2.06-.94-.94-2.06-.94 2.06-2.06.94zm-11 1L8.5 8.5l.94-2.06 2.06-.94-2.06-.94L8.5 2.5l-.94 2.06-2.06.94zm10 10l.94 2.06.94-2.06 2.06-.94-2.06-.94-.94-2.06-.94 2.06-2.06.94z\"/><path d=\"M17.41 7.96l-1.37-1.37c-.4-.4-.92-.59-1.43-.59-.52 0-1.04.2-1.43.59L10.3 9.45l-7.72 7.72c-.78.78-.78 2.05 0 2.83L4 21.41c.39.39.9.59 1.41.59.51 0 1.02-.2 1.41-.59l7.78-7.78 2.81-2.81c.8-.78.8-2.07 0-2.86zM5.41 20L4 18.59l7.72-7.72 1.47 1.35L5.41 20z\"/>\n",
              "  </svg>\n",
              "      </button>\n",
              "      \n",
              "  <style>\n",
              "    .colab-df-container {\n",
              "      display:flex;\n",
              "      flex-wrap:wrap;\n",
              "      gap: 12px;\n",
              "    }\n",
              "\n",
              "    .colab-df-convert {\n",
              "      background-color: #E8F0FE;\n",
              "      border: none;\n",
              "      border-radius: 50%;\n",
              "      cursor: pointer;\n",
              "      display: none;\n",
              "      fill: #1967D2;\n",
              "      height: 32px;\n",
              "      padding: 0 0 0 0;\n",
              "      width: 32px;\n",
              "    }\n",
              "\n",
              "    .colab-df-convert:hover {\n",
              "      background-color: #E2EBFA;\n",
              "      box-shadow: 0px 1px 2px rgba(60, 64, 67, 0.3), 0px 1px 3px 1px rgba(60, 64, 67, 0.15);\n",
              "      fill: #174EA6;\n",
              "    }\n",
              "\n",
              "    [theme=dark] .colab-df-convert {\n",
              "      background-color: #3B4455;\n",
              "      fill: #D2E3FC;\n",
              "    }\n",
              "\n",
              "    [theme=dark] .colab-df-convert:hover {\n",
              "      background-color: #434B5C;\n",
              "      box-shadow: 0px 1px 3px 1px rgba(0, 0, 0, 0.15);\n",
              "      filter: drop-shadow(0px 1px 2px rgba(0, 0, 0, 0.3));\n",
              "      fill: #FFFFFF;\n",
              "    }\n",
              "  </style>\n",
              "\n",
              "      <script>\n",
              "        const buttonEl =\n",
              "          document.querySelector('#df-e4d975ea-7d89-4f06-9a06-c0ce9a1d759f button.colab-df-convert');\n",
              "        buttonEl.style.display =\n",
              "          google.colab.kernel.accessAllowed ? 'block' : 'none';\n",
              "\n",
              "        async function convertToInteractive(key) {\n",
              "          const element = document.querySelector('#df-e4d975ea-7d89-4f06-9a06-c0ce9a1d759f');\n",
              "          const dataTable =\n",
              "            await google.colab.kernel.invokeFunction('convertToInteractive',\n",
              "                                                     [key], {});\n",
              "          if (!dataTable) return;\n",
              "\n",
              "          const docLinkHtml = 'Like what you see? Visit the ' +\n",
              "            '<a target=\"_blank\" href=https://colab.research.google.com/notebooks/data_table.ipynb>data table notebook</a>'\n",
              "            + ' to learn more about interactive tables.';\n",
              "          element.innerHTML = '';\n",
              "          dataTable['output_type'] = 'display_data';\n",
              "          await google.colab.output.renderOutput(dataTable, element);\n",
              "          const docLink = document.createElement('div');\n",
              "          docLink.innerHTML = docLinkHtml;\n",
              "          element.appendChild(docLink);\n",
              "        }\n",
              "      </script>\n",
              "    </div>\n",
              "  </div>\n",
              "  "
            ],
            "text/plain": [
              "   price  size  color_blue  color_green  color_red\n",
              "0   10.1   NaN           0            1          0\n",
              "1   13.5   NaN           0            0          1\n",
              "2   15.3   NaN           1            0          0"
            ]
          },
          "metadata": {},
          "execution_count": 46
        }
      ]
    },
    {
      "cell_type": "code",
      "source": [
        "pd.get_dummies(df[['price', 'color', 'size']], columns=['size'])"
      ],
      "metadata": {
        "colab": {
          "base_uri": "https://localhost:8080/",
          "height": 143
        },
        "id": "4B1K_pwP43WO",
        "outputId": "d2ced53c-4fc3-4e2f-dbb4-76a25a529fef"
      },
      "execution_count": 47,
      "outputs": [
        {
          "output_type": "execute_result",
          "data": {
            "text/html": [
              "\n",
              "  <div id=\"df-1923daf1-ae85-4559-9656-f24d425f8a5c\">\n",
              "    <div class=\"colab-df-container\">\n",
              "      <div>\n",
              "<style scoped>\n",
              "    .dataframe tbody tr th:only-of-type {\n",
              "        vertical-align: middle;\n",
              "    }\n",
              "\n",
              "    .dataframe tbody tr th {\n",
              "        vertical-align: top;\n",
              "    }\n",
              "\n",
              "    .dataframe thead th {\n",
              "        text-align: right;\n",
              "    }\n",
              "</style>\n",
              "<table border=\"1\" class=\"dataframe\">\n",
              "  <thead>\n",
              "    <tr style=\"text-align: right;\">\n",
              "      <th></th>\n",
              "      <th>price</th>\n",
              "      <th>color</th>\n",
              "    </tr>\n",
              "  </thead>\n",
              "  <tbody>\n",
              "    <tr>\n",
              "      <th>0</th>\n",
              "      <td>10.1</td>\n",
              "      <td>green</td>\n",
              "    </tr>\n",
              "    <tr>\n",
              "      <th>1</th>\n",
              "      <td>13.5</td>\n",
              "      <td>red</td>\n",
              "    </tr>\n",
              "    <tr>\n",
              "      <th>2</th>\n",
              "      <td>15.3</td>\n",
              "      <td>blue</td>\n",
              "    </tr>\n",
              "  </tbody>\n",
              "</table>\n",
              "</div>\n",
              "      <button class=\"colab-df-convert\" onclick=\"convertToInteractive('df-1923daf1-ae85-4559-9656-f24d425f8a5c')\"\n",
              "              title=\"Convert this dataframe to an interactive table.\"\n",
              "              style=\"display:none;\">\n",
              "        \n",
              "  <svg xmlns=\"http://www.w3.org/2000/svg\" height=\"24px\"viewBox=\"0 0 24 24\"\n",
              "       width=\"24px\">\n",
              "    <path d=\"M0 0h24v24H0V0z\" fill=\"none\"/>\n",
              "    <path d=\"M18.56 5.44l.94 2.06.94-2.06 2.06-.94-2.06-.94-.94-2.06-.94 2.06-2.06.94zm-11 1L8.5 8.5l.94-2.06 2.06-.94-2.06-.94L8.5 2.5l-.94 2.06-2.06.94zm10 10l.94 2.06.94-2.06 2.06-.94-2.06-.94-.94-2.06-.94 2.06-2.06.94z\"/><path d=\"M17.41 7.96l-1.37-1.37c-.4-.4-.92-.59-1.43-.59-.52 0-1.04.2-1.43.59L10.3 9.45l-7.72 7.72c-.78.78-.78 2.05 0 2.83L4 21.41c.39.39.9.59 1.41.59.51 0 1.02-.2 1.41-.59l7.78-7.78 2.81-2.81c.8-.78.8-2.07 0-2.86zM5.41 20L4 18.59l7.72-7.72 1.47 1.35L5.41 20z\"/>\n",
              "  </svg>\n",
              "      </button>\n",
              "      \n",
              "  <style>\n",
              "    .colab-df-container {\n",
              "      display:flex;\n",
              "      flex-wrap:wrap;\n",
              "      gap: 12px;\n",
              "    }\n",
              "\n",
              "    .colab-df-convert {\n",
              "      background-color: #E8F0FE;\n",
              "      border: none;\n",
              "      border-radius: 50%;\n",
              "      cursor: pointer;\n",
              "      display: none;\n",
              "      fill: #1967D2;\n",
              "      height: 32px;\n",
              "      padding: 0 0 0 0;\n",
              "      width: 32px;\n",
              "    }\n",
              "\n",
              "    .colab-df-convert:hover {\n",
              "      background-color: #E2EBFA;\n",
              "      box-shadow: 0px 1px 2px rgba(60, 64, 67, 0.3), 0px 1px 3px 1px rgba(60, 64, 67, 0.15);\n",
              "      fill: #174EA6;\n",
              "    }\n",
              "\n",
              "    [theme=dark] .colab-df-convert {\n",
              "      background-color: #3B4455;\n",
              "      fill: #D2E3FC;\n",
              "    }\n",
              "\n",
              "    [theme=dark] .colab-df-convert:hover {\n",
              "      background-color: #434B5C;\n",
              "      box-shadow: 0px 1px 3px 1px rgba(0, 0, 0, 0.15);\n",
              "      filter: drop-shadow(0px 1px 2px rgba(0, 0, 0, 0.3));\n",
              "      fill: #FFFFFF;\n",
              "    }\n",
              "  </style>\n",
              "\n",
              "      <script>\n",
              "        const buttonEl =\n",
              "          document.querySelector('#df-1923daf1-ae85-4559-9656-f24d425f8a5c button.colab-df-convert');\n",
              "        buttonEl.style.display =\n",
              "          google.colab.kernel.accessAllowed ? 'block' : 'none';\n",
              "\n",
              "        async function convertToInteractive(key) {\n",
              "          const element = document.querySelector('#df-1923daf1-ae85-4559-9656-f24d425f8a5c');\n",
              "          const dataTable =\n",
              "            await google.colab.kernel.invokeFunction('convertToInteractive',\n",
              "                                                     [key], {});\n",
              "          if (!dataTable) return;\n",
              "\n",
              "          const docLinkHtml = 'Like what you see? Visit the ' +\n",
              "            '<a target=\"_blank\" href=https://colab.research.google.com/notebooks/data_table.ipynb>data table notebook</a>'\n",
              "            + ' to learn more about interactive tables.';\n",
              "          element.innerHTML = '';\n",
              "          dataTable['output_type'] = 'display_data';\n",
              "          await google.colab.output.renderOutput(dataTable, element);\n",
              "          const docLink = document.createElement('div');\n",
              "          docLink.innerHTML = docLinkHtml;\n",
              "          element.appendChild(docLink);\n",
              "        }\n",
              "      </script>\n",
              "    </div>\n",
              "  </div>\n",
              "  "
            ],
            "text/plain": [
              "   price  color\n",
              "0   10.1  green\n",
              "1   13.5    red\n",
              "2   15.3   blue"
            ]
          },
          "metadata": {},
          "execution_count": 47
        }
      ]
    },
    {
      "cell_type": "code",
      "source": [
        "# get_dummies에서 다중 공선성 문제 처리\n",
        "pd.get_dummies(df[['price', 'color', 'size']], drop_first=True)"
      ],
      "metadata": {
        "colab": {
          "base_uri": "https://localhost:8080/",
          "height": 143
        },
        "id": "IxPAsUUd44_L",
        "outputId": "8369e54e-e2ad-4081-9ce6-d52e11d5edcd"
      },
      "execution_count": 48,
      "outputs": [
        {
          "output_type": "execute_result",
          "data": {
            "text/html": [
              "\n",
              "  <div id=\"df-078be5b6-6031-49f2-a4a0-8b60cf292613\">\n",
              "    <div class=\"colab-df-container\">\n",
              "      <div>\n",
              "<style scoped>\n",
              "    .dataframe tbody tr th:only-of-type {\n",
              "        vertical-align: middle;\n",
              "    }\n",
              "\n",
              "    .dataframe tbody tr th {\n",
              "        vertical-align: top;\n",
              "    }\n",
              "\n",
              "    .dataframe thead th {\n",
              "        text-align: right;\n",
              "    }\n",
              "</style>\n",
              "<table border=\"1\" class=\"dataframe\">\n",
              "  <thead>\n",
              "    <tr style=\"text-align: right;\">\n",
              "      <th></th>\n",
              "      <th>price</th>\n",
              "      <th>size</th>\n",
              "      <th>color_green</th>\n",
              "      <th>color_red</th>\n",
              "    </tr>\n",
              "  </thead>\n",
              "  <tbody>\n",
              "    <tr>\n",
              "      <th>0</th>\n",
              "      <td>10.1</td>\n",
              "      <td>NaN</td>\n",
              "      <td>1</td>\n",
              "      <td>0</td>\n",
              "    </tr>\n",
              "    <tr>\n",
              "      <th>1</th>\n",
              "      <td>13.5</td>\n",
              "      <td>NaN</td>\n",
              "      <td>0</td>\n",
              "      <td>1</td>\n",
              "    </tr>\n",
              "    <tr>\n",
              "      <th>2</th>\n",
              "      <td>15.3</td>\n",
              "      <td>NaN</td>\n",
              "      <td>0</td>\n",
              "      <td>0</td>\n",
              "    </tr>\n",
              "  </tbody>\n",
              "</table>\n",
              "</div>\n",
              "      <button class=\"colab-df-convert\" onclick=\"convertToInteractive('df-078be5b6-6031-49f2-a4a0-8b60cf292613')\"\n",
              "              title=\"Convert this dataframe to an interactive table.\"\n",
              "              style=\"display:none;\">\n",
              "        \n",
              "  <svg xmlns=\"http://www.w3.org/2000/svg\" height=\"24px\"viewBox=\"0 0 24 24\"\n",
              "       width=\"24px\">\n",
              "    <path d=\"M0 0h24v24H0V0z\" fill=\"none\"/>\n",
              "    <path d=\"M18.56 5.44l.94 2.06.94-2.06 2.06-.94-2.06-.94-.94-2.06-.94 2.06-2.06.94zm-11 1L8.5 8.5l.94-2.06 2.06-.94-2.06-.94L8.5 2.5l-.94 2.06-2.06.94zm10 10l.94 2.06.94-2.06 2.06-.94-2.06-.94-.94-2.06-.94 2.06-2.06.94z\"/><path d=\"M17.41 7.96l-1.37-1.37c-.4-.4-.92-.59-1.43-.59-.52 0-1.04.2-1.43.59L10.3 9.45l-7.72 7.72c-.78.78-.78 2.05 0 2.83L4 21.41c.39.39.9.59 1.41.59.51 0 1.02-.2 1.41-.59l7.78-7.78 2.81-2.81c.8-.78.8-2.07 0-2.86zM5.41 20L4 18.59l7.72-7.72 1.47 1.35L5.41 20z\"/>\n",
              "  </svg>\n",
              "      </button>\n",
              "      \n",
              "  <style>\n",
              "    .colab-df-container {\n",
              "      display:flex;\n",
              "      flex-wrap:wrap;\n",
              "      gap: 12px;\n",
              "    }\n",
              "\n",
              "    .colab-df-convert {\n",
              "      background-color: #E8F0FE;\n",
              "      border: none;\n",
              "      border-radius: 50%;\n",
              "      cursor: pointer;\n",
              "      display: none;\n",
              "      fill: #1967D2;\n",
              "      height: 32px;\n",
              "      padding: 0 0 0 0;\n",
              "      width: 32px;\n",
              "    }\n",
              "\n",
              "    .colab-df-convert:hover {\n",
              "      background-color: #E2EBFA;\n",
              "      box-shadow: 0px 1px 2px rgba(60, 64, 67, 0.3), 0px 1px 3px 1px rgba(60, 64, 67, 0.15);\n",
              "      fill: #174EA6;\n",
              "    }\n",
              "\n",
              "    [theme=dark] .colab-df-convert {\n",
              "      background-color: #3B4455;\n",
              "      fill: #D2E3FC;\n",
              "    }\n",
              "\n",
              "    [theme=dark] .colab-df-convert:hover {\n",
              "      background-color: #434B5C;\n",
              "      box-shadow: 0px 1px 3px 1px rgba(0, 0, 0, 0.15);\n",
              "      filter: drop-shadow(0px 1px 2px rgba(0, 0, 0, 0.3));\n",
              "      fill: #FFFFFF;\n",
              "    }\n",
              "  </style>\n",
              "\n",
              "      <script>\n",
              "        const buttonEl =\n",
              "          document.querySelector('#df-078be5b6-6031-49f2-a4a0-8b60cf292613 button.colab-df-convert');\n",
              "        buttonEl.style.display =\n",
              "          google.colab.kernel.accessAllowed ? 'block' : 'none';\n",
              "\n",
              "        async function convertToInteractive(key) {\n",
              "          const element = document.querySelector('#df-078be5b6-6031-49f2-a4a0-8b60cf292613');\n",
              "          const dataTable =\n",
              "            await google.colab.kernel.invokeFunction('convertToInteractive',\n",
              "                                                     [key], {});\n",
              "          if (!dataTable) return;\n",
              "\n",
              "          const docLinkHtml = 'Like what you see? Visit the ' +\n",
              "            '<a target=\"_blank\" href=https://colab.research.google.com/notebooks/data_table.ipynb>data table notebook</a>'\n",
              "            + ' to learn more about interactive tables.';\n",
              "          element.innerHTML = '';\n",
              "          dataTable['output_type'] = 'display_data';\n",
              "          await google.colab.output.renderOutput(dataTable, element);\n",
              "          const docLink = document.createElement('div');\n",
              "          docLink.innerHTML = docLinkHtml;\n",
              "          element.appendChild(docLink);\n",
              "        }\n",
              "      </script>\n",
              "    </div>\n",
              "  </div>\n",
              "  "
            ],
            "text/plain": [
              "   price  size  color_green  color_red\n",
              "0   10.1   NaN            1          0\n",
              "1   13.5   NaN            0          1\n",
              "2   15.3   NaN            0          0"
            ]
          },
          "metadata": {},
          "execution_count": 48
        }
      ]
    },
    {
      "cell_type": "code",
      "source": [
        "# OneHotEncoder에서 다중 공선성 문제 처리\n",
        "color_ohe = OneHotEncoder(categories='auto', drop='first')\n",
        "c_transf = ColumnTransformer([ ('onehot', color_ohe, [0]),\n",
        "                               ('nothing', 'passthrough', [1, 2])])\n",
        "c_transf.fit_transform(X)"
      ],
      "metadata": {
        "colab": {
          "base_uri": "https://localhost:8080/"
        },
        "id": "t-Qz-cEK468R",
        "outputId": "ae3fffb8-7cee-424d-9da0-f2ce4776d38c"
      },
      "execution_count": 49,
      "outputs": [
        {
          "output_type": "execute_result",
          "data": {
            "text/plain": [
              "array([[1.0, 0.0, nan, 10.1],\n",
              "       [0.0, 1.0, nan, 13.5],\n",
              "       [0.0, 0.0, nan, 15.3]], dtype=object)"
            ]
          },
          "metadata": {},
          "execution_count": 49
        }
      ]
    },
    {
      "cell_type": "code",
      "source": [
        "df = pd.DataFrame([['green', 'M', 10.1, 'class2'],\n",
        "                   ['red', 'L', 13.5, 'class1'],\n",
        "                   ['blue', 'XL', 15.3, 'class2']])\n",
        "\n",
        "df.columns = ['color', 'size', 'price', 'classlabel']\n",
        "df"
      ],
      "metadata": {
        "colab": {
          "base_uri": "https://localhost:8080/",
          "height": 143
        },
        "id": "Q6v2CQbP48cp",
        "outputId": "72811d21-21a8-4c24-8057-1a3a08618bba"
      },
      "execution_count": 50,
      "outputs": [
        {
          "output_type": "execute_result",
          "data": {
            "text/html": [
              "\n",
              "  <div id=\"df-4a9c0e7d-27ba-419e-8e9c-c4c268dd422c\">\n",
              "    <div class=\"colab-df-container\">\n",
              "      <div>\n",
              "<style scoped>\n",
              "    .dataframe tbody tr th:only-of-type {\n",
              "        vertical-align: middle;\n",
              "    }\n",
              "\n",
              "    .dataframe tbody tr th {\n",
              "        vertical-align: top;\n",
              "    }\n",
              "\n",
              "    .dataframe thead th {\n",
              "        text-align: right;\n",
              "    }\n",
              "</style>\n",
              "<table border=\"1\" class=\"dataframe\">\n",
              "  <thead>\n",
              "    <tr style=\"text-align: right;\">\n",
              "      <th></th>\n",
              "      <th>color</th>\n",
              "      <th>size</th>\n",
              "      <th>price</th>\n",
              "      <th>classlabel</th>\n",
              "    </tr>\n",
              "  </thead>\n",
              "  <tbody>\n",
              "    <tr>\n",
              "      <th>0</th>\n",
              "      <td>green</td>\n",
              "      <td>M</td>\n",
              "      <td>10.1</td>\n",
              "      <td>class2</td>\n",
              "    </tr>\n",
              "    <tr>\n",
              "      <th>1</th>\n",
              "      <td>red</td>\n",
              "      <td>L</td>\n",
              "      <td>13.5</td>\n",
              "      <td>class1</td>\n",
              "    </tr>\n",
              "    <tr>\n",
              "      <th>2</th>\n",
              "      <td>blue</td>\n",
              "      <td>XL</td>\n",
              "      <td>15.3</td>\n",
              "      <td>class2</td>\n",
              "    </tr>\n",
              "  </tbody>\n",
              "</table>\n",
              "</div>\n",
              "      <button class=\"colab-df-convert\" onclick=\"convertToInteractive('df-4a9c0e7d-27ba-419e-8e9c-c4c268dd422c')\"\n",
              "              title=\"Convert this dataframe to an interactive table.\"\n",
              "              style=\"display:none;\">\n",
              "        \n",
              "  <svg xmlns=\"http://www.w3.org/2000/svg\" height=\"24px\"viewBox=\"0 0 24 24\"\n",
              "       width=\"24px\">\n",
              "    <path d=\"M0 0h24v24H0V0z\" fill=\"none\"/>\n",
              "    <path d=\"M18.56 5.44l.94 2.06.94-2.06 2.06-.94-2.06-.94-.94-2.06-.94 2.06-2.06.94zm-11 1L8.5 8.5l.94-2.06 2.06-.94-2.06-.94L8.5 2.5l-.94 2.06-2.06.94zm10 10l.94 2.06.94-2.06 2.06-.94-2.06-.94-.94-2.06-.94 2.06-2.06.94z\"/><path d=\"M17.41 7.96l-1.37-1.37c-.4-.4-.92-.59-1.43-.59-.52 0-1.04.2-1.43.59L10.3 9.45l-7.72 7.72c-.78.78-.78 2.05 0 2.83L4 21.41c.39.39.9.59 1.41.59.51 0 1.02-.2 1.41-.59l7.78-7.78 2.81-2.81c.8-.78.8-2.07 0-2.86zM5.41 20L4 18.59l7.72-7.72 1.47 1.35L5.41 20z\"/>\n",
              "  </svg>\n",
              "      </button>\n",
              "      \n",
              "  <style>\n",
              "    .colab-df-container {\n",
              "      display:flex;\n",
              "      flex-wrap:wrap;\n",
              "      gap: 12px;\n",
              "    }\n",
              "\n",
              "    .colab-df-convert {\n",
              "      background-color: #E8F0FE;\n",
              "      border: none;\n",
              "      border-radius: 50%;\n",
              "      cursor: pointer;\n",
              "      display: none;\n",
              "      fill: #1967D2;\n",
              "      height: 32px;\n",
              "      padding: 0 0 0 0;\n",
              "      width: 32px;\n",
              "    }\n",
              "\n",
              "    .colab-df-convert:hover {\n",
              "      background-color: #E2EBFA;\n",
              "      box-shadow: 0px 1px 2px rgba(60, 64, 67, 0.3), 0px 1px 3px 1px rgba(60, 64, 67, 0.15);\n",
              "      fill: #174EA6;\n",
              "    }\n",
              "\n",
              "    [theme=dark] .colab-df-convert {\n",
              "      background-color: #3B4455;\n",
              "      fill: #D2E3FC;\n",
              "    }\n",
              "\n",
              "    [theme=dark] .colab-df-convert:hover {\n",
              "      background-color: #434B5C;\n",
              "      box-shadow: 0px 1px 3px 1px rgba(0, 0, 0, 0.15);\n",
              "      filter: drop-shadow(0px 1px 2px rgba(0, 0, 0, 0.3));\n",
              "      fill: #FFFFFF;\n",
              "    }\n",
              "  </style>\n",
              "\n",
              "      <script>\n",
              "        const buttonEl =\n",
              "          document.querySelector('#df-4a9c0e7d-27ba-419e-8e9c-c4c268dd422c button.colab-df-convert');\n",
              "        buttonEl.style.display =\n",
              "          google.colab.kernel.accessAllowed ? 'block' : 'none';\n",
              "\n",
              "        async function convertToInteractive(key) {\n",
              "          const element = document.querySelector('#df-4a9c0e7d-27ba-419e-8e9c-c4c268dd422c');\n",
              "          const dataTable =\n",
              "            await google.colab.kernel.invokeFunction('convertToInteractive',\n",
              "                                                     [key], {});\n",
              "          if (!dataTable) return;\n",
              "\n",
              "          const docLinkHtml = 'Like what you see? Visit the ' +\n",
              "            '<a target=\"_blank\" href=https://colab.research.google.com/notebooks/data_table.ipynb>data table notebook</a>'\n",
              "            + ' to learn more about interactive tables.';\n",
              "          element.innerHTML = '';\n",
              "          dataTable['output_type'] = 'display_data';\n",
              "          await google.colab.output.renderOutput(dataTable, element);\n",
              "          const docLink = document.createElement('div');\n",
              "          docLink.innerHTML = docLinkHtml;\n",
              "          element.appendChild(docLink);\n",
              "        }\n",
              "      </script>\n",
              "    </div>\n",
              "  </div>\n",
              "  "
            ],
            "text/plain": [
              "   color size  price classlabel\n",
              "0  green    M   10.1     class2\n",
              "1    red    L   13.5     class1\n",
              "2   blue   XL   15.3     class2"
            ]
          },
          "metadata": {},
          "execution_count": 50
        }
      ]
    },
    {
      "cell_type": "code",
      "source": [
        "df['x > M'] = df['size'].apply(lambda x: 1 if x in {'L', 'XL'} else 0)\n",
        "df['x > L'] = df['size'].apply(lambda x: 1 if x == 'XL' else 0)\n",
        "\n",
        "del df['size']\n",
        "df"
      ],
      "metadata": {
        "colab": {
          "base_uri": "https://localhost:8080/",
          "height": 143
        },
        "id": "olsXDmII5A-F",
        "outputId": "c54e4aac-12db-42e2-9716-0882a7bb3133"
      },
      "execution_count": 51,
      "outputs": [
        {
          "output_type": "execute_result",
          "data": {
            "text/html": [
              "\n",
              "  <div id=\"df-9bfc12c4-f25d-4da8-b5a0-19aa75fd0b56\">\n",
              "    <div class=\"colab-df-container\">\n",
              "      <div>\n",
              "<style scoped>\n",
              "    .dataframe tbody tr th:only-of-type {\n",
              "        vertical-align: middle;\n",
              "    }\n",
              "\n",
              "    .dataframe tbody tr th {\n",
              "        vertical-align: top;\n",
              "    }\n",
              "\n",
              "    .dataframe thead th {\n",
              "        text-align: right;\n",
              "    }\n",
              "</style>\n",
              "<table border=\"1\" class=\"dataframe\">\n",
              "  <thead>\n",
              "    <tr style=\"text-align: right;\">\n",
              "      <th></th>\n",
              "      <th>color</th>\n",
              "      <th>price</th>\n",
              "      <th>classlabel</th>\n",
              "      <th>x &gt; M</th>\n",
              "      <th>x &gt; L</th>\n",
              "    </tr>\n",
              "  </thead>\n",
              "  <tbody>\n",
              "    <tr>\n",
              "      <th>0</th>\n",
              "      <td>green</td>\n",
              "      <td>10.1</td>\n",
              "      <td>class2</td>\n",
              "      <td>0</td>\n",
              "      <td>0</td>\n",
              "    </tr>\n",
              "    <tr>\n",
              "      <th>1</th>\n",
              "      <td>red</td>\n",
              "      <td>13.5</td>\n",
              "      <td>class1</td>\n",
              "      <td>1</td>\n",
              "      <td>0</td>\n",
              "    </tr>\n",
              "    <tr>\n",
              "      <th>2</th>\n",
              "      <td>blue</td>\n",
              "      <td>15.3</td>\n",
              "      <td>class2</td>\n",
              "      <td>1</td>\n",
              "      <td>1</td>\n",
              "    </tr>\n",
              "  </tbody>\n",
              "</table>\n",
              "</div>\n",
              "      <button class=\"colab-df-convert\" onclick=\"convertToInteractive('df-9bfc12c4-f25d-4da8-b5a0-19aa75fd0b56')\"\n",
              "              title=\"Convert this dataframe to an interactive table.\"\n",
              "              style=\"display:none;\">\n",
              "        \n",
              "  <svg xmlns=\"http://www.w3.org/2000/svg\" height=\"24px\"viewBox=\"0 0 24 24\"\n",
              "       width=\"24px\">\n",
              "    <path d=\"M0 0h24v24H0V0z\" fill=\"none\"/>\n",
              "    <path d=\"M18.56 5.44l.94 2.06.94-2.06 2.06-.94-2.06-.94-.94-2.06-.94 2.06-2.06.94zm-11 1L8.5 8.5l.94-2.06 2.06-.94-2.06-.94L8.5 2.5l-.94 2.06-2.06.94zm10 10l.94 2.06.94-2.06 2.06-.94-2.06-.94-.94-2.06-.94 2.06-2.06.94z\"/><path d=\"M17.41 7.96l-1.37-1.37c-.4-.4-.92-.59-1.43-.59-.52 0-1.04.2-1.43.59L10.3 9.45l-7.72 7.72c-.78.78-.78 2.05 0 2.83L4 21.41c.39.39.9.59 1.41.59.51 0 1.02-.2 1.41-.59l7.78-7.78 2.81-2.81c.8-.78.8-2.07 0-2.86zM5.41 20L4 18.59l7.72-7.72 1.47 1.35L5.41 20z\"/>\n",
              "  </svg>\n",
              "      </button>\n",
              "      \n",
              "  <style>\n",
              "    .colab-df-container {\n",
              "      display:flex;\n",
              "      flex-wrap:wrap;\n",
              "      gap: 12px;\n",
              "    }\n",
              "\n",
              "    .colab-df-convert {\n",
              "      background-color: #E8F0FE;\n",
              "      border: none;\n",
              "      border-radius: 50%;\n",
              "      cursor: pointer;\n",
              "      display: none;\n",
              "      fill: #1967D2;\n",
              "      height: 32px;\n",
              "      padding: 0 0 0 0;\n",
              "      width: 32px;\n",
              "    }\n",
              "\n",
              "    .colab-df-convert:hover {\n",
              "      background-color: #E2EBFA;\n",
              "      box-shadow: 0px 1px 2px rgba(60, 64, 67, 0.3), 0px 1px 3px 1px rgba(60, 64, 67, 0.15);\n",
              "      fill: #174EA6;\n",
              "    }\n",
              "\n",
              "    [theme=dark] .colab-df-convert {\n",
              "      background-color: #3B4455;\n",
              "      fill: #D2E3FC;\n",
              "    }\n",
              "\n",
              "    [theme=dark] .colab-df-convert:hover {\n",
              "      background-color: #434B5C;\n",
              "      box-shadow: 0px 1px 3px 1px rgba(0, 0, 0, 0.15);\n",
              "      filter: drop-shadow(0px 1px 2px rgba(0, 0, 0, 0.3));\n",
              "      fill: #FFFFFF;\n",
              "    }\n",
              "  </style>\n",
              "\n",
              "      <script>\n",
              "        const buttonEl =\n",
              "          document.querySelector('#df-9bfc12c4-f25d-4da8-b5a0-19aa75fd0b56 button.colab-df-convert');\n",
              "        buttonEl.style.display =\n",
              "          google.colab.kernel.accessAllowed ? 'block' : 'none';\n",
              "\n",
              "        async function convertToInteractive(key) {\n",
              "          const element = document.querySelector('#df-9bfc12c4-f25d-4da8-b5a0-19aa75fd0b56');\n",
              "          const dataTable =\n",
              "            await google.colab.kernel.invokeFunction('convertToInteractive',\n",
              "                                                     [key], {});\n",
              "          if (!dataTable) return;\n",
              "\n",
              "          const docLinkHtml = 'Like what you see? Visit the ' +\n",
              "            '<a target=\"_blank\" href=https://colab.research.google.com/notebooks/data_table.ipynb>data table notebook</a>'\n",
              "            + ' to learn more about interactive tables.';\n",
              "          element.innerHTML = '';\n",
              "          dataTable['output_type'] = 'display_data';\n",
              "          await google.colab.output.renderOutput(dataTable, element);\n",
              "          const docLink = document.createElement('div');\n",
              "          docLink.innerHTML = docLinkHtml;\n",
              "          element.appendChild(docLink);\n",
              "        }\n",
              "      </script>\n",
              "    </div>\n",
              "  </div>\n",
              "  "
            ],
            "text/plain": [
              "   color  price classlabel  x > M  x > L\n",
              "0  green   10.1     class2      0      0\n",
              "1    red   13.5     class1      1      0\n",
              "2   blue   15.3     class2      1      1"
            ]
          },
          "metadata": {},
          "execution_count": 51
        }
      ]
    },
    {
      "cell_type": "markdown",
      "source": [
        "## 데이터셋 훈련 데이터셋과 데스트 데이터셋으로 나누기\n",
        "\n",
        "모델을 실전에 투입하기 전에 테스트 데이터셋에 있는 레이블과 예측을 비교한다.\n",
        "\n",
        "=> 이는 편향되지 않는 성능을 측저하기 위해서이다. \n",
        "\n"
      ],
      "metadata": {
        "id": "bvD-s7949UJx"
      }
    },
    {
      "cell_type": "code",
      "source": [
        "df_wine = pd.read_csv('https://archive.ics.uci.edu/'\n",
        "                      'ml/machine-learning-databases/wine/wine.data',\n",
        "                      header=None)\n",
        "\n",
        "# UCI 머신러닝 저장소의 Wine 데이터셋에 접근되지 않을 때\n",
        "# 다음 코드의 주석을 제거하고 로컬 경로에서 데이터셋을 읽으세요:\n",
        "\n",
        "# df_wine = pd.read_csv('wine.data', header=None)\n",
        "\n",
        "\n",
        "df_wine.columns = ['Class label', 'Alcohol', 'Malic acid', 'Ash',\n",
        "                   'Alcalinity of ash', 'Magnesium', 'Total phenols',\n",
        "                   'Flavanoids', 'Nonflavanoid phenols', 'Proanthocyanins',\n",
        "                   'Color intensity', 'Hue', 'OD280/OD315 of diluted wines',\n",
        "                   'Proline']\n",
        "\n",
        "print('Class labels', np.unique(df_wine['Class label']))\n",
        "df_wine.head()"
      ],
      "metadata": {
        "colab": {
          "base_uri": "https://localhost:8080/",
          "height": 323
        },
        "id": "u87WbpVI5Co3",
        "outputId": "fd92b6c9-748f-42ca-ea57-903736717408"
      },
      "execution_count": 52,
      "outputs": [
        {
          "output_type": "stream",
          "name": "stdout",
          "text": [
            "Class labels [1 2 3]\n"
          ]
        },
        {
          "output_type": "execute_result",
          "data": {
            "text/html": [
              "\n",
              "  <div id=\"df-6191af3b-e3ef-4aa3-bc93-82dfbfe13967\">\n",
              "    <div class=\"colab-df-container\">\n",
              "      <div>\n",
              "<style scoped>\n",
              "    .dataframe tbody tr th:only-of-type {\n",
              "        vertical-align: middle;\n",
              "    }\n",
              "\n",
              "    .dataframe tbody tr th {\n",
              "        vertical-align: top;\n",
              "    }\n",
              "\n",
              "    .dataframe thead th {\n",
              "        text-align: right;\n",
              "    }\n",
              "</style>\n",
              "<table border=\"1\" class=\"dataframe\">\n",
              "  <thead>\n",
              "    <tr style=\"text-align: right;\">\n",
              "      <th></th>\n",
              "      <th>Class label</th>\n",
              "      <th>Alcohol</th>\n",
              "      <th>Malic acid</th>\n",
              "      <th>Ash</th>\n",
              "      <th>Alcalinity of ash</th>\n",
              "      <th>Magnesium</th>\n",
              "      <th>Total phenols</th>\n",
              "      <th>Flavanoids</th>\n",
              "      <th>Nonflavanoid phenols</th>\n",
              "      <th>Proanthocyanins</th>\n",
              "      <th>Color intensity</th>\n",
              "      <th>Hue</th>\n",
              "      <th>OD280/OD315 of diluted wines</th>\n",
              "      <th>Proline</th>\n",
              "    </tr>\n",
              "  </thead>\n",
              "  <tbody>\n",
              "    <tr>\n",
              "      <th>0</th>\n",
              "      <td>1</td>\n",
              "      <td>14.23</td>\n",
              "      <td>1.71</td>\n",
              "      <td>2.43</td>\n",
              "      <td>15.6</td>\n",
              "      <td>127</td>\n",
              "      <td>2.80</td>\n",
              "      <td>3.06</td>\n",
              "      <td>0.28</td>\n",
              "      <td>2.29</td>\n",
              "      <td>5.64</td>\n",
              "      <td>1.04</td>\n",
              "      <td>3.92</td>\n",
              "      <td>1065</td>\n",
              "    </tr>\n",
              "    <tr>\n",
              "      <th>1</th>\n",
              "      <td>1</td>\n",
              "      <td>13.20</td>\n",
              "      <td>1.78</td>\n",
              "      <td>2.14</td>\n",
              "      <td>11.2</td>\n",
              "      <td>100</td>\n",
              "      <td>2.65</td>\n",
              "      <td>2.76</td>\n",
              "      <td>0.26</td>\n",
              "      <td>1.28</td>\n",
              "      <td>4.38</td>\n",
              "      <td>1.05</td>\n",
              "      <td>3.40</td>\n",
              "      <td>1050</td>\n",
              "    </tr>\n",
              "    <tr>\n",
              "      <th>2</th>\n",
              "      <td>1</td>\n",
              "      <td>13.16</td>\n",
              "      <td>2.36</td>\n",
              "      <td>2.67</td>\n",
              "      <td>18.6</td>\n",
              "      <td>101</td>\n",
              "      <td>2.80</td>\n",
              "      <td>3.24</td>\n",
              "      <td>0.30</td>\n",
              "      <td>2.81</td>\n",
              "      <td>5.68</td>\n",
              "      <td>1.03</td>\n",
              "      <td>3.17</td>\n",
              "      <td>1185</td>\n",
              "    </tr>\n",
              "    <tr>\n",
              "      <th>3</th>\n",
              "      <td>1</td>\n",
              "      <td>14.37</td>\n",
              "      <td>1.95</td>\n",
              "      <td>2.50</td>\n",
              "      <td>16.8</td>\n",
              "      <td>113</td>\n",
              "      <td>3.85</td>\n",
              "      <td>3.49</td>\n",
              "      <td>0.24</td>\n",
              "      <td>2.18</td>\n",
              "      <td>7.80</td>\n",
              "      <td>0.86</td>\n",
              "      <td>3.45</td>\n",
              "      <td>1480</td>\n",
              "    </tr>\n",
              "    <tr>\n",
              "      <th>4</th>\n",
              "      <td>1</td>\n",
              "      <td>13.24</td>\n",
              "      <td>2.59</td>\n",
              "      <td>2.87</td>\n",
              "      <td>21.0</td>\n",
              "      <td>118</td>\n",
              "      <td>2.80</td>\n",
              "      <td>2.69</td>\n",
              "      <td>0.39</td>\n",
              "      <td>1.82</td>\n",
              "      <td>4.32</td>\n",
              "      <td>1.04</td>\n",
              "      <td>2.93</td>\n",
              "      <td>735</td>\n",
              "    </tr>\n",
              "  </tbody>\n",
              "</table>\n",
              "</div>\n",
              "      <button class=\"colab-df-convert\" onclick=\"convertToInteractive('df-6191af3b-e3ef-4aa3-bc93-82dfbfe13967')\"\n",
              "              title=\"Convert this dataframe to an interactive table.\"\n",
              "              style=\"display:none;\">\n",
              "        \n",
              "  <svg xmlns=\"http://www.w3.org/2000/svg\" height=\"24px\"viewBox=\"0 0 24 24\"\n",
              "       width=\"24px\">\n",
              "    <path d=\"M0 0h24v24H0V0z\" fill=\"none\"/>\n",
              "    <path d=\"M18.56 5.44l.94 2.06.94-2.06 2.06-.94-2.06-.94-.94-2.06-.94 2.06-2.06.94zm-11 1L8.5 8.5l.94-2.06 2.06-.94-2.06-.94L8.5 2.5l-.94 2.06-2.06.94zm10 10l.94 2.06.94-2.06 2.06-.94-2.06-.94-.94-2.06-.94 2.06-2.06.94z\"/><path d=\"M17.41 7.96l-1.37-1.37c-.4-.4-.92-.59-1.43-.59-.52 0-1.04.2-1.43.59L10.3 9.45l-7.72 7.72c-.78.78-.78 2.05 0 2.83L4 21.41c.39.39.9.59 1.41.59.51 0 1.02-.2 1.41-.59l7.78-7.78 2.81-2.81c.8-.78.8-2.07 0-2.86zM5.41 20L4 18.59l7.72-7.72 1.47 1.35L5.41 20z\"/>\n",
              "  </svg>\n",
              "      </button>\n",
              "      \n",
              "  <style>\n",
              "    .colab-df-container {\n",
              "      display:flex;\n",
              "      flex-wrap:wrap;\n",
              "      gap: 12px;\n",
              "    }\n",
              "\n",
              "    .colab-df-convert {\n",
              "      background-color: #E8F0FE;\n",
              "      border: none;\n",
              "      border-radius: 50%;\n",
              "      cursor: pointer;\n",
              "      display: none;\n",
              "      fill: #1967D2;\n",
              "      height: 32px;\n",
              "      padding: 0 0 0 0;\n",
              "      width: 32px;\n",
              "    }\n",
              "\n",
              "    .colab-df-convert:hover {\n",
              "      background-color: #E2EBFA;\n",
              "      box-shadow: 0px 1px 2px rgba(60, 64, 67, 0.3), 0px 1px 3px 1px rgba(60, 64, 67, 0.15);\n",
              "      fill: #174EA6;\n",
              "    }\n",
              "\n",
              "    [theme=dark] .colab-df-convert {\n",
              "      background-color: #3B4455;\n",
              "      fill: #D2E3FC;\n",
              "    }\n",
              "\n",
              "    [theme=dark] .colab-df-convert:hover {\n",
              "      background-color: #434B5C;\n",
              "      box-shadow: 0px 1px 3px 1px rgba(0, 0, 0, 0.15);\n",
              "      filter: drop-shadow(0px 1px 2px rgba(0, 0, 0, 0.3));\n",
              "      fill: #FFFFFF;\n",
              "    }\n",
              "  </style>\n",
              "\n",
              "      <script>\n",
              "        const buttonEl =\n",
              "          document.querySelector('#df-6191af3b-e3ef-4aa3-bc93-82dfbfe13967 button.colab-df-convert');\n",
              "        buttonEl.style.display =\n",
              "          google.colab.kernel.accessAllowed ? 'block' : 'none';\n",
              "\n",
              "        async function convertToInteractive(key) {\n",
              "          const element = document.querySelector('#df-6191af3b-e3ef-4aa3-bc93-82dfbfe13967');\n",
              "          const dataTable =\n",
              "            await google.colab.kernel.invokeFunction('convertToInteractive',\n",
              "                                                     [key], {});\n",
              "          if (!dataTable) return;\n",
              "\n",
              "          const docLinkHtml = 'Like what you see? Visit the ' +\n",
              "            '<a target=\"_blank\" href=https://colab.research.google.com/notebooks/data_table.ipynb>data table notebook</a>'\n",
              "            + ' to learn more about interactive tables.';\n",
              "          element.innerHTML = '';\n",
              "          dataTable['output_type'] = 'display_data';\n",
              "          await google.colab.output.renderOutput(dataTable, element);\n",
              "          const docLink = document.createElement('div');\n",
              "          docLink.innerHTML = docLinkHtml;\n",
              "          element.appendChild(docLink);\n",
              "        }\n",
              "      </script>\n",
              "    </div>\n",
              "  </div>\n",
              "  "
            ],
            "text/plain": [
              "   Class label  Alcohol  ...  OD280/OD315 of diluted wines  Proline\n",
              "0            1    14.23  ...                          3.92     1065\n",
              "1            1    13.20  ...                          3.40     1050\n",
              "2            1    13.16  ...                          3.17     1185\n",
              "3            1    14.37  ...                          3.45     1480\n",
              "4            1    13.24  ...                          2.93      735\n",
              "\n",
              "[5 rows x 14 columns]"
            ]
          },
          "metadata": {},
          "execution_count": 52
        }
      ]
    },
    {
      "cell_type": "markdown",
      "source": [
        "사이킷런의 model_selection 모듈에 있는 train_test_split 함수를 사용하면 가장 간편하게 데이터셋을 랜덤한 훈련 데이터셋과 테스트 데이터셋으로 나눌 수 있다. "
      ],
      "metadata": {
        "id": "j4eQ-Xhj_qP3"
      }
    },
    {
      "cell_type": "code",
      "source": [
        "from sklearn.model_selection import train_test_split\n",
        "X, y = df_wine.iloc[:, 1:].values, df_wine.iloc[:, 0].values\n",
        "\n",
        "X_train, X_test, y_train, y_test =\\\n",
        "    train_test_split(X, y, \n",
        "                     test_size=0.3, \n",
        "                     random_state=0, \n",
        "                     stratify=y)"
      ],
      "metadata": {
        "id": "LXfoA6Jk9kyN"
      },
      "execution_count": 53,
      "outputs": []
    },
    {
      "cell_type": "markdown",
      "source": [
        "인덱스 1에서 인덱스 13까지 특성을 넘파이 배열로 변환하여 변수 X에 할당. \n",
        "\n",
        "첫번째 열의 클래스 레이블은 변수 y에 할당한다. \n",
        "\n",
        "그 다음 train_test_split 함수를 사용하여 X와 y를 랜덤하게 훈련 데이터셋으로 분할\n",
        "\n",
        "test_size=0.3으로 지정했기 때문에 와인 샘플의 30%가 X_test와 y_test에 할당된다. \n",
        "\n",
        "straify 매개변수에 클래스 레이블 배열 y를 전달하면 훈련 데이터셋과 테스트 데이터셋에 있는 클래스 비율이 원본 데이터셋과 동일하게 유지된다. "
      ],
      "metadata": {
        "id": "m_Ok_jMBAkj_"
      }
    },
    {
      "cell_type": "markdown",
      "source": [
        "## 특성 스케일 맞추기\n",
        "\n",
        "결정 트리와 렌덤포레스트는 특성 스케일 조정에 대해 걱정할 필요가 없는 몇 안되는 머신러닝 알고리즘 중 하나이다. -> 이런 알고리즘은 스케일의 영향을 받지 않는다. \n",
        "\n"
      ],
      "metadata": {
        "id": "SYsNS3LjD_n1"
      }
    },
    {
      "cell_type": "markdown",
      "source": [
        "- 대부분 정규화는 특성 스케일을 [0,1] 범위에 맞추는 것을 의미한다. \n",
        "\n",
        "- 최소-최대 스케일 변환의 특별한 경우이다. \n",
        "\n",
        "- 데이터를 정규화하기 위해 다음과 같이 각 특성으 ㅣ열마다 최소-최대 스케일 젼환을 적용하여 샘플 x에서 새로운 값 x_norm을 계산한다. \n",
        "\n",
        "- 최소-최대 스케일 변환을 통한 정규화는 정해진 범위의 값이 필요할 때 유용하게 사용할 수 있느 ㄴ일반적이 ㄴ기법이다. \n"
      ],
      "metadata": {
        "id": "5vM7nCTtFKvT"
      }
    },
    {
      "cell_type": "code",
      "source": [
        "from sklearn.preprocessing import MinMaxScaler\n",
        "\n",
        "mms = MinMaxScaler()\n",
        "X_train_norm = mms.fit_transform(X_train)\n",
        "X_test_norm = mms.transform(X_test)"
      ],
      "metadata": {
        "id": "g58dP7BvABTc"
      },
      "execution_count": 54,
      "outputs": []
    },
    {
      "cell_type": "markdown",
      "source": [
        "- 표준화는 많은 머신러닝 알고리즘, 특히 경사 하강법 같은 최적화 알고리즘에서 널리 사용된다. \n",
        "\n",
        "- 3장에서 봤던 로지스틱 회귀와 SVM 같은 여러 선형 모델들은 가중치를 0 또는 0에 가까운 작은 난수로 초기화 한다. \n",
        "\n",
        "- 표준화를 사용하면 특성의 평균을 0에 맞추고 표준편차를 1로 만들어 정규 분포와 같은 특징을 가지도록 만듦. -> 이는가중치를 더 쉽게 학습할 수 있도록 함\n",
        "\n",
        "**표준화는 이상치 정보다 유지되기 때문에 제한된 범위로 데이터를 조정하는 최소-최대 스케일 변환에 비해 알고리즘이 이상치에 덜 민감하다.**"
      ],
      "metadata": {
        "id": "KZSFK9Z1FwOB"
      }
    },
    {
      "cell_type": "code",
      "source": [
        "from sklearn.preprocessing import StandardScaler\n",
        "\n",
        "stdsc = StandardScaler()\n",
        "X_train_std = stdsc.fit_transform(X_train)\n",
        "X_test_std = stdsc.transform(X_test)"
      ],
      "metadata": {
        "id": "d-mU4zuKEdR-"
      },
      "execution_count": 55,
      "outputs": []
    },
    {
      "cell_type": "code",
      "source": [
        "ex = np.array([0, 1, 2, 3, 4, 5])\n",
        "\n",
        "print('표준화:', (ex - ex.mean()) / ex.std())\n",
        "\n",
        "# 판다스는 기본적으로 ddof=1를 사용합니다(샘플 표준 편차).\n",
        "# 반면 넘파이 std 메서드와 StandardScaler는 ddof=0를 사용합니다.\n",
        "\n",
        "# 정규화합니다\n",
        "print('정규화:', (ex - ex.min()) / (ex.max() - ex.min()))"
      ],
      "metadata": {
        "colab": {
          "base_uri": "https://localhost:8080/"
        },
        "id": "JiJyBwOTHoxO",
        "outputId": "d6a227cc-b185-4163-b455-e9b82d9500e2"
      },
      "execution_count": 56,
      "outputs": [
        {
          "output_type": "stream",
          "name": "stdout",
          "text": [
            "표준화: [-1.46385011 -0.87831007 -0.29277002  0.29277002  0.87831007  1.46385011]\n",
            "정규화: [0.  0.2 0.4 0.6 0.8 1. ]\n"
          ]
        }
      ]
    },
    {
      "cell_type": "markdown",
      "source": [
        "##유용한 특성 선택\n",
        "\n",
        "모델이 테스트 데이터셋보다 훈련 데이터셋에서 성능이 훨씬 높다면 과대적합에 대한 강력한 신호이다. \n",
        "\n",
        "새로운 데이터에는 잘 일반화하지 못하기 때문에 모델 분산이 크다고 말한다.\n",
        "\n",
        "과대적합의 이유는 주어진 훈련 데이터에 비해 모델이 너무 복잡하기 때문이다.\n",
        "\n",
        "일반화 오차를 감소시키기 위해 많이 사용하는 방법은 다음과 같다. \n",
        "- 더 많은 훈련 데이터 모으기\n",
        "- 규제를 통해 복잡도 제한\n",
        "- 파라미터 개수가 적은 간단한 모델 선택\n",
        "- 데이터 차원 줄이기\n",
        "\n"
      ],
      "metadata": {
        "id": "AGIT3w_rIc2D"
      }
    },
    {
      "cell_type": "markdown",
      "source": [
        "### 모델 복잡도 제한을 위한 L1 규제와 L2 규제\n",
        "\n",
        "![image.png](data:image/png;base64,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)\n",
        "\n",
        "제곱 오차 합 그래프 (SSE)"
      ],
      "metadata": {
        "id": "N-ix3h6RKsLt"
      }
    },
    {
      "cell_type": "markdown",
      "source": [
        "L2 norm: 가중치를 모두 제곱해서 더한 값\n",
        "\n",
        "L1 norm: 가중치를 모두 절댓값화 해서 모두 더한 값"
      ],
      "metadata": {
        "id": "ZZxaKzCFShay"
      }
    },
    {
      "cell_type": "markdown",
      "source": [
        "![image.png](data:image/png;base64,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)"
      ],
      "metadata": {
        "id": "okBe7qChLHnq"
      }
    },
    {
      "cell_type": "markdown",
      "source": [
        "L1 규재는 가중치 제곱을 그냥 가중치 절댓값으로 바꾼것이다. L2 규제와는 대조적으로 L1 규제는 보통 희소한 특성 벡터를 만든다. \n",
        "\n",
        "대부분의 특성 가중치가 0이 된다. 실제로 관련 없는 특성이 많은 고차원 데이터셋일 경우 이런 희소성이 도움이 될 수 있다. \n",
        "\n",
        "특히 훈련 샘플보다 관련없는 특성이 더 많은 경우이다. -> 이런 맥락에선 L1 규제 채택"
      ],
      "metadata": {
        "id": "1VusfWyYNPCe"
      }
    },
    {
      "cell_type": "markdown",
      "source": [
        "### L2 규제의 기하학적 해석\n",
        "\n",
        "L2 규제는 비용 함수에 패널티 항을 추가한다. \n",
        "- 규제가 없는 비용함수로 훈련한 모델에 비해 가중치값을 아주 작게 만드는 효과를 낸다. \n",
        "\n",
        "\n",
        "제곱 오차합 비용 함수가 구 모양이어서 로지스틱 회귀의 비용함수보다 그리기 쉽다. \n",
        "\n",
        "우리의 목표는 훈련 데이터에서 비용 함수를 최소화하는 가중치 값의 조합을 찾는것이다. "
      ],
      "metadata": {
        "id": "-ezTmtxnNx90"
      }
    },
    {
      "cell_type": "code",
      "source": [
        "#가중치 평면에 투영된 블록 비용 함수의 등고선\n",
        "Image(url='https://git.io/JtY8I', width=500) "
      ],
      "metadata": {
        "colab": {
          "base_uri": "https://localhost:8080/",
          "height": 402
        },
        "id": "jJCIa1jiHqLK",
        "outputId": "1e4604ed-e986-473f-a79f-8272a7bd3dba"
      },
      "execution_count": 57,
      "outputs": [
        {
          "output_type": "execute_result",
          "data": {
            "text/html": [
              "<img src=\"https://git.io/JtY8I\" width=\"500\"/>"
            ],
            "text/plain": [
              "<IPython.core.display.Image object>"
            ]
          },
          "metadata": {},
          "execution_count": 57
        }
      ]
    },
    {
      "cell_type": "markdown",
      "source": [
        "규제를 더 작은 가중치를 얻기 위해 비용 함수에 추가하는 패널티 항으로 생각할 수 있다-> 큰 가중치 제한하겠다. \n",
        "\n",
        "규제 파라미터로 규제의 강도를 크게 하면 가중치가 0에 가까워지고 훈련 데이터에 대한 모델 의존성은 줄어든다. "
      ],
      "metadata": {
        "id": "8z85FSeWPAA2"
      }
    },
    {
      "cell_type": "code",
      "source": [
        "#L2 규제와 비용 함수\n",
        "Image(url='https://git.io/JtY8L', width=500) "
      ],
      "metadata": {
        "colab": {
          "base_uri": "https://localhost:8080/",
          "height": 411
        },
        "id": "N4V2XV8HOlVB",
        "outputId": "02c8d327-0ca6-48e3-e594-5d92bb1fbfcc"
      },
      "execution_count": 58,
      "outputs": [
        {
          "output_type": "execute_result",
          "data": {
            "text/html": [
              "<img src=\"https://git.io/JtY8L\" width=\"500\"/>"
            ],
            "text/plain": [
              "<IPython.core.display.Image object>"
            ]
          },
          "metadata": {},
          "execution_count": 58
        }
      ]
    },
    {
      "cell_type": "markdown",
      "source": [
        ""
      ],
      "metadata": {
        "id": "5Vs-sv5BQ1K2"
      }
    },
    {
      "cell_type": "code",
      "source": [
        ""
      ],
      "metadata": {
        "id": "2Jx8iV3DPenD"
      },
      "execution_count": null,
      "outputs": []
    }
  ]
}